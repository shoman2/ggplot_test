{
 "cells": [
  {
   "cell_type": "code",
   "execution_count": null,
   "metadata": {},
   "outputs": [],
   "source": [
    "# if + else\n",
    "money = int(input('현재 가진돈이 얼마냐?') )\n",
    "\n",
    "if money > 3000:\n",
    "    print('택시타기')\n",
    "    print('카카오택시 콜')\n",
    "else :\n",
    "    print('버스타기')\n",
    "    print('걸어가기')"
   ]
  },
  {
   "cell_type": "code",
   "execution_count": null,
   "metadata": {},
   "outputs": [],
   "source": [
    "is_there_money = False\n",
    "if is_there_money:\n",
    "    print('택시타기')\n",
    "else:\n",
    "    print('버스타기')"
   ]
  },
  {
   "cell_type": "code",
   "execution_count": null,
   "metadata": {},
   "outputs": [],
   "source": [
    "money = int(input('가진돈을입력하시오'))\n",
    "\n",
    "if money == 3000:\n",
    "    print('버스타기')\n",
    "else :\n",
    "    print('택시타기')"
   ]
  },
  {
   "cell_type": "code",
   "execution_count": null,
   "metadata": {},
   "outputs": [],
   "source": [
    "age = int(input('나이를입력하세요'))\n",
    "\n",
    "if age >= 50:\n",
    "    print('%d살--> 50대 이상!' % age)\n",
    "elif 40<= age<50:\n",
    "    print('{}살: 40대!'.format(age))\n",
    "elif 30<= age<40:\n",
    "    print('{}살: 30대!'.format(age))\n",
    "else:\n",
    "    print('{}살: 20대 또는 10대군요??'.format(age))"
   ]
  },
  {
   "cell_type": "code",
   "execution_count": null,
   "metadata": {},
   "outputs": [],
   "source": [
    "increment = 0\n",
    "\n",
    "while increment <10:\n",
    "    print('현재 {} 회'.format(increment))\n",
    "    increment += 1"
   ]
  },
  {
   "cell_type": "code",
   "execution_count": null,
   "metadata": {},
   "outputs": [],
   "source": [
    "increment = 10\n",
    "\n",
    "while increment >0:\n",
    "    print(increment)\n",
    "    increment -= 1"
   ]
  },
  {
   "cell_type": "code",
   "execution_count": null,
   "metadata": {},
   "outputs": [],
   "source": [
    "increment = 10\n",
    "\n",
    "while True:\n",
    "    print(increment)\n",
    "    increment -= 1\n",
    "    if increment ==0:\n",
    "        break\n",
    "print('세션종료')"
   ]
  },
  {
   "cell_type": "code",
   "execution_count": null,
   "metadata": {},
   "outputs": [],
   "source": [
    "range(4)"
   ]
  },
  {
   "cell_type": "code",
   "execution_count": null,
   "metadata": {},
   "outputs": [],
   "source": [
    "for item in range(4):\n",
    "    print(item)"
   ]
  },
  {
   "cell_type": "code",
   "execution_count": null,
   "metadata": {},
   "outputs": [],
   "source": [
    "for item in range(1,4) :\n",
    "    print(item)"
   ]
  },
  {
   "cell_type": "code",
   "execution_count": null,
   "metadata": {},
   "outputs": [],
   "source": [
    "for item in range(1, 10, 2):\n",
    "    print(item)"
   ]
  },
  {
   "cell_type": "code",
   "execution_count": null,
   "metadata": {},
   "outputs": [],
   "source": [
    "for item in ['냉장고', '세탁기', '선풍기']:\n",
    "    print(item)"
   ]
  },
  {
   "cell_type": "code",
   "execution_count": null,
   "metadata": {},
   "outputs": [],
   "source": [
    "for item in '세탁기':\n",
    "    print(item)"
   ]
  },
  {
   "cell_type": "markdown",
   "metadata": {},
   "source": [
    "> **Q. 반복문, 조건문을 이용해서 아래 문제를 풀어보세요.**\n",
    "> - 놀이공원 입장비를 계산해보세요!\n",
    "- 입장비는 나이에 따라 다릅니다.\n",
    "- 사용자로부터 입장할 사람의 수를 무한대로 받을 수 있습니다.\n",
    "- 사용자가 엔터를 입력하면 끝나고 지금까지 구한 입장비의 총합을 구해서 출력합니다. "
   ]
  },
  {
   "cell_type": "code",
   "execution_count": null,
   "metadata": {},
   "outputs": [],
   "source": [
    "#티켓가격\n",
    "baby_price = 1000\n",
    "child_price = 2000\n",
    "adult_price = 10000"
   ]
  },
  {
   "cell_type": "code",
   "execution_count": null,
   "metadata": {},
   "outputs": [],
   "source": [
    "#Age\n",
    "baby_limit = 2\n",
    "child_limit = 18\n",
    "adult_limit = 60"
   ]
  },
  {
   "cell_type": "code",
   "execution_count": null,
   "metadata": {},
   "outputs": [],
   "source": [
    "total_price = 0\n",
    "age = input('고객나이를 입력하세요. (엔터는종료)')\n",
    "\n",
    "while age !='':\n",
    "    age = int(age)\n",
    "    if age <= baby_limit:\n",
    "        total_price += baby_price\n",
    "    elif age <= child_limit:\n",
    "        total_price += child_price\n",
    "    elif age <= adult_limit:\n",
    "        total_price += adult_price\n",
    "\n",
    "print('총 합산 금액은 $d 입니다.' %total_price)"
   ]
  },
  {
   "cell_type": "code",
   "execution_count": null,
   "metadata": {},
   "outputs": [],
   "source": []
  },
  {
   "cell_type": "code",
   "execution_count": null,
   "metadata": {},
   "outputs": [],
   "source": []
  },
  {
   "cell_type": "code",
   "execution_count": null,
   "metadata": {},
   "outputs": [],
   "source": []
  },
  {
   "cell_type": "code",
   "execution_count": null,
   "metadata": {},
   "outputs": [],
   "source": []
  },
  {
   "cell_type": "code",
   "execution_count": null,
   "metadata": {},
   "outputs": [],
   "source": []
  }
 ],
 "metadata": {
  "kernelspec": {
   "display_name": "Python 3",
   "language": "python",
   "name": "python3"
  }
 },
 "nbformat": 4,
 "nbformat_minor": 2
}
