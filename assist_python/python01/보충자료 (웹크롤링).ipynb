{
 "cells": [
  {
   "cell_type": "markdown",
   "metadata": {},
   "source": [
    "## 복습하기 (Review for class)"
   ]
  },
  {
   "cell_type": "code",
   "execution_count": null,
   "metadata": {},
   "outputs": [],
   "source": [
    "#복습1 1~10 리스트 작성하고 3의 배수만 받는 리스트를 리스트 컴프리헨션으로 작성해보자"
   ]
  },
  {
   "cell_type": "code",
   "execution_count": null,
   "metadata": {},
   "outputs": [],
   "source": [
    "#1\n",
    "aa = [1,2,3,4,5,6,7,8,9,10]\n",
    "\n",
    "for i in aa:\n",
    "    if i%3 == 0:\n",
    "        print(i)"
   ]
  },
  {
   "cell_type": "code",
   "execution_count": null,
   "metadata": {},
   "outputs": [],
   "source": [
    "#복습2\n",
    "[i for i in aa if i%3 == 0]"
   ]
  },
  {
   "cell_type": "code",
   "execution_count": null,
   "metadata": {},
   "outputs": [],
   "source": []
  },
  {
   "cell_type": "code",
   "execution_count": null,
   "metadata": {},
   "outputs": [],
   "source": [
    "class TestClass(object):\n",
    "    def __init__(self, a, b):\n",
    "        self.aa = a\n",
    "        self.bb = b\n",
    "    \n",
    "    def get_sum(self):\n",
    "        sum_ = self.aa + self.bb\n",
    "        return sum_"
   ]
  },
  {
   "cell_type": "code",
   "execution_count": null,
   "metadata": {},
   "outputs": [],
   "source": [
    "TestClass(1,3).get_sum()"
   ]
  },
  {
   "cell_type": "code",
   "execution_count": null,
   "metadata": {},
   "outputs": [],
   "source": [
    "aaa = TestClass(1,3)\n",
    "aaa.get_sum()"
   ]
  },
  {
   "cell_type": "code",
   "execution_count": null,
   "metadata": {},
   "outputs": [],
   "source": [
    "##3 @@Property"
   ]
  },
  {
   "cell_type": "markdown",
   "metadata": {},
   "source": [
    "## 웹 크롤링 수업 Start! (신문기사내용 가져오기)"
   ]
  },
  {
   "cell_type": "code",
   "execution_count": null,
   "metadata": {},
   "outputs": [],
   "source": [
    "import requests ##requests 라는 웹크롤링 관련 패키지\n",
    "from bs4 import BeautifulSoup ##BeautifulSoup 는 웹 크롤링 패키지\n",
    "\n",
    "url = \"https://news.naver.com/main/ranking/read.nhn?mid=etc&sid1=111&rankingType=popular_day&oid=025&aid=0002877601&date=20190112&type=1&rankingSeq=1&rankingSectionId=101\"\n",
    "#긁고싶은 웹사이트 url을 네이버에 검색해서 가져옴"
   ]
  },
  {
   "cell_type": "code",
   "execution_count": null,
   "metadata": {},
   "outputs": [],
   "source": [
    "response = requests.get(url).text \n",
    "#requests.get을 통해 위에 설정한 url로부터 response를 가져옴.\n",
    "# response 가 200~400 사이가 나오면 정상\n",
    "# .text 를 붙여서 긁어옴"
   ]
  },
  {
   "cell_type": "code",
   "execution_count": null,
   "metadata": {},
   "outputs": [],
   "source": [
    "response"
   ]
  },
  {
   "cell_type": "code",
   "execution_count": null,
   "metadata": {},
   "outputs": [],
   "source": [
    "soup = BeautifulSoup(response, 'html.parser') ##html을 보기좋게 잘라주는 parser임 "
   ]
  },
  {
   "cell_type": "code",
   "execution_count": null,
   "metadata": {},
   "outputs": [],
   "source": [
    "soup"
   ]
  },
  {
   "cell_type": "code",
   "execution_count": null,
   "metadata": {},
   "outputs": [],
   "source": [
    "soup.select('#articleBodyContents') #웹페이지 구조상 네이버 신문기사는 대부분 articleBodyContents아래로 내용이 나오기때문에 해당지점 밑으로 웹 소스를 불러옴 "
   ]
  },
  {
   "cell_type": "code",
   "execution_count": null,
   "metadata": {},
   "outputs": [],
   "source": [
    "for tag_text in soup.select('#articleBodyContents'):\n",
    "    tag_text = tag_text.text.split('\\n')[-3]\n",
    "#여기서 이래중교수님께 배운 포문을 사용."
   ]
  },
  {
   "cell_type": "code",
   "execution_count": null,
   "metadata": {},
   "outputs": [],
   "source": [
    "from collections import Counter ##Counter 라는 글자수 카운트 하는 패키지 사용\n",
    "c = Counter(tag_text.split(' ')) ##띄어쓰기 기준으로 정렬해서 다 자르기"
   ]
  },
  {
   "cell_type": "code",
   "execution_count": null,
   "metadata": {},
   "outputs": [],
   "source": [
    "c.most_common() #가장 빈도수가 높은 단어를 표시하기"
   ]
  },
  {
   "cell_type": "code",
   "execution_count": null,
   "metadata": {},
   "outputs": [],
   "source": []
  },
  {
   "cell_type": "markdown",
   "metadata": {},
   "source": [
    "## 사진받아오기"
   ]
  },
  {
   "cell_type": "code",
   "execution_count": null,
   "metadata": {},
   "outputs": [],
   "source": [
    "import requests\n",
    "url = 'https://image.ytn.co.kr/general/jpg/2019/0112/201901121730062545_d.jpg'\n",
    "html = requests.get(url).content ##위 신문기사 코드와 대동소이.. 대신 .content를 사용"
   ]
  },
  {
   "cell_type": "code",
   "execution_count": null,
   "metadata": {},
   "outputs": [],
   "source": [
    "url"
   ]
  },
  {
   "cell_type": "code",
   "execution_count": null,
   "metadata": {},
   "outputs": [],
   "source": [
    "response = requests.get(url)\n",
    "response #리스폰스 체크"
   ]
  },
  {
   "cell_type": "code",
   "execution_count": null,
   "metadata": {},
   "outputs": [],
   "source": [
    "response = requests.get(url).content\n",
    "response #여기서도 .content를 사용"
   ]
  },
  {
   "cell_type": "code",
   "execution_count": null,
   "metadata": {},
   "outputs": [],
   "source": [
    "with open('sonny.jpg', 'wb') as canvas:\n",
    "    canvas.write(response)\n",
    "#배웠던 with문을 통해서.. 사진긁어오기.. 긁어와서 jpg로 저장함"
   ]
  },
  {
   "cell_type": "code",
   "execution_count": null,
   "metadata": {},
   "outputs": [],
   "source": [
    "from IPython.display import Image\n",
    "#윈도우 창으로 해당 그림 띄우기 "
   ]
  },
  {
   "cell_type": "code",
   "execution_count": null,
   "metadata": {},
   "outputs": [],
   "source": [
    "Image('sonny.jpg') ##파이썬에서 그림보기"
   ]
  },
  {
   "cell_type": "markdown",
   "metadata": {},
   "source": [
    "## 멜론차트에서 순위가져오기 (하일라이트.. 크으..)"
   ]
  },
  {
   "cell_type": "code",
   "execution_count": null,
   "metadata": {},
   "outputs": [],
   "source": [
    "from bs4 import BeautifulSoup\n",
    "html = '''\n",
    "<ol>\n",
    "<li>NEVER - 국민의 아들</li>\n",
    "<li>SIGNAL - TWICE</li>\n",
    "<li>LONELY - 씨스타</li>\n",
    "    <li>I LUV IT - PSY</li>\n",
    "    <li>New Face - PSY</li>\n",
    "</ol>\n",
    "'''"
   ]
  },
  {
   "cell_type": "code",
   "execution_count": null,
   "metadata": {},
   "outputs": [],
   "source": [
    "soup = BeautifulSoup(html, 'html.parser')"
   ]
  },
  {
   "cell_type": "code",
   "execution_count": null,
   "metadata": {},
   "outputs": [],
   "source": [
    "for tag in soup.select('li'):\n",
    "  print(tag.text)"
   ]
  },
  {
   "cell_type": "code",
   "execution_count": null,
   "metadata": {},
   "outputs": [],
   "source": [
    "soup = BeautifulSoup(html, 'html.parser') "
   ]
  },
  {
   "cell_type": "code",
   "execution_count": null,
   "metadata": {},
   "outputs": [],
   "source": []
  },
  {
   "cell_type": "code",
   "execution_count": null,
   "metadata": {},
   "outputs": [],
   "source": [
    "import requests\n",
    "from bs4 import BeautifulSoup"
   ]
  },
  {
   "cell_type": "code",
   "execution_count": null,
   "metadata": {},
   "outputs": [],
   "source": []
  },
  {
   "cell_type": "code",
   "execution_count": null,
   "metadata": {},
   "outputs": [],
   "source": [
    "url = 'https://www.melon.com/chart/index.htm'"
   ]
  },
  {
   "cell_type": "code",
   "execution_count": null,
   "metadata": {},
   "outputs": [],
   "source": [
    "hds = {\n",
    "  'User-Agent': 'Mozilla/5.0(Macintosh; Intel Mac OS X 10_10_1)AppleWebKit/537.36(KHTML, like Gecko) Chrome/39.0.2171.95 Safari/537.36'}"
   ]
  },
  {
   "cell_type": "code",
   "execution_count": null,
   "metadata": {},
   "outputs": [],
   "source": [
    "html = requests.get(url, headers = hds).text"
   ]
  },
  {
   "cell_type": "code",
   "execution_count": null,
   "metadata": {},
   "outputs": [],
   "source": [
    "soup = BeautifulSoup(html, 'html.parser')"
   ]
  },
  {
   "cell_type": "code",
   "execution_count": null,
   "metadata": {},
   "outputs": [],
   "source": [
    "soup"
   ]
  },
  {
   "cell_type": "code",
   "execution_count": null,
   "metadata": {},
   "outputs": [],
   "source": [
    "soup.find(id='tb_list')"
   ]
  },
  {
   "cell_type": "code",
   "execution_count": null,
   "metadata": {},
   "outputs": [],
   "source": [
    "soup.find(id='tb_list').find_all('tr')"
   ]
  },
  {
   "cell_type": "code",
   "execution_count": null,
   "metadata": {},
   "outputs": [],
   "source": [
    "len(soup.find(id='tb_list').find_all('tr'))"
   ]
  },
  {
   "cell_type": "code",
   "execution_count": null,
   "metadata": {},
   "outputs": [],
   "source": [
    "song_list = []\n",
    "\n",
    "for tag_text in soup.find(id='tb_list').find_all('tr'):\n",
    "    tag = tag_text.find(class_='wrap_song_info')\n",
    "    if tag:\n",
    "        tag_sub = tag.find_all(href = lambda value: value and 'playSong' in value)\n",
    "        song_list.extend(tag_sub)\n",
    "\n",
    "        \n",
    "        \n",
    "\n",
    "song_list[0].text"
   ]
  },
  {
   "cell_type": "code",
   "execution_count": null,
   "metadata": {},
   "outputs": [],
   "source": [
    "enumerate([song.text for song in song_list])"
   ]
  },
  {
   "cell_type": "code",
   "execution_count": null,
   "metadata": {},
   "outputs": [],
   "source": [
    "for idx, song in enumerate([song.text for song in song_list], 1):\n",
    "    print(\"{}위 {}\".format(idx, song))"
   ]
  },
  {
   "cell_type": "code",
   "execution_count": null,
   "metadata": {},
   "outputs": [],
   "source": [
    "soup.select('#tb_list tr .wrap_song_info a[href*=playSong]')"
   ]
  },
  {
   "cell_type": "code",
   "execution_count": null,
   "metadata": {},
   "outputs": [],
   "source": [
    "song_list = []\n",
    "for tag in soup.select('#tb_list tr .wrap_song_info a[href*=playSong]'):\n",
    "    song_list.append(tag.text)\n",
    "for idx, song in enumerate(song_list, 1):\n",
    "    print(\"{}위는 {}\".format(idx, song))"
   ]
  },
  {
   "cell_type": "markdown",
   "metadata": {},
   "source": [
    "## 네이버 실검순위 가져오기"
   ]
  },
  {
   "cell_type": "code",
   "execution_count": null,
   "metadata": {},
   "outputs": [],
   "source": [
    "https://datalab.naver.com/shoppingInsight/sCategory.naver"
   ]
  },
  {
   "cell_type": "code",
   "execution_count": null,
   "metadata": {},
   "outputs": [],
   "source": [
    "song_list = []\n",
    "for tag in soup.select('#tb_list tr .wrap_song_info a[href*=playSong]'):\n",
    "    song_list.append(tag.text)\n",
    "for idx, song in enumerate(song_list, 1):\n",
    "    print(\"{}위는 {}\".format(idx, song))"
   ]
  },
  {
   "cell_type": "code",
   "execution_count": null,
   "metadata": {},
   "outputs": [],
   "source": [
    "song_list = []\n",
    "for tag in soup.select('#tb_list tr .wrap_song_info a[href*=playSong]'):\n",
    "    song_list.append(tag.text)\n",
    "for idx, song in enumerate(song_list, 1):\n",
    "    print(\"{}위는 {}\".format(idx, song))"
   ]
  },
  {
   "cell_type": "code",
   "execution_count": null,
   "metadata": {},
   "outputs": [],
   "source": [
    "import requests\n",
    "from bs4 import BeautifulSoup\n",
    "import time\n",
    "\n",
    "\n",
    "url = 'https://www.naver.com/'\n",
    "html = requests.get(url).text\n",
    "soup = BeautifulSoup(html, 'html.parser')\n",
    "naver_kwrd = [kwrd.text for kwrd in soup.select('.ah_l .ah_a .ah_k')]\n",
    "\n",
    "for idx, kwrd in enumerate(naver_kwrd, 1):\n",
    "    print(\"{}위는 {}\".format(idx, kwrd))"
   ]
  },
  {
   "cell_type": "code",
   "execution_count": null,
   "metadata": {},
   "outputs": [],
   "source": [
    "import requests\n",
    "from bs4 import BeautifulSoup\n",
    "import time\n",
    "\n",
    "\n",
    "url = 'https://www.naver.com/'\n",
    "html = requests.get(url).text\n",
    "soup = BeautifulSoup(html, 'html.parser')\n",
    "naver_kwrd = [kwrd.text for kwrd in soup.select('.ah_l .ah_a .ah_k')]\n",
    "\n",
    "for idx, kwrd in enumerate(naver_kwrd, 1):\n",
    "    print(\"{}위는 {}\".format(idx, kwrd))"
   ]
  },
  {
   "cell_type": "code",
   "execution_count": null,
   "metadata": {},
   "outputs": [],
   "source": []
  },
  {
   "cell_type": "code",
   "execution_count": null,
   "metadata": {},
   "outputs": [],
   "source": []
  },
  {
   "cell_type": "code",
   "execution_count": null,
   "metadata": {},
   "outputs": [],
   "source": []
  }
 ],
 "metadata": {
  "kernelspec": {
   "display_name": "Python 3",
   "language": "python",
   "name": "python3"
  },
  "language_info": {
   "codemirror_mode": {
    "name": "ipython",
    "version": 3
   },
   "file_extension": ".py",
   "mimetype": "text/x-python",
   "name": "python",
   "nbconvert_exporter": "python",
   "pygments_lexer": "ipython3",
   "version": "3.7.0"
  }
 },
 "nbformat": 4,
 "nbformat_minor": 2
}
