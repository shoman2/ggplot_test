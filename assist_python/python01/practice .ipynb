{
 "cells": [
  {
   "cell_type": "code",
   "execution_count": 1,
   "metadata": {},
   "outputs": [
    {
     "name": "stdout",
     "output_type": "stream",
     "text": [
      "a={}, b={}\n"
     ]
    }
   ],
   "source": [
    "a=6\n",
    "b=8\n",
    "c=4\n",
    "d=2\n",
    "print('a={}, b={}')"
   ]
  },
  {
   "cell_type": "code",
   "execution_count": 10,
   "metadata": {},
   "outputs": [
    {
     "name": "stdout",
     "output_type": "stream",
     "text": [
      "a=4, b=2\n"
     ]
    }
   ],
   "source": [
    "print('a={}, b={}'.format(c,d))"
   ]
  },
  {
   "cell_type": "code",
   "execution_count": 18,
   "metadata": {},
   "outputs": [],
   "source": [
    "b = [3,4,5,6,['a','b','c','d']]"
   ]
  },
  {
   "cell_type": "code",
   "execution_count": 24,
   "metadata": {},
   "outputs": [
    {
     "data": {
      "text/plain": [
       "[3, 6]"
      ]
     },
     "execution_count": 24,
     "metadata": {},
     "output_type": "execute_result"
    }
   ],
   "source": [
    "b[0:4:3]"
   ]
  },
  {
   "cell_type": "code",
   "execution_count": 1,
   "metadata": {},
   "outputs": [],
   "source": [
    "import requests"
   ]
  },
  {
   "cell_type": "markdown",
   "metadata": {},
   "source": [
    "## 4.14 변수활용"
   ]
  },
  {
   "cell_type": "code",
   "execution_count": 4,
   "metadata": {},
   "outputs": [],
   "source": [
    "students = [\n",
    "    {'num':'1', 'name':'김철수','kor':90, 'eng':80, 'math':85, 'total':0, 'avg':0.0, 'order':0},\n",
    "    {'num':'2','name':'박제동','kor':90,'eng':85,'math':90,'total':0,'avg':0.0,'order':0 },\n",
    "    {'num':'3','name':'홍길동','kor':80,'eng':80,'math':80,'total':0,'avg':0.0,'order':0 }       \n",
    "]"
   ]
  },
  {
   "cell_type": "code",
   "execution_count": 7,
   "metadata": {},
   "outputs": [
    {
     "data": {
      "text/plain": [
       "90"
      ]
     },
     "execution_count": 7,
     "metadata": {},
     "output_type": "execute_result"
    }
   ],
   "source": [
    "students[0]['kor']"
   ]
  },
  {
   "cell_type": "code",
   "execution_count": 8,
   "metadata": {},
   "outputs": [
    {
     "data": {
      "text/plain": [
       "'박제동'"
      ]
     },
     "execution_count": 8,
     "metadata": {},
     "output_type": "execute_result"
    }
   ],
   "source": [
    "students[1]['name']"
   ]
  },
  {
   "cell_type": "code",
   "execution_count": 13,
   "metadata": {},
   "outputs": [
    {
     "data": {
      "text/plain": [
       "80"
      ]
     },
     "execution_count": 13,
     "metadata": {},
     "output_type": "execute_result"
    }
   ],
   "source": [
    "students[2]['eng']"
   ]
  },
  {
   "cell_type": "code",
   "execution_count": null,
   "metadata": {},
   "outputs": [],
   "source": []
  },
  {
   "cell_type": "code",
   "execution_count": null,
   "metadata": {},
   "outputs": [],
   "source": []
  },
  {
   "cell_type": "code",
   "execution_count": null,
   "metadata": {},
   "outputs": [],
   "source": []
  },
  {
   "cell_type": "code",
   "execution_count": 3,
   "metadata": {},
   "outputs": [
    {
     "name": "stdout",
     "output_type": "stream",
     "text": [
      "H\n",
      "e\n",
      "l\n",
      "l\n",
      "o\n",
      "!\n",
      "\n",
      "Hello World\n",
      "서울과학종합대학원 빅데이터MBA\n",
      "\n",
      "1\n",
      "2\n",
      "3\n",
      "\n",
      "triangle\n",
      "rectangle\n",
      "line\n",
      "\n",
      "red\n",
      "blue\n",
      "green\n"
     ]
    }
   ],
   "source": [
    "# iterable_data.py\n",
    "\n",
    "message = 'Hello!'\n",
    "messages = ['Hello World', '서울과학종합대학원 빅데이터MBA']\n",
    "numbers = (1,2,3)\n",
    "polygon = {'triangle': 2, 'rectangle': 3, 'line': 1}\n",
    "color = {'red', 'green', 'blue'}\n",
    "\n",
    "for item in message:\n",
    "    print(item)\n",
    "\n",
    "print()\n",
    "\n",
    "for item in messages:\n",
    "    print(item)\n",
    "\n",
    "print()\n",
    "\n",
    "for item in numbers:\n",
    "    print(item)\n",
    "\n",
    "print()\n",
    "\n",
    "for item in polygon:\n",
    "    print(item)\n",
    "\n",
    "print()\n",
    "\n",
    "for item in color:\n",
    "    print(item)\n"
   ]
  },
  {
   "cell_type": "code",
   "execution_count": 14,
   "metadata": {},
   "outputs": [
    {
     "name": "stdout",
     "output_type": "stream",
     "text": [
      "1부터 10까지 합은 55 입니다\n"
     ]
    }
   ],
   "source": [
    "total = 0\n",
    "\n",
    "for item in [1,2,3,4,5,6,7,8,9,10]:\n",
    "    total = total + item\n",
    "    \n",
    "print('1부터 10까지 합은 {} 입니다'.format(total))"
   ]
  },
  {
   "cell_type": "code",
   "execution_count": null,
   "metadata": {},
   "outputs": [],
   "source": [
    "# sum_numbers_100.py\n",
    "\n",
    "total = 0\n",
    "\n",
    "for item in range(1,101):\n",
    "    total = total + item\n",
    "    \n",
    "print('1부터 100까지 합은 ', total, ' 입니다.')\n"
   ]
  },
  {
   "cell_type": "code",
   "execution_count": 15,
   "metadata": {},
   "outputs": [
    {
     "name": "stdout",
     "output_type": "stream",
     "text": [
      "1부터 100까지 합은 5050 입니다.\n"
     ]
    }
   ],
   "source": [
    "total = 0\n",
    "for item in range(1,101):\n",
    "    total = total + item\n",
    "print('1부터 100까지 합은', total, '입니다.')"
   ]
  },
  {
   "cell_type": "code",
   "execution_count": null,
   "metadata": {},
   "outputs": [],
   "source": [
    "# sum_even_numbers_100.py\n",
    "\n",
    "total = 0\n",
    "\n",
    "for item in range(0,101,2):\n",
    "    total = total + item\n",
    "    \n",
    "print('1부터 100까지 짝수 합은 ', total, ' 입니다.')\n"
   ]
  },
  {
   "cell_type": "code",
   "execution_count": 18,
   "metadata": {},
   "outputs": [
    {
     "name": "stdout",
     "output_type": "stream",
     "text": [
      "1부터 100까지 짝수 합은 2550 입니다.\n"
     ]
    }
   ],
   "source": [
    "total = 0\n",
    "for item in range(0,101,2):\n",
    "    total = total + item\n",
    "    \n",
    "print('1부터 100까지 짝수 합은', total, '입니다.')"
   ]
  },
  {
   "cell_type": "code",
   "execution_count": null,
   "metadata": {},
   "outputs": [],
   "source": [
    "# sum_3_or_7_multiple_100.py\n",
    "\n",
    "total = 0\n",
    "\n",
    "for item in range(1,101):\n",
    "    if (item % 3) == 0 or (item % 7) == 0:\n",
    "        total = total + item\n",
    "    \n",
    "print('1부터 100까지에서 3 혹은 7의 배수의 합은 ', total, ' 입니다.')\n"
   ]
  },
  {
   "cell_type": "code",
   "execution_count": 26,
   "metadata": {},
   "outputs": [
    {
     "name": "stdout",
     "output_type": "stream",
     "text": [
      "1부터 100까지에서 3 혹은 7의 배수의 합은 2208 입니다.\n"
     ]
    }
   ],
   "source": [
    "total = 0\n",
    "for item in range(1,101):\n",
    "    if (item % 3)== 0 or (item % 7) == 0:\n",
    "        total = total + item\n",
    "\n",
    "print('1부터 100까지에서 3 혹은 7의 배수의 합은', total, '입니다.')"
   ]
  },
  {
   "cell_type": "code",
   "execution_count": null,
   "metadata": {},
   "outputs": [],
   "source": [
    "# for_else.py\n",
    "\n",
    "total = 0\n",
    "\n",
    "for item in range(1,101):\n",
    "    total = total + item\n",
    "else:\n",
    "    print('덧셈 작업이 끝났습니다.')\n",
    "    \n",
    "print('1부터 100까지 합은 ', total, ' 입니다.')\n",
    "##for문이 끝까지 돌면 else를 반환하라. 근데 중간에 for 문이 중간에 멈추거나 끊기면? else도 출력을 안함.\n",
    "## for 문에 else도 달리더라~\n",
    "\n",
    "\n",
    "\n"
   ]
  },
  {
   "cell_type": "code",
   "execution_count": 28,
   "metadata": {},
   "outputs": [
    {
     "name": "stdout",
     "output_type": "stream",
     "text": [
      "덧셈 작업이 끝났습니다.\n",
      "1부터 100까지 합은 5050 입니다.\n"
     ]
    }
   ],
   "source": [
    "total = 0\n",
    "\n",
    "for item in range(1,101):\n",
    "    total = total + item\n",
    "else:\n",
    "    print('덧셈 작업이 끝났습니다.')\n",
    "    \n",
    "print('1부터 100까지 합은', total, '입니다.')"
   ]
  },
  {
   "cell_type": "code",
   "execution_count": 38,
   "metadata": {},
   "outputs": [
    {
     "ename": "SyntaxError",
     "evalue": "invalid syntax (<ipython-input-38-9754a3fe8180>, line 6)",
     "output_type": "error",
     "traceback": [
      "\u001b[1;36m  File \u001b[1;32m\"<ipython-input-38-9754a3fe8180>\"\u001b[1;36m, line \u001b[1;32m6\u001b[0m\n\u001b[1;33m    for item in range(1:10)\u001b[0m\n\u001b[1;37m                       ^\u001b[0m\n\u001b[1;31mSyntaxError\u001b[0m\u001b[1;31m:\u001b[0m invalid syntax\n"
     ]
    }
   ],
   "source": [
    "##구구단을 짜보자\n",
    "\n",
    "total = 2\n",
    "\n",
    "\n",
    "for item in range(1:10)\n",
    "  item ==\n",
    "print(total)"
   ]
  },
  {
   "cell_type": "code",
   "execution_count": 40,
   "metadata": {},
   "outputs": [
    {
     "name": "stdout",
     "output_type": "stream",
     "text": [
      "3 * 1 = 3\n",
      "3 * 2 = 6\n",
      "3 * 3 = 9\n",
      "3 * 4 = 12\n",
      "3 * 5 = 15\n",
      "3 * 6 = 18\n",
      "3 * 7 = 21\n",
      "3 * 8 = 24\n",
      "3 * 9 = 27\n"
     ]
    }
   ],
   "source": [
    "# 구구단\n",
    "\n",
    "for i in range(3, 4):\n",
    "\n",
    "   \n",
    "    for j in range(1, 10):\n",
    "    \n",
    "        print(i, \"*\", j, \"=\", i * j)\n"
   ]
  },
  {
   "cell_type": "code",
   "execution_count": 52,
   "metadata": {},
   "outputs": [
    {
     "name": "stdout",
     "output_type": "stream",
     "text": [
      "begin2\n",
      "end5\n",
      "--2단 시작--\n",
      "2 * 1 = 2\n",
      "2 * 2 = 4\n",
      "2 * 3 = 6\n",
      "2 * 4 = 8\n",
      "2 * 5 = 10\n",
      "2 * 6 = 12\n",
      "2 * 7 = 14\n",
      "2 * 8 = 16\n"
     ]
    }
   ],
   "source": [
    "# 구구단\n",
    "s_val = int(input('begin'))\n",
    "e_val = int(input('end'))\n",
    "for i in range(s_val, s_val+1):\n",
    "\n",
    "    print('--{}단 시작--'.format(i))\n",
    "    \n",
    "    for j in range(1, 9):\n",
    "    \n",
    "        print(i, \"*\", j, \"=\", i * j)\n"
   ]
  },
  {
   "cell_type": "code",
   "execution_count": 53,
   "metadata": {},
   "outputs": [
    {
     "name": "stdout",
     "output_type": "stream",
     "text": [
      "[3, 6, 9, 12]\n"
     ]
    }
   ],
   "source": [
    "lst = [1,2,3,4]\n",
    "\n",
    "result = []\n",
    "for num in lst:\n",
    "    result.append(num*3)\n",
    "\n",
    "print(result)"
   ]
  },
  {
   "cell_type": "code",
   "execution_count": 59,
   "metadata": {},
   "outputs": [
    {
     "name": "stdout",
     "output_type": "stream",
     "text": [
      "[3, 6, 9, 12]\n"
     ]
    }
   ],
   "source": [
    "lst = [1,2,3,4]\n",
    "\n",
    "result = []\n",
    "\n",
    "\n",
    "for num in lst:\n",
    "    result.append(num*3)\n",
    "\n",
    "print(result)"
   ]
  },
  {
   "cell_type": "code",
   "execution_count": 60,
   "metadata": {},
   "outputs": [
    {
     "name": "stdout",
     "output_type": "stream",
     "text": [
      "[3, 6, 9, 12]\n"
     ]
    }
   ],
   "source": [
    "# list comprehension\n",
    "\n",
    "lst = [1,2,3,4]\n",
    "result = [num * 3 for num in lst]\n",
    "\n",
    "print(result)\n"
   ]
  },
  {
   "cell_type": "code",
   "execution_count": 62,
   "metadata": {},
   "outputs": [
    {
     "name": "stdout",
     "output_type": "stream",
     "text": [
      "[3, 6, 9, 12]\n"
     ]
    }
   ],
   "source": [
    "lst = [1,2,3,4]\n",
    "\n",
    "result = [num *3 for num in lst]\n",
    "\n",
    "print(result)"
   ]
  },
  {
   "cell_type": "code",
   "execution_count": 63,
   "metadata": {},
   "outputs": [
    {
     "name": "stdout",
     "output_type": "stream",
     "text": [
      "[6, 12]\n"
     ]
    }
   ],
   "source": [
    "# list comprehension with if\n",
    "\n",
    "lst = [1,2,3,4]\n",
    "result = [num * 3 for num in lst if num % 2 == 0]\n",
    "\n",
    "print(result)"
   ]
  },
  {
   "cell_type": "code",
   "execution_count": 65,
   "metadata": {},
   "outputs": [
    {
     "name": "stdout",
     "output_type": "stream",
     "text": [
      "[6, 12]\n"
     ]
    }
   ],
   "source": [
    "\n",
    "lst = [1,2,3,4]\n",
    "\n",
    "result = [num * 3 for num in lst if num % 2 == 0]\n",
    "\n",
    "print(result)"
   ]
  },
  {
   "cell_type": "code",
   "execution_count": 1,
   "metadata": {},
   "outputs": [
    {
     "name": "stdout",
     "output_type": "stream",
     "text": [
      "1\n",
      "2\n",
      "3\n",
      "4\n",
      "5\n",
      "6\n",
      "7\n",
      "8\n",
      "9\n",
      "10\n"
     ]
    }
   ],
   "source": [
    "# sum_100_while.py\n",
    "\n",
    "count = 1\n",
    "total = 0\n",
    "\n",
    "while count <= 100:\n",
    "    total = total + count\n",
    "    count = count + 1\n",
    "\n",
    "print('1부터 100까지의 합은:', total )\n"
   ]
  },
  {
   "cell_type": "code",
   "execution_count": 3,
   "metadata": {},
   "outputs": [
    {
     "name": "stdout",
     "output_type": "stream",
     "text": [
      "1부터 100까지의 합은: 5050\n"
     ]
    }
   ],
   "source": [
    "count = 1\n",
    "total = 0\n",
    "\n",
    "while count <=100:\n",
    "    total = total + count\n",
    "    count = count + 1\n",
    "\n",
    "print('1부터 100까지의 합은:', total)"
   ]
  },
  {
   "cell_type": "code",
   "execution_count": null,
   "metadata": {},
   "outputs": [],
   "source": [
    "# sum_100_else.py\n",
    "\n",
    "count  = 1\n",
    "result = 0\n",
    "\n",
    "while count <= 100:\n",
    "    result = result + count\n",
    "    count  = count + 1\n",
    "else:\n",
    "    print('덧셈이 작업 완료 되었습니다.')\n",
    "\n",
    "print('1부터 100까지의 합은:', result )\n"
   ]
  },
  {
   "cell_type": "code",
   "execution_count": null,
   "metadata": {},
   "outputs": [],
   "source": [
    "count = 1\n",
    "result = 0\n",
    "\n",
    "while count <=100:\n",
    "    result = result + count\n",
    "    count + count + 1\n",
    "else:\n",
    "    print('덧셈이 작업완료됨')"
   ]
  },
  {
   "cell_type": "code",
   "execution_count": null,
   "metadata": {},
   "outputs": [],
   "source": [
    "# break_letter.py\n",
    "\n",
    "break_letter = input('중단할 문자를 입력하시오: ')\n",
    "\n",
    "for letter in 'python':\n",
    "    if letter == break_letter:\n",
    "        break\n",
    "    print(letter)\n",
    "    \n",
    "else:\n",
    "    print('모든 문자 출력 완료!')\n"
   ]
  },
  {
   "cell_type": "code",
   "execution_count": 11,
   "metadata": {},
   "outputs": [
    {
     "name": "stdout",
     "output_type": "stream",
     "text": [
      "중단할 문자를 입력하시오: \n",
      "p\n",
      "y\n",
      "t\n",
      "h\n",
      "o\n",
      "n\n",
      "모든 문자 출력 완료!\n"
     ]
    }
   ],
   "source": [
    "# break_letter.py\n",
    "\n",
    "break_letter = input('중단할 문자를 입력하시오: ')\n",
    "\n",
    "for letter in 'python':\n",
    "    if letter == break_letter:\n",
    "        break\n",
    "    print(letter)\n",
    "    \n",
    "else:\n",
    "    print('모든 문자 출력 완료!')\n",
    "\n",
    "    "
   ]
  },
  {
   "cell_type": "code",
   "execution_count": 12,
   "metadata": {},
   "outputs": [
    {
     "data": {
      "text/plain": [
       "2"
      ]
     },
     "execution_count": 12,
     "metadata": {},
     "output_type": "execute_result"
    }
   ],
   "source": [
    "1+1"
   ]
  },
  {
   "cell_type": "code",
   "execution_count": 13,
   "metadata": {},
   "outputs": [
    {
     "data": {
      "text/plain": [
       "4"
      ]
     },
     "execution_count": 13,
     "metadata": {},
     "output_type": "execute_result"
    }
   ],
   "source": [
    "2+2"
   ]
  },
  {
   "cell_type": "code",
   "execution_count": 14,
   "metadata": {},
   "outputs": [
    {
     "name": "stdout",
     "output_type": "stream",
     "text": [
      "중단할 문자를 입력\n",
      "Wall time: 355 ms\n",
      "p\n",
      "y\n",
      "t\n",
      "h\n",
      "o\n",
      "n\n",
      "모든 문자 출력 완료!\n"
     ]
    }
   ],
   "source": [
    "%time break_letter = input('중단할 문자를 입력')\n",
    "\n",
    "for letter in 'python':\n",
    "    if letter == break_letter:\n",
    "        break\n",
    "    print(letter)\n",
    "\n",
    "else:\n",
    "    print('모든 문자 출력 완료!')"
   ]
  },
  {
   "cell_type": "code",
   "execution_count": 21,
   "metadata": {},
   "outputs": [
    {
     "name": "stdout",
     "output_type": "stream",
     "text": [
      "1. 원 그리기\n",
      "2. 사각형 그리기\n",
      "3. 선 그리기\n",
      "4. 종료\n",
      "메뉴를 선택하시오: 2\n",
      "사각형 그리기를 선택했습니다.\n",
      "1. 원 그리기\n",
      "2. 사각형 그리기\n",
      "3. 선 그리기\n",
      "4. 종료\n",
      "메뉴를 선택하시오: 2\n",
      "사각형 그리기를 선택했습니다.\n",
      "1. 원 그리기\n",
      "2. 사각형 그리기\n",
      "3. 선 그리기\n",
      "4. 종료\n",
      "메뉴를 선택하시오: 2\n",
      "사각형 그리기를 선택했습니다.\n",
      "1. 원 그리기\n",
      "2. 사각형 그리기\n",
      "3. 선 그리기\n",
      "4. 종료\n",
      "메뉴를 선택하시오: 3\n",
      "선 그리기를 선택했습니다.\n",
      "1. 원 그리기\n",
      "2. 사각형 그리기\n",
      "3. 선 그리기\n",
      "4. 종료\n",
      "메뉴를 선택하시오: 4\n",
      "종료합니다.\n"
     ]
    }
   ],
   "source": [
    "# draw_polygon.py\n",
    "\n",
    "choice = None\n",
    "\n",
    "while True:\n",
    "    print('1. 원 그리기')\n",
    "    print('2. 사각형 그리기')\n",
    "    print('3. 선 그리기')\n",
    "    print('4. 종료')\n",
    "    \n",
    "    choice = input('메뉴를 선택하시오: ')\n",
    "    \n",
    "    if choice == '1':\n",
    "        print('원 그리기를 선택했습니다.')\n",
    "    elif choice == '2':\n",
    "        print('사각형 그리기를 선택했습니다.')\n",
    "    elif choice == '3':\n",
    "        print('선 그리기를 선택했습니다.')\n",
    "    elif choice == '4':\n",
    "        print('종료합니다.')\n",
    "        break\n",
    "    else:\n",
    "        print('잘못된 선택을 했습니다.')\n"
   ]
  },
  {
   "cell_type": "markdown",
   "metadata": {},
   "source": [
    "## 예제1) 요일구하기 "
   ]
  },
  {
   "cell_type": "markdown",
   "metadata": {},
   "source": [
    "1. 서기 1년 1월 1일은 월요일이다.  \n",
    "<br>\n",
    "1. 윤년을 구하는 공식은 다음과 같다.\n",
    "  - 4로 나누어지는 해는 윤년이다.\n",
    "  - 100으로 나누어지는 해는 윤년이 아니다.\n",
    "  - 400으로 나누어지는 해는 윤년이다."
   ]
  },
  {
   "cell_type": "code",
   "execution_count": 2,
   "metadata": {},
   "outputs": [
    {
     "name": "stdout",
     "output_type": "stream",
     "text": [
      "년도를 입력하시오: 2020\n",
      "월을 입력하시오: 2\n",
      "일을 입력하시오: 7\n",
      "금요일 입니다.\n"
     ]
    }
   ],
   "source": [
    "# calculate_day.py\n",
    "\n",
    "# 년월일을 입력 받는다.\n",
    "year  = int(input('년도를 입력하시오: '))\n",
    "month = int(input('월을 입력하시오: '))\n",
    "day   = int(input('일을 입력하시오: '))\n",
    "\n",
    "total_days = 0\n",
    "\n",
    "# 달별 날수를 리스트로 저장\n",
    "year_month_days = [0,31,28,31,30,31,30,31,31,30,31,30,31]\n",
    "\n",
    "\n",
    "# 서기 1년부터 year-1 까지의 각 년도 별 날수를 합한다.\n",
    "for item in range(1, year):\n",
    "    if item % 400 == 0:                 # 400으로 나뉘는 해: 윤년\n",
    "        total_days = total_days + 366\n",
    "    elif item % 100 == 0:               # 100으로 나뉘는 해: 평년\n",
    "        total_days = total_days + 365\n",
    "    elif item % 4 == 0:                 # 4으로 나뉘는 해  : 윤년\n",
    "        total_days = total_days + 366\n",
    "    else:\n",
    "        total_days = total_days + 365\n",
    "\n",
    "\n",
    "# 1월 달부터 month-1 까지의 각 달의 날수를 합한다.\n",
    "for item in range(1, month):\n",
    "    total_days = total_days + year_month_days[item]\n",
    "    \n",
    "\n",
    "# 입력된 달이 3이상이고 해당년도가 윤년일 경우 1을 추가\n",
    "if month >= 3:\n",
    "    if year % 400 == 0:                 # 400으로 나뉘는 해: 윤년\n",
    "        total_days = total_days + 1\n",
    "    elif year % 100 == 0:               # 100으로 나뉘는 해: 평년\n",
    "        total_days = total_days + 0\n",
    "    elif year % 4 == 0:                 # 4으로 나뉘는 해  : 윤년\n",
    "        total_days = total_days + 1\n",
    "    else:\n",
    "        total_days = total_days + 0\n",
    "\n",
    "\n",
    "total_days += day\n",
    "\n",
    "# 총 날수를 7로 나눈 나머지를 구한다.\n",
    "remainder = total_days % 7\n",
    "\n",
    "if remainder == 0:\n",
    "    print('일요일 입니다.')\n",
    "elif remainder == 1:\n",
    "    print('월요일 입니다.')\n",
    "elif remainder == 2:\n",
    "    print('화요일 입니다.')\n",
    "elif remainder == 3:\n",
    "    print('수요일 입니다.')\n",
    "elif remainder == 4:\n",
    "    print('목요일 입니다.')\n",
    "elif remainder == 5:\n",
    "    print('금요일 입니다.')\n",
    "elif remainder == 6:\n",
    "    print('토요일 입니다.')\n"
   ]
  },
  {
   "cell_type": "code",
   "execution_count": 35,
   "metadata": {},
   "outputs": [
    {
     "name": "stdout",
     "output_type": "stream",
     "text": [
      "년도를 입력하세요:2200\n",
      "월을 입력하세요15\n",
      "잘못된 입력입니다.\n",
      "월을 입력하세요15\n",
      "잘못된 입력입니다.\n",
      "월을 입력하세요15\n",
      "잘못된 입력입니다.\n",
      "월을 입력하세요5\n",
      "월을 입력하세요1\n",
      "일을 입력하세요1\n",
      "수요일 입니다.\n"
     ]
    }
   ],
   "source": [
    "year = int(input('년도를 입력하세요:'))\n",
    "while True:\n",
    "    month = int(input('월을 입력하세요'))\n",
    "    if month > 12:\n",
    "        print('잘못된 입력입니다.')\n",
    "        continue\n",
    "    else:\n",
    "        break\n",
    "month = int(input('월을 입력하세요'))\n",
    "\n",
    "day = int(input('일을 입력하세요'))\n",
    "\n",
    "total_days = 0 \n",
    "\n",
    "# 달별 날수를 리스트로 저장 (1월부터 12월까지.. 막날)\n",
    "year_month_days = [0,31,28,31,30,31,30,31,31,30,31,30,31]\n",
    "\n",
    "# 서기 1년부터 year-1 까지의 각 년도 별 날수를 합한다.\n",
    "for item in range(1, year):\n",
    "    if item % 400 == 0:\n",
    "        total_days = total_days + 366\n",
    "    elif item % 100 == 0:\n",
    "        total_days = total_days + 365\n",
    "    elif item % 4 == 0:\n",
    "        total_days = total_days + 366\n",
    "    else:\n",
    "        total_days = total_days + 365\n",
    "\n",
    "    \n",
    "##############################################################\n",
    "# 1월 달부터 month-1 까지의 각 달의 날수를 합한다.\n",
    "for item in range(1, month):\n",
    "    total_days = total_days + year_month_days[item]\n",
    "\n",
    "\n",
    "# 입력된 달이 3이상이고 해당년도가 윤년일 경우 1을 추가\n",
    "if month >= 3:\n",
    "    if year % 400 == 0:                 # 400으로 나뉘는 해: 윤년\n",
    "        total_days = total_days + 1\n",
    "    elif year % 100 == 0:               # 100으로 나뉘는 해: 평년\n",
    "        total_days = total_days + 0\n",
    "    elif year % 4 == 0:                 # 4으로 나뉘는 해  : 윤년\n",
    "        total_days = total_days + 1\n",
    "    else:\n",
    "        total_days = total_days + 0\n",
    "\n",
    "total_days += day\n",
    "\n",
    "# 총 날수를 7로 나눈 나머지를 구한다.\n",
    "remainder = total_days % 7\n",
    "\n",
    "if remainder == 0:\n",
    "    print('일요일 입니다.')\n",
    "elif remainder == 1:\n",
    "    print('월요일 입니다.')\n",
    "elif remainder == 2:\n",
    "    print('화요일 입니다.')\n",
    "elif remainder == 3:\n",
    "    print('수요일 입니다.')\n",
    "elif remainder == 4:\n",
    "    print('목요일 입니다.')\n",
    "elif remainder == 5:\n",
    "    print('금요일 입니다.')\n",
    "elif remainder == 6:\n",
    "    print('토요일 입니다.')"
   ]
  },
  {
   "cell_type": "code",
   "execution_count": 36,
   "metadata": {},
   "outputs": [],
   "source": [
    "students = [\n",
    "               {'num':'1','name':'김철수','kor':90,'eng':80,'math':85,'total':0,'avg':0.0,'order':0 },\n",
    "               {'num':'2','name':'박제동','kor':90,'eng':85,'math':90,'total':0,'avg':0.0,'order':0 },\n",
    "               {'num':'3','name':'홍길동','kor':80,'eng':80,'math':80,'total':0,'avg':0.0,'order':0 }\n",
    "           ]"
   ]
  },
  {
   "cell_type": "code",
   "execution_count": 37,
   "metadata": {},
   "outputs": [
    {
     "data": {
      "text/plain": [
       "[{'num': '1',\n",
       "  'name': '김철수',\n",
       "  'kor': 90,\n",
       "  'eng': 80,\n",
       "  'math': 85,\n",
       "  'total': 0,\n",
       "  'avg': 0.0,\n",
       "  'order': 0},\n",
       " {'num': '2',\n",
       "  'name': '박제동',\n",
       "  'kor': 90,\n",
       "  'eng': 85,\n",
       "  'math': 90,\n",
       "  'total': 0,\n",
       "  'avg': 0.0,\n",
       "  'order': 0},\n",
       " {'num': '3',\n",
       "  'name': '홍길동',\n",
       "  'kor': 80,\n",
       "  'eng': 80,\n",
       "  'math': 80,\n",
       "  'total': 0,\n",
       "  'avg': 0.0,\n",
       "  'order': 0}]"
      ]
     },
     "execution_count": 37,
     "metadata": {},
     "output_type": "execute_result"
    }
   ],
   "source": [
    "students"
   ]
  },
  {
   "cell_type": "code",
   "execution_count": 38,
   "metadata": {},
   "outputs": [],
   "source": [
    "# 반 총점, 평균 및 각 과목별 총점과 평균 초기화\n",
    "class_total = 0\n",
    "class_avg   = 0.0\n",
    "kor_total   = 0\n",
    "kor_avg     = 0.0\n",
    "eng_total   = 0\n",
    "eng_avg     = 0.0\n",
    "math_total  = 0\n",
    "math_avg    = 0.0"
   ]
  },
  {
   "cell_type": "code",
   "execution_count": 40,
   "metadata": {},
   "outputs": [
    {
     "name": "stdout",
     "output_type": "stream",
     "text": [
      "번호: 1, 이름: 김철수, 국어: 90, 영어: 80, 수학: 85, 총점: 255, 평균: 85.00\n",
      "번호: 2, 이름: 박제동, 국어: 90, 영어: 85, 수학: 90, 총점: 265, 평균: 88.33\n",
      "번호: 3, 이름: 홍길동, 국어: 80, 영어: 80, 수학: 80, 총점: 240, 평균: 80.00\n",
      "\n",
      "반 평균  : 506.67\n",
      "국어 평균: 173.33\n",
      "영어 평균: 163.33\n",
      "수학 평균: 170.00\n"
     ]
    }
   ],
   "source": [
    "# 학생들의 성적 총점과 평균 및 반 총점과 과목별 총점을 구한다.\n",
    "for student in students:\n",
    "    student['total'] = student['kor'] + student['eng'] + student['math']\n",
    "    student['avg']   = student['total'] / 3\n",
    "    \n",
    "    class_total = class_total + student['total']\n",
    "    kor_total   = kor_total   + student['kor']\n",
    "    eng_total   = eng_total   + student['eng']\n",
    "    math_total  = math_total  + student['math']\n",
    "\n",
    "class_avg = class_total / len(students)\n",
    "kor_avg   = kor_total   / len(students)\n",
    "eng_avg   = eng_total   / len(students)\n",
    "math_avg  = math_total  / len(students)\n",
    "\n",
    "\n",
    "# 학생별 성적 처리 결과를 출력한다.\n",
    "for student in students:\n",
    "    print('번호: {:s}, 이름: {:s}, 국어: {:d}, 영어: {:d}, 수학: {:d}, 총점: {:d}, 평균: {:.2f}'.format(\n",
    "           student['num'], student['name'],\n",
    "           student['kor'], student['eng'], student['math'],\n",
    "           student['total'], student['avg'])\n",
    "         )\n",
    "print()\n",
    "\n",
    "\n",
    "# 반 평균 및 각 과목별 평균을 출력한다.\n",
    "print('반 평균  : {:.2f}'.format(class_avg))\n",
    "print('국어 평균: {:.2f}'.format(kor_avg)  ) \n",
    "print('영어 평균: {:.2f}'.format(eng_avg)  )\n",
    "print('수학 평균: {:.2f}'.format(math_avg) )"
   ]
  },
  {
   "cell_type": "code",
   "execution_count": 42,
   "metadata": {},
   "outputs": [
    {
     "name": "stdout",
     "output_type": "stream",
     "text": [
      "['nyc', 'newyork', 'vacation', 'traveling']\n"
     ]
    }
   ],
   "source": [
    "# 게시글 제목\n",
    "title = \"\"\"On top of the world! Life is so fantastic if you just let it.\n",
    "I have never been happier. #nyc #newyork #vacation #traveling\"\"\"\n",
    "\n",
    "tag_list = []\n",
    "for tag in title.split(\" \"):\n",
    "    if tag.startswith(\"#\"):\n",
    "        tag_list.append(tag[1:])\n",
    "\n",
    "print(tag_list)"
   ]
  },
  {
   "cell_type": "code",
   "execution_count": 43,
   "metadata": {},
   "outputs": [
    {
     "name": "stdout",
     "output_type": "stream",
     "text": [
      "['nyc', 'newyork', 'vacation', 'traveling']\n"
     ]
    }
   ],
   "source": [
    "title = \"\"\"On top of the world! Life is so fantastic if you just let it.\n",
    "I have never been happier. #nyc #newyork #vacation #traveling\"\"\"\n",
    "\n",
    "tag_list = []\n",
    "for tag in title.split(\" \"):\n",
    "    if tag.startswith(\"#\"):\n",
    "        tag_list.append(tag[1:])\n",
    "\n",
    "print(tag_list)"
   ]
  },
  {
   "cell_type": "code",
   "execution_count": null,
   "metadata": {},
   "outputs": [],
   "source": []
  },
  {
   "cell_type": "markdown",
   "metadata": {},
   "source": [
    "## 혼자연습 (파이썬 예제 300제)"
   ]
  },
  {
   "cell_type": "markdown",
   "metadata": {},
   "source": [
    "## 예제 모음"
   ]
  },
  {
   "cell_type": "code",
   "execution_count": 3,
   "metadata": {},
   "outputs": [
    {
     "name": "stdout",
     "output_type": "stream",
     "text": [
      "Hello World\n"
     ]
    }
   ],
   "source": [
    "#1. 화면에 Hello World 문자열을 출력하라.\n",
    "\n",
    "print('Hello World')"
   ]
  },
  {
   "cell_type": "code",
   "execution_count": 7,
   "metadata": {},
   "outputs": [
    {
     "name": "stdout",
     "output_type": "stream",
     "text": [
      "Mary's cosmetics\n"
     ]
    }
   ],
   "source": [
    "#2. 화면에 Mary's cosmetics을 출력하라. (중간에 '가 있음에 주의.)\n",
    "\n",
    "print(\"Mary's cosmetics\")"
   ]
  },
  {
   "cell_type": "code",
   "execution_count": 9,
   "metadata": {},
   "outputs": [
    {
     "name": "stdout",
     "output_type": "stream",
     "text": [
      "신씨가 소리질렀다. \"도둑이야\".\n"
     ]
    }
   ],
   "source": [
    "#3. 화면에 아래 문장을 출력하라. (중간에 \"가 있음에 주의.)\n",
    "# 신씨가 소리질렀다. \"도둑이야\".\n",
    "print('신씨가 소리질렀다. \"도둑이야\".')\n"
   ]
  },
  {
   "cell_type": "code",
   "execution_count": 11,
   "metadata": {},
   "outputs": [
    {
     "name": "stdout",
     "output_type": "stream",
     "text": [
      "C:\\Windows\n"
     ]
    }
   ],
   "source": [
    "#4. 화면에 \"C:\\Windows\"를 출력하라.\n",
    "print(\"C:\\Windows\")"
   ]
  },
  {
   "cell_type": "code",
   "execution_count": 23,
   "metadata": {},
   "outputs": [
    {
     "name": "stdout",
     "output_type": "stream",
     "text": [
      "안녕하세요.\n",
      "만나서반갑습니다.\n"
     ]
    }
   ],
   "source": [
    "#5. 다음 코드를 실행해보고 \\t와 \\n의 역할을 설명하라.\n",
    "print(\"안녕하세요.\\n만나서반갑습니다.\")\n",
    "# \\n 은 엔터, \\t는 탭"
   ]
  },
  {
   "cell_type": "code",
   "execution_count": 39,
   "metadata": {},
   "outputs": [
    {
     "name": "stdout",
     "output_type": "stream",
     "text": [
      "오늘은 일요일\n"
     ]
    }
   ],
   "source": [
    "#6. print 함수에 두 개의 단어를 입력한 예제이다. 아래 코드의 출력 결과를 예상하라.\n",
    "print (\"오늘은\", \"일요일\")"
   ]
  },
  {
   "cell_type": "code",
   "execution_count": 43,
   "metadata": {},
   "outputs": [
    {
     "name": "stdout",
     "output_type": "stream",
     "text": [
      "naver;kakao;sk;samsung\n"
     ]
    }
   ],
   "source": [
    "#7. print() 함수를 사용하여 다음과 같이 출력하라.\n",
    "#naver;kakao;sk;samsung\n",
    "print(\"naver;kakao;sk;samsung\", sep=\"\")"
   ]
  },
  {
   "cell_type": "code",
   "execution_count": 27,
   "metadata": {},
   "outputs": [
    {
     "name": "stdout",
     "output_type": "stream",
     "text": [
      "naver/kakao/sk/samung\n"
     ]
    }
   ],
   "source": [
    "#8. print() 함수를 사용하여 다음과 같이 출력하라.\n",
    "# naver/kakao/sk/samsung\n",
    "\n",
    "print(\"naver/kakao/sk/samung\")"
   ]
  },
  {
   "cell_type": "code",
   "execution_count": 37,
   "metadata": {},
   "outputs": [
    {
     "name": "stdout",
     "output_type": "stream",
     "text": [
      "first second\n"
     ]
    }
   ],
   "source": [
    "#9. 다음 코드를 수정하여 줄바꿈이 없이 출력되도록 하라. \n",
    "#(힌트: end='') print 함수는 두 번 사용한다. \n",
    "#세미콜론 (;)은 한줄에 여러 개의 명령을 작성하기 위해 사용된다.\n",
    "#print(\"first\");print(\"second\")\n",
    "\n",
    "print(\"first\", end=' '); print(\"second\")\n"
   ]
  },
  {
   "cell_type": "code",
   "execution_count": 45,
   "metadata": {},
   "outputs": [
    {
     "name": "stdout",
     "output_type": "stream",
     "text": [
      "38\n"
     ]
    }
   ],
   "source": [
    "#10. string 문자열의 길이를 구하여라.\n",
    "string = \"dk2jd923i1jdk2jd93jfd92jd918943jfd8923\"\n",
    "print(len(string))"
   ]
  },
  {
   "cell_type": "code",
   "execution_count": 46,
   "metadata": {},
   "outputs": [
    {
     "name": "stdout",
     "output_type": "stream",
     "text": [
      "34\n"
     ]
    }
   ],
   "source": [
    "#11. 아래 코드의 실행 결과를 예상하라.\n",
    "#>> a = \"3\"\n",
    "#>> b = \"4\"\n",
    "#>> print(a + b)\n",
    "\n",
    "a = \"3\"\n",
    "b = \"4\"\n",
    "print(a+b) \n"
   ]
  },
  {
   "cell_type": "code",
   "execution_count": 86,
   "metadata": {},
   "outputs": [
    {
     "name": "stdout",
     "output_type": "stream",
     "text": [
      "hello! python\n"
     ]
    }
   ],
   "source": [
    "#12. 변수 s와 t에는 각각 문자열이 바인딩 되어있다.\n",
    "s = \"hello\"\n",
    "t = \"python\"\n",
    "#두 변수를 이용하여 hello! python 을 출력하라\n",
    "\n",
    "print(s+\"! \"+t)"
   ]
  },
  {
   "cell_type": "code",
   "execution_count": 55,
   "metadata": {},
   "outputs": [
    {
     "name": "stdout",
     "output_type": "stream",
     "text": [
      "HiHiHi\n"
     ]
    }
   ],
   "source": [
    "#13. print(\"Hi\" * 3)\n",
    "print(\"Hi\"*3)"
   ]
  },
  {
   "cell_type": "code",
   "execution_count": 56,
   "metadata": {},
   "outputs": [
    {
     "name": "stdout",
     "output_type": "stream",
     "text": [
      "--------------------------------------------------------------------------------\n"
     ]
    }
   ],
   "source": [
    "#14. 화면에 '-'를 80개 출력하라\n",
    "print(\"-\"*80)"
   ]
  },
  {
   "cell_type": "code",
   "execution_count": 90,
   "metadata": {},
   "outputs": [
    {
     "name": "stdout",
     "output_type": "stream",
     "text": [
      "python java python java python java python java \n"
     ]
    }
   ],
   "source": [
    "#15. 변수에 다음과 같은 문자열이 바인딩되어 있다.\n",
    "\n",
    "#t1 = 'python'\n",
    "#t2 = 'java'\n",
    "\n",
    "# python java python java python java python java 출력하라\n",
    "\n",
    "t1 = 'python'\n",
    "t2 = 'java'\n",
    "\n",
    "print((t1 + ' ' + t2 + ' ') * 4)"
   ]
  },
  {
   "cell_type": "code",
   "execution_count": 76,
   "metadata": {},
   "outputs": [
    {
     "data": {
      "text/plain": [
       "200000"
      ]
     },
     "execution_count": 76,
     "metadata": {},
     "output_type": "execute_result"
    }
   ],
   "source": [
    "#16. LG전자 주식을 10주 보유하고 있습니다. \n",
    "#금일 종가 20,000원일 경우 총 평가 금액을 화면에 출력하라.\n",
    "close_price = 20000\n",
    "num_of_stocks = 10\n",
    "\n",
    "close_price * num_of_stocks"
   ]
  },
  {
   "cell_type": "code",
   "execution_count": 77,
   "metadata": {},
   "outputs": [
    {
     "data": {
      "text/plain": [
       "8"
      ]
     },
     "execution_count": 77,
     "metadata": {},
     "output_type": "execute_result"
    }
   ],
   "source": [
    "#17.  아래 코드의 실행 결과를 예측하라.\n",
    "# >> 2 + 2 * 3 \n",
    "\n",
    "2+2*3\n"
   ]
  },
  {
   "cell_type": "code",
   "execution_count": 78,
   "metadata": {},
   "outputs": [
    {
     "data": {
      "text/plain": [
       "str"
      ]
     },
     "execution_count": 78,
     "metadata": {},
     "output_type": "execute_result"
    }
   ],
   "source": [
    "#18. type() 함수는 데이터 타입을 판별합니다. \n",
    "#변수 a에는 128 숫자가 바인딩돼 있어 type 함수가 int (정수)형임을 알려줍니다.\n",
    "# >> a = 128\n",
    "# >> print (type(a))\n",
    "# <class 'int'>\n",
    "#아래 변수에 바인딩된 값의 타입을 판별하라\n",
    "# >> a = \"132\"\n",
    "\n",
    "a=\"132\"\n",
    "type(a)"
   ]
  },
  {
   "cell_type": "code",
   "execution_count": 79,
   "metadata": {},
   "outputs": [
    {
     "data": {
      "text/plain": [
       "720"
      ]
     },
     "execution_count": 79,
     "metadata": {},
     "output_type": "execute_result"
    }
   ],
   "source": [
    "#19.  # 정수형으로 변환하라\n",
    "num_str = \"720\"\n",
    "int(num_str)"
   ]
  },
  {
   "cell_type": "code",
   "execution_count": 82,
   "metadata": {},
   "outputs": [
    {
     "data": {
      "text/plain": [
       "'100'"
      ]
     },
     "execution_count": 82,
     "metadata": {},
     "output_type": "execute_result"
    }
   ],
   "source": [
    "#20. 정수 100을 문자열 '100'으로 변환하라.\n",
    "\n",
    "a = 100\n",
    "str(a)\n"
   ]
  },
  {
   "cell_type": "code",
   "execution_count": 101,
   "metadata": {},
   "outputs": [
    {
     "data": {
      "text/plain": [
       "'pt'"
      ]
     },
     "execution_count": 101,
     "metadata": {},
     "output_type": "execute_result"
    }
   ],
   "source": [
    "# 21. letters가 바인딩하는 문자열에서 첫번째와 세번째 문자를 출력하라.\n",
    "#>> lang = 'python'\n",
    "Lang = 'python'\n",
    "Lang[0:4:2]"
   ]
  },
  {
   "cell_type": "code",
   "execution_count": 114,
   "metadata": {},
   "outputs": [
    {
     "data": {
      "text/plain": [
       "2210"
      ]
     },
     "execution_count": 114,
     "metadata": {},
     "output_type": "execute_result"
    }
   ],
   "source": [
    "#22. 자동차 번호가 다음과 같을 때 뒤에 4자리만 출력하라.\n",
    "#>> license_plate = \"24가 2210\"\n",
    "\n",
    "license_plate = \"24가 2210\"\n",
    "\n",
    "int(license_plate[-4:])"
   ]
  },
  {
   "cell_type": "code",
   "execution_count": 117,
   "metadata": {},
   "outputs": [
    {
     "name": "stdout",
     "output_type": "stream",
     "text": [
      "홀홀홀\n"
     ]
    }
   ],
   "source": [
    "#23. 아래의 문자열에서 '홀' 만 출력하라.\n",
    "# >> string = \"홀짝홀짝홀짝\"\n",
    "string = \"홀짝홀짝홀짝\"\n",
    "print(string[0:6:2])\n"
   ]
  },
  {
   "cell_type": "code",
   "execution_count": 123,
   "metadata": {},
   "outputs": [
    {
     "name": "stdout",
     "output_type": "stream",
     "text": [
      "NOHTYP\n"
     ]
    }
   ],
   "source": [
    "#24. 문자열을 거꾸로 뒤집어 출력하라.\n",
    "string = \"PYTHON\"\n",
    "result = string[::-1]\n",
    "print(\"%s\"%result)"
   ]
  },
  {
   "cell_type": "code",
   "execution_count": 137,
   "metadata": {},
   "outputs": [
    {
     "data": {
      "text/plain": [
       "'010 1111 2222'"
      ]
     },
     "execution_count": 137,
     "metadata": {},
     "output_type": "execute_result"
    }
   ],
   "source": [
    "#25. 아래의 전화번호에서 하이푼 ('-')을 제거하고 출력하라.\n",
    "#>> phone_number = \"010-1111-2222\"\n",
    "\n",
    "phone_number = \"010-1111-2222\"\n",
    "a = phone_number.replace(\"-\", \" \")\n",
    "a"
   ]
  },
  {
   "cell_type": "code",
   "execution_count": 140,
   "metadata": {},
   "outputs": [
    {
     "data": {
      "text/plain": [
       "'01011112222'"
      ]
     },
     "execution_count": 140,
     "metadata": {},
     "output_type": "execute_result"
    }
   ],
   "source": [
    "#26. 25번 문제의 전화번호를 아래와 같이 모두 붙여 출력하라\n",
    "#01011112222\n",
    "\n",
    "phone_number = \"010-1111-2222\"\n",
    "a = phone_number.replace(\"-\", \"\")\n",
    "a"
   ]
  },
  {
   "cell_type": "code",
   "execution_count": 146,
   "metadata": {},
   "outputs": [
    {
     "data": {
      "text/plain": [
       "'kr'"
      ]
     },
     "execution_count": 146,
     "metadata": {},
     "output_type": "execute_result"
    }
   ],
   "source": [
    "#27. url 에 저장된 웹 페이지 주소에서 도메인을 출력하라.\n",
    "# >> url = \"http://sharebook.kr\"\n",
    "url = \"http://sharebook.kr\"\n",
    "url[-2:]"
   ]
  },
  {
   "cell_type": "code",
   "execution_count": 149,
   "metadata": {},
   "outputs": [
    {
     "ename": "TypeError",
     "evalue": "'str' object does not support item assignment",
     "output_type": "error",
     "traceback": [
      "\u001b[1;31m---------------------------------------------------------------------------\u001b[0m",
      "\u001b[1;31mTypeError\u001b[0m                                 Traceback (most recent call last)",
      "\u001b[1;32m<ipython-input-149-178a501a494e>\u001b[0m in \u001b[0;36m<module>\u001b[1;34m()\u001b[0m\n\u001b[0;32m      6\u001b[0m \u001b[1;33m\u001b[0m\u001b[0m\n\u001b[0;32m      7\u001b[0m \u001b[0mlang\u001b[0m \u001b[1;33m=\u001b[0m \u001b[1;34m'python'\u001b[0m\u001b[1;33m\u001b[0m\u001b[0m\n\u001b[1;32m----> 8\u001b[1;33m \u001b[0mlang\u001b[0m\u001b[1;33m[\u001b[0m\u001b[1;36m0\u001b[0m\u001b[1;33m]\u001b[0m \u001b[1;33m=\u001b[0m \u001b[1;34m'P'\u001b[0m\u001b[1;33m\u001b[0m\u001b[0m\n\u001b[0m\u001b[0;32m      9\u001b[0m \u001b[0mprint\u001b[0m\u001b[1;33m(\u001b[0m\u001b[0mlang\u001b[0m\u001b[1;33m)\u001b[0m\u001b[1;33m\u001b[0m\u001b[0m\n",
      "\u001b[1;31mTypeError\u001b[0m: 'str' object does not support item assignment"
     ]
    }
   ],
   "source": [
    "#28.아래 코드의 실행 결과를 예상하라\n",
    "\n",
    "#>> lang = 'python'\n",
    "#>> lang[0] = 'P'\n",
    "#>> print(lang)\n",
    "\n",
    "lang = 'python'\n",
    "lang[0] = 'P'\n",
    "print(lang)"
   ]
  },
  {
   "cell_type": "code",
   "execution_count": 156,
   "metadata": {},
   "outputs": [
    {
     "name": "stdout",
     "output_type": "stream",
     "text": [
      "Abcdfe2A354A32A\n"
     ]
    }
   ],
   "source": [
    "#29 아래 문자열에서 소문자 'a'를 대문자 'A'로 변경하라.\n",
    "#>> string = 'abcdfe2a354a32a'\n",
    "string = 'abcdfe2a354a32a'\n",
    "c = string.replace('a','A')\n",
    "print(c)"
   ]
  },
  {
   "cell_type": "code",
   "execution_count": 157,
   "metadata": {},
   "outputs": [
    {
     "name": "stdout",
     "output_type": "stream",
     "text": [
      "abcd\n"
     ]
    }
   ],
   "source": [
    "#30.아래코드결과를 예측하라\n",
    "string = 'abcd'\n",
    "string.replace('b', 'B')\n",
    "print(string)"
   ]
  },
  {
   "cell_type": "code",
   "execution_count": null,
   "metadata": {},
   "outputs": [],
   "source": []
  },
  {
   "cell_type": "code",
   "execution_count": null,
   "metadata": {},
   "outputs": [],
   "source": []
  },
  {
   "cell_type": "code",
   "execution_count": null,
   "metadata": {},
   "outputs": [],
   "source": [
    "class TestClass(object):\n",
    "    def __init__(self, a, b):\n",
    "        self.aa = a\n",
    "        self.bb = b\n",
    "    def get_sum(self):\n",
    "        "
   ]
  },
  {
   "cell_type": "code",
   "execution_count": null,
   "metadata": {},
   "outputs": [],
   "source": []
  },
  {
   "cell_type": "code",
   "execution_count": null,
   "metadata": {},
   "outputs": [],
   "source": [
    "class TestClass(object):\n",
    "    def __init__(self, a, b):\n",
    "        self.aa = a\n",
    "        self.bb = b\n",
    "    def get_sum(self)"
   ]
  },
  {
   "cell_type": "code",
   "execution_count": 13,
   "metadata": {},
   "outputs": [],
   "source": [
    "abc = [x *3 for x in range(10)]"
   ]
  },
  {
   "cell_type": "code",
   "execution_count": 14,
   "metadata": {},
   "outputs": [
    {
     "data": {
      "text/plain": [
       "[0, 3, 6, 9, 12, 15, 18, 21, 24, 27]"
      ]
     },
     "execution_count": 14,
     "metadata": {},
     "output_type": "execute_result"
    }
   ],
   "source": [
    "abc"
   ]
  },
  {
   "cell_type": "code",
   "execution_count": 18,
   "metadata": {},
   "outputs": [],
   "source": [
    "# 1~10 리스트 작성하고 3의 배수만 받는 리스트를 리스트 컴프리헨션으로 작성해보자"
   ]
  },
  {
   "cell_type": "code",
   "execution_count": 15,
   "metadata": {},
   "outputs": [],
   "source": [
    "aa = [1,2,3,4,5,6,7,8,9,10]"
   ]
  },
  {
   "cell_type": "code",
   "execution_count": 17,
   "metadata": {},
   "outputs": [
    {
     "name": "stdout",
     "output_type": "stream",
     "text": [
      "3\n",
      "6\n",
      "9\n"
     ]
    }
   ],
   "source": [
    "for i in aa:\n",
    "    if i%3 == 0:\n",
    "        print(i)"
   ]
  },
  {
   "cell_type": "code",
   "execution_count": null,
   "metadata": {},
   "outputs": [],
   "source": []
  }
 ],
 "metadata": {
  "kernelspec": {
   "display_name": "Python 3",
   "language": "python",
   "name": "python3"
  },
  "language_info": {
   "codemirror_mode": {
    "name": "ipython",
    "version": 3
   },
   "file_extension": ".py",
   "mimetype": "text/x-python",
   "name": "python",
   "nbconvert_exporter": "python",
   "pygments_lexer": "ipython3",
   "version": "3.7.0"
  }
 },
 "nbformat": 4,
 "nbformat_minor": 2
}
