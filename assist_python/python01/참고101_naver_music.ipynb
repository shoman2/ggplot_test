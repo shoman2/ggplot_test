{
 "cells": [
  {
   "cell_type": "markdown",
   "metadata": {},
   "source": [
    "# 참고: naver music "
   ]
  },
  {
   "cell_type": "code",
   "execution_count": null,
   "metadata": {},
   "outputs": [],
   "source": [
    "import urllib\n",
    "import requests\n",
    "from bs4 import BeautifulSoup as bs\n",
    "import re"
   ]
  },
  {
   "cell_type": "code",
   "execution_count": null,
   "metadata": {
    "scrolled": true
   },
   "outputs": [],
   "source": [
    "# naver 뮤직의 Psy의 New Face 가사 주소 \n",
    "\n",
    "#url = \"http://music.naver.com/lyric/index.nhn?trackId=17740104\"\n",
    "url = \"http://music.naver.com/lyric/index.nhn?trackId=17822649\"\n",
    "\n",
    "r = requests.get(url)\n",
    "\n",
    "bs_rt = bs(r.text, \"html.parser\")\n",
    "lyric = bs_rt.find(\"div\", id=\"lyricText\")\n",
    "text  = re.sub(r\"<.*?>\", \"\\\\n\", str(lyric))\n",
    "\n",
    "print (text)\n",
    "\n",
    "psy_list = text.split()\n",
    "psy_set = set(psy_list)\n",
    "psy_set"
   ]
  },
  {
   "cell_type": "code",
   "execution_count": null,
   "metadata": {},
   "outputs": [],
   "source": [
    "url2 = \"http://music.naver.com/listen/top100.nhn?domain=DOMESTIC\"\n",
    "\n",
    "r2 = requests.get(url2)\n",
    "\n",
    "naver_music = bs(r2.text, \"html.parser\")\n",
    "\n",
    "result = naver_music.find_all(\"a\", title=\"가사\")\n",
    "title  = naver_music.find_all(\"span\", class_=\"ellipsis\")"
   ]
  },
  {
   "cell_type": "code",
   "execution_count": null,
   "metadata": {},
   "outputs": [],
   "source": [
    "title = naver_music.find_all(\"a\", class_=re.compile(\"^_title\"))"
   ]
  },
  {
   "cell_type": "code",
   "execution_count": null,
   "metadata": {},
   "outputs": [],
   "source": [
    "singer = naver_music.find_all(\"td\", class_=re.compile(\"^_artist artist\"))"
   ]
  },
  {
   "cell_type": "code",
   "execution_count": null,
   "metadata": {
    "scrolled": true
   },
   "outputs": [],
   "source": [
    "singer_list = []\n",
    "\n",
    "for idx, xx in enumerate(singer):\n",
    "    if(idx == 0): continue\n",
    "    \n",
    "    print (idx, xx.text.strip())\n",
    "    singer_list.append(xx.text.strip())\n"
   ]
  },
  {
   "cell_type": "code",
   "execution_count": null,
   "metadata": {
    "scrolled": true
   },
   "outputs": [],
   "source": [
    "title_list = []\n",
    "\n",
    "for idx, xx in enumerate(title):\n",
    "    print (idx + 1, xx.text.strip())\n",
    "    title_list.append(xx.text.strip())"
   ]
  },
  {
   "cell_type": "code",
   "execution_count": null,
   "metadata": {},
   "outputs": [],
   "source": [
    "p = re.compile(r\"[0-9]{4,10}\")\n",
    "all_music = p.findall(str(result))"
   ]
  },
  {
   "cell_type": "code",
   "execution_count": null,
   "metadata": {
    "scrolled": true
   },
   "outputs": [],
   "source": [
    "all_music"
   ]
  },
  {
   "cell_type": "code",
   "execution_count": null,
   "metadata": {},
   "outputs": [],
   "source": [
    "len(all_music)"
   ]
  },
  {
   "cell_type": "code",
   "execution_count": null,
   "metadata": {
    "scrolled": true
   },
   "outputs": [],
   "source": [
    "# 이 아래 소스는 네이버 뮤직에서 가사를 가져오는 소스이다. \n",
    "# 최신 인기가요 50곡의 가사를 출력한다. \n",
    "# 매일 매일 순위가 변경된다.\n",
    "\n",
    "\n",
    "url_pre = \"http://music.naver.com/lyric/index.nhn?trackId=\"\n",
    "\n",
    "for idx, xxx in enumerate(all_music):\n",
    "    url = \"{}{}\".format(url_pre, xxx)\n",
    "    #print (url)\n",
    "    r = requests.get(url)\n",
    "\n",
    "    bs_rt = bs(r.text, \"html.parser\")\n",
    "    lyric = bs_rt.find(\"div\", id=\"lyricText\")\n",
    "    text = re.sub(r\"<.*?>\", \"\\\\n\", str(lyric))\n",
    "    print (title_list[idx])\n",
    "    print (text)\n",
    "    try:\n",
    "        f = open('data/' + '{:02d}_'.format(idx+1) + title_list[idx] + '.txt', 'w', encoding='utf-8')\n",
    "        f.write(text)\n",
    "        f.close()\n",
    "    except:\n",
    "        pass\n",
    "\n"
   ]
  },
  {
   "cell_type": "markdown",
   "metadata": {
    "collapsed": true
   },
   "source": [
    "---"
   ]
  },
  {
   "cell_type": "code",
   "execution_count": null,
   "metadata": {},
   "outputs": [],
   "source": [
    "# end of file"
   ]
  },
  {
   "cell_type": "code",
   "execution_count": null,
   "metadata": {},
   "outputs": [],
   "source": []
  }
 ],
 "metadata": {
  "kernelspec": {
   "display_name": "Python 3",
   "language": "python",
   "name": "python3"
  },
  "language_info": {
   "codemirror_mode": {
    "name": "ipython",
    "version": 3
   },
   "file_extension": ".py",
   "mimetype": "text/x-python",
   "name": "python",
   "nbconvert_exporter": "python",
   "pygments_lexer": "ipython3",
   "version": "3.7.0"
  }
 },
 "nbformat": 4,
 "nbformat_minor": 2
}
