{
 "cells": [
  {
   "cell_type": "markdown",
   "metadata": {},
   "source": [
    "# 참고: naver music "
   ]
  },
  {
   "cell_type": "code",
   "execution_count": 2,
   "metadata": {},
   "outputs": [],
   "source": [
    "import urllib\n",
    "import requests\n",
    "from bs4 import BeautifulSoup as bs\n",
    "import re"
   ]
  },
  {
   "cell_type": "code",
   "execution_count": 3,
   "metadata": {
    "scrolled": true
   },
   "outputs": [
    {
     "name": "stdout",
     "output_type": "stream",
     "text": [
      "\n",
      "조만간 얼굴 보자\n",
      "언제 밥 한번 먹자\n",
      "좋아 좋아 \n",
      "난 오늘도 기다려\n",
      "더 예뻐진 것 같네\n",
      "뭐가 이리 달콤해\n",
      "so sweet so sweet\n",
      "그럼 나 또 기대해\n",
      "\n",
      "(빠라밤 빠라밤 빠라밥 빠라밥 빠라밤)\n",
      "이번에는 진심이 맞죠\n",
      "거짓말 아니죠 진짜 보는 거죠\n",
      "(거짓말이라도 일단은 삼키고 볼래요)\n",
      "맘이 썩는 것도 아닌데 뭐 어때\n",
      "\n",
      "빈말이라도 난 좋아\n",
      "빈말이라도 난 좋아\n",
      "그 말 한마디를 잡고\n",
      "며칠은 꿈꿀 수 있어\n",
      "몇 마디라도 난 좋아\n",
      "몇 마디라도 난 좋아\n",
      "내 하룰 열고\n",
      "하룰 닫는 말 그 말\n",
      "\n",
      "담에 한번 보자고 말한 게\n",
      "언제 인지 몰라 몰라\n",
      "난 오늘 또 기다려\n",
      "점점 더 예뻐진대\n",
      "그 말만 열두 번째\n",
      "싫어 싫어\n",
      "저 영혼 없는 말투\n",
      "\n",
      "(빠라밤 빠라밤 빠라밥 빠라밥 빠라밤)\n",
      "이번에도 진심 아니죠\n",
      "거짓말인 거죠 이젠 안 속아요\n",
      "(달콤한 말들만 삼키고 삼켰던 내 맘이)\n",
      "까맣게 썩어가는 줄도 모르고\n",
      "\n",
      "빈말이 난 이젠 싫어\n",
      "빈말이 난 이제 싫어\n",
      "그 말 한마디를 잡고\n",
      "밤새 헛된 꿈꾸게 해 \n",
      "빈말 이젠 정말 싫어\n",
      "빈말 이젠 정말 싫어\n",
      "텅텅 빈 하트같이\n",
      "공허한 그 말\n",
      "\n",
      "빈말 한마디로\n",
      "하룰 버티던 나인데\n",
      "어느새 기대가 커지고 커져서\n",
      "툭툭 뱉고 사라진\n",
      "널 미워하게 된 건\n",
      "내가 변한 걸까\n",
      "내 욕심이 커져버린 걸까\n",
      "\n",
      "빈말이 난 이젠 싫어\n",
      "빈말이 난 이제 싫어\n",
      "그 말 한마디를 잡고\n",
      "밤새 헛된 꿈꾸게 해\n",
      "빈말 이젠 정말 싫어\n",
      "빈말 이젠 정말 싫어\n",
      "텅텅 빈 하트같이\n",
      "공허한 그 말\n",
      "\n"
     ]
    },
    {
     "data": {
      "text/plain": [
       "{'(거짓말이라도',\n",
       " '(달콤한',\n",
       " '(빠라밤',\n",
       " 'so',\n",
       " 'sweet',\n",
       " '같네',\n",
       " '거죠',\n",
       " '거짓말',\n",
       " '거짓말인',\n",
       " '건',\n",
       " '걸까',\n",
       " '것',\n",
       " '것도',\n",
       " '게',\n",
       " '공허한',\n",
       " '그',\n",
       " '그럼',\n",
       " '기다려',\n",
       " '기대가',\n",
       " '기대해',\n",
       " '까맣게',\n",
       " '꿈꾸게',\n",
       " '꿈꿀',\n",
       " '나',\n",
       " '나인데',\n",
       " '난',\n",
       " '내',\n",
       " '내가',\n",
       " '널',\n",
       " '닫는',\n",
       " '달콤해',\n",
       " '담에',\n",
       " '더',\n",
       " '된',\n",
       " '또',\n",
       " '마디라도',\n",
       " '말',\n",
       " '말들만',\n",
       " '말만',\n",
       " '말투',\n",
       " '말한',\n",
       " '맘이',\n",
       " '맘이)',\n",
       " '맞죠',\n",
       " '먹자',\n",
       " '며칠은',\n",
       " '몇',\n",
       " '모르고',\n",
       " '몰라',\n",
       " '뭐',\n",
       " '뭐가',\n",
       " '미워하게',\n",
       " '밤새',\n",
       " '밥',\n",
       " '뱉고',\n",
       " '버티던',\n",
       " '번째',\n",
       " '변한',\n",
       " '보는',\n",
       " '보자',\n",
       " '보자고',\n",
       " '볼래요)',\n",
       " '빈',\n",
       " '빈말',\n",
       " '빈말이',\n",
       " '빈말이라도',\n",
       " '빠라밤',\n",
       " '빠라밤)',\n",
       " '빠라밥',\n",
       " '사라진',\n",
       " '삼켰던',\n",
       " '삼키고',\n",
       " '속아요',\n",
       " '수',\n",
       " '싫어',\n",
       " '썩는',\n",
       " '썩어가는',\n",
       " '아니죠',\n",
       " '아닌데',\n",
       " '안',\n",
       " '어느새',\n",
       " '어때',\n",
       " '언제',\n",
       " '얼굴',\n",
       " '없는',\n",
       " '열고',\n",
       " '열두',\n",
       " '영혼',\n",
       " '예뻐진',\n",
       " '예뻐진대',\n",
       " '오늘',\n",
       " '오늘도',\n",
       " '욕심이',\n",
       " '이리',\n",
       " '이번에는',\n",
       " '이번에도',\n",
       " '이제',\n",
       " '이젠',\n",
       " '인지',\n",
       " '일단은',\n",
       " '있어',\n",
       " '잡고',\n",
       " '저',\n",
       " '점점',\n",
       " '정말',\n",
       " '조만간',\n",
       " '좋아',\n",
       " '줄도',\n",
       " '진심',\n",
       " '진심이',\n",
       " '진짜',\n",
       " '커져버린',\n",
       " '커져서',\n",
       " '커지고',\n",
       " '텅텅',\n",
       " '툭툭',\n",
       " '하룰',\n",
       " '하트같이',\n",
       " '한마디로',\n",
       " '한마디를',\n",
       " '한번',\n",
       " '해',\n",
       " '헛된'}"
      ]
     },
     "execution_count": 3,
     "metadata": {},
     "output_type": "execute_result"
    }
   ],
   "source": [
    "# naver 뮤직의 Psy의 New Face 가사 주소 \n",
    "\n",
    "#url = \"http://music.naver.com/lyric/index.nhn?trackId=17740104\"\n",
    "url = \"http://music.naver.com/lyric/index.nhn?trackId=17822649\"\n",
    "\n",
    "r = requests.get(url)\n",
    "\n",
    "bs_rt = bs(r.text, \"html.parser\")\n",
    "lyric = bs_rt.find(\"div\", id=\"lyricText\")\n",
    "text  = re.sub(r\"<.*?>\", \"\\\\n\", str(lyric))\n",
    "\n",
    "print (text)\n",
    "\n",
    "psy_list = text.split()\n",
    "psy_set = set(psy_list)\n",
    "psy_set"
   ]
  },
  {
   "cell_type": "code",
   "execution_count": null,
   "metadata": {},
   "outputs": [],
   "source": [
    "url2 = \"http://music.naver.com/listen/top100.nhn?domain=DOMESTIC\"\n",
    "\n",
    "r2 = requests.get(url2)\n",
    "\n",
    "naver_music = bs(r2.text, \"html.parser\")\n",
    "\n",
    "result = naver_music.find_all(\"a\", title=\"가사\")\n",
    "title  = naver_music.find_all(\"span\", class_=\"ellipsis\")"
   ]
  },
  {
   "cell_type": "code",
   "execution_count": null,
   "metadata": {},
   "outputs": [],
   "source": [
    "title = naver_music.find_all(\"a\", class_=re.compile(\"^_title\"))"
   ]
  },
  {
   "cell_type": "code",
   "execution_count": null,
   "metadata": {},
   "outputs": [],
   "source": [
    "singer = naver_music.find_all(\"td\", class_=re.compile(\"^_artist artist\"))"
   ]
  },
  {
   "cell_type": "code",
   "execution_count": null,
   "metadata": {
    "scrolled": true
   },
   "outputs": [],
   "source": [
    "singer_list = []\n",
    "\n",
    "for idx, xx in enumerate(singer):\n",
    "    if(idx == 0): continue\n",
    "    \n",
    "    print (idx, xx.text.strip())\n",
    "    singer_list.append(xx.text.strip())\n"
   ]
  },
  {
   "cell_type": "code",
   "execution_count": null,
   "metadata": {
    "scrolled": true
   },
   "outputs": [],
   "source": [
    "title_list = []\n",
    "\n",
    "for idx, xx in enumerate(title):\n",
    "    print (idx + 1, xx.text.strip())\n",
    "    title_list.append(xx.text.strip())"
   ]
  },
  {
   "cell_type": "code",
   "execution_count": null,
   "metadata": {},
   "outputs": [],
   "source": [
    "p = re.compile(r\"[0-9]{4,10}\")\n",
    "all_music = p.findall(str(result))"
   ]
  },
  {
   "cell_type": "code",
   "execution_count": null,
   "metadata": {
    "scrolled": true
   },
   "outputs": [],
   "source": [
    "all_music"
   ]
  },
  {
   "cell_type": "code",
   "execution_count": null,
   "metadata": {},
   "outputs": [],
   "source": [
    "len(all_music)"
   ]
  },
  {
   "cell_type": "code",
   "execution_count": null,
   "metadata": {
    "scrolled": true
   },
   "outputs": [],
   "source": [
    "# 이 아래 소스는 네이버 뮤직에서 가사를 가져오는 소스이다. \n",
    "# 최신 인기가요 50곡의 가사를 출력한다. \n",
    "# 매일 매일 순위가 변경된다.\n",
    "\n",
    "\n",
    "url_pre = \"http://music.naver.com/lyric/index.nhn?trackId=\"\n",
    "\n",
    "for idx, xxx in enumerate(all_music):\n",
    "    url = \"{}{}\".format(url_pre, xxx)\n",
    "    #print (url)\n",
    "    r = requests.get(url)\n",
    "\n",
    "    bs_rt = bs(r.text, \"html.parser\")\n",
    "    lyric = bs_rt.find(\"div\", id=\"lyricText\")\n",
    "    text = re.sub(r\"<.*?>\", \"\\\\n\", str(lyric))\n",
    "    print (title_list[idx])\n",
    "    print (text)\n",
    "    try:\n",
    "        f = open('data/' + '{:02d}_'.format(idx+1) + title_list[idx] + '.txt', 'w', encoding='utf-8')\n",
    "        f.write(text)\n",
    "        f.close()\n",
    "    except:\n",
    "        pass\n",
    "\n"
   ]
  },
  {
   "cell_type": "markdown",
   "metadata": {
    "collapsed": true
   },
   "source": [
    "---"
   ]
  },
  {
   "cell_type": "code",
   "execution_count": null,
   "metadata": {},
   "outputs": [],
   "source": [
    "# end of file"
   ]
  },
  {
   "cell_type": "code",
   "execution_count": null,
   "metadata": {},
   "outputs": [],
   "source": []
  }
 ],
 "metadata": {
  "kernelspec": {
   "display_name": "Python 3",
   "language": "python",
   "name": "python3"
  },
  "language_info": {
   "codemirror_mode": {
    "name": "ipython",
    "version": 3
   },
   "file_extension": ".py",
   "mimetype": "text/x-python",
   "name": "python",
   "nbconvert_exporter": "python",
   "pygments_lexer": "ipython3",
   "version": "3.7.0"
  }
 },
 "nbformat": 4,
 "nbformat_minor": 2
}
