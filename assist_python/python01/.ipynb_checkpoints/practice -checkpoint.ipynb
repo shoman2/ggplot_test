{
 "cells": [
  {
   "cell_type": "code",
   "execution_count": 8,
   "metadata": {},
   "outputs": [
    {
     "name": "stdout",
     "output_type": "stream",
     "text": [
      "a={}, b={}\n"
     ]
    }
   ],
   "source": [
    "a=6\n",
    "b=8\n",
    "c=4\n",
    "d=2\n",
    "print('a={}, b={}')"
   ]
  },
  {
   "cell_type": "code",
   "execution_count": 10,
   "metadata": {},
   "outputs": [
    {
     "name": "stdout",
     "output_type": "stream",
     "text": [
      "a=4, b=2\n"
     ]
    }
   ],
   "source": [
    "print('a={}, b={}'.format(c,d))"
   ]
  },
  {
   "cell_type": "code",
   "execution_count": 18,
   "metadata": {},
   "outputs": [],
   "source": [
    "b = [3,4,5,6,['a','b','c','d']]"
   ]
  },
  {
   "cell_type": "code",
   "execution_count": 24,
   "metadata": {},
   "outputs": [
    {
     "data": {
      "text/plain": [
       "[3, 6]"
      ]
     },
     "execution_count": 24,
     "metadata": {},
     "output_type": "execute_result"
    }
   ],
   "source": [
    "b[0:4:3]"
   ]
  },
  {
   "cell_type": "code",
   "execution_count": 27,
   "metadata": {},
   "outputs": [
    {
     "ename": "IndexError",
     "evalue": "list index out of range",
     "output_type": "error",
     "traceback": [
      "\u001b[1;31m---------------------------------------------------------------------------\u001b[0m",
      "\u001b[1;31mIndexError\u001b[0m                                Traceback (most recent call last)",
      "\u001b[1;32m<ipython-input-27-986d838ecd1e>\u001b[0m in \u001b[0;36m<module>\u001b[1;34m()\u001b[0m\n\u001b[1;32m----> 1\u001b[1;33m \u001b[0ma\u001b[0m \u001b[1;33m=\u001b[0m \u001b[0mb\u001b[0m\u001b[1;33m[\u001b[0m\u001b[1;36m5\u001b[0m\u001b[1;33m]\u001b[0m\u001b[1;33m\u001b[0m\u001b[0m\n\u001b[0m",
      "\u001b[1;31mIndexError\u001b[0m: list index out of range"
     ]
    }
   ],
   "source": []
  },
  {
   "cell_type": "markdown",
   "metadata": {},
   "source": [
    "## 4.14 변수활용"
   ]
  },
  {
   "cell_type": "code",
   "execution_count": 4,
   "metadata": {},
   "outputs": [],
   "source": [
    "students = [\n",
    "    {'num':'1', 'name':'김철수','kor':90, 'eng':80, 'math':85, 'total':0, 'avg':0.0, 'order':0},\n",
    "    {'num':'2','name':'박제동','kor':90,'eng':85,'math':90,'total':0,'avg':0.0,'order':0 },\n",
    "    {'num':'3','name':'홍길동','kor':80,'eng':80,'math':80,'total':0,'avg':0.0,'order':0 }       \n",
    "]"
   ]
  },
  {
   "cell_type": "code",
   "execution_count": 7,
   "metadata": {},
   "outputs": [
    {
     "data": {
      "text/plain": [
       "90"
      ]
     },
     "execution_count": 7,
     "metadata": {},
     "output_type": "execute_result"
    }
   ],
   "source": [
    "students[0]['kor']"
   ]
  },
  {
   "cell_type": "code",
   "execution_count": 8,
   "metadata": {},
   "outputs": [
    {
     "data": {
      "text/plain": [
       "'박제동'"
      ]
     },
     "execution_count": 8,
     "metadata": {},
     "output_type": "execute_result"
    }
   ],
   "source": [
    "students[1]['name']"
   ]
  },
  {
   "cell_type": "code",
   "execution_count": 13,
   "metadata": {},
   "outputs": [
    {
     "data": {
      "text/plain": [
       "80"
      ]
     },
     "execution_count": 13,
     "metadata": {},
     "output_type": "execute_result"
    }
   ],
   "source": [
    "students[2]['eng']"
   ]
  },
  {
   "cell_type": "code",
   "execution_count": null,
   "metadata": {},
   "outputs": [],
   "source": []
  },
  {
   "cell_type": "code",
   "execution_count": null,
   "metadata": {},
   "outputs": [],
   "source": []
  },
  {
   "cell_type": "code",
   "execution_count": null,
   "metadata": {},
   "outputs": [],
   "source": []
  },
  {
   "cell_type": "code",
   "execution_count": 3,
   "metadata": {},
   "outputs": [
    {
     "name": "stdout",
     "output_type": "stream",
     "text": [
      "H\n",
      "e\n",
      "l\n",
      "l\n",
      "o\n",
      "!\n",
      "\n",
      "Hello World\n",
      "서울과학종합대학원 빅데이터MBA\n",
      "\n",
      "1\n",
      "2\n",
      "3\n",
      "\n",
      "triangle\n",
      "rectangle\n",
      "line\n",
      "\n",
      "red\n",
      "blue\n",
      "green\n"
     ]
    }
   ],
   "source": [
    "# iterable_data.py\n",
    "\n",
    "message = 'Hello!'\n",
    "messages = ['Hello World', '서울과학종합대학원 빅데이터MBA']\n",
    "numbers = (1,2,3)\n",
    "polygon = {'triangle': 2, 'rectangle': 3, 'line': 1}\n",
    "color = {'red', 'green', 'blue'}\n",
    "\n",
    "for item in message:\n",
    "    print(item)\n",
    "\n",
    "print()\n",
    "\n",
    "for item in messages:\n",
    "    print(item)\n",
    "\n",
    "print()\n",
    "\n",
    "for item in numbers:\n",
    "    print(item)\n",
    "\n",
    "print()\n",
    "\n",
    "for item in polygon:\n",
    "    print(item)\n",
    "\n",
    "print()\n",
    "\n",
    "for item in color:\n",
    "    print(item)\n"
   ]
  },
  {
   "cell_type": "code",
   "execution_count": 14,
   "metadata": {},
   "outputs": [
    {
     "name": "stdout",
     "output_type": "stream",
     "text": [
      "1부터 10까지 합은 55 입니다\n"
     ]
    }
   ],
   "source": [
    "total = 0\n",
    "\n",
    "for item in [1,2,3,4,5,6,7,8,9,10]:\n",
    "    total = total + item\n",
    "    \n",
    "print('1부터 10까지 합은 {} 입니다'.format(total))"
   ]
  },
  {
   "cell_type": "code",
   "execution_count": null,
   "metadata": {},
   "outputs": [],
   "source": [
    "# sum_numbers_100.py\n",
    "\n",
    "total = 0\n",
    "\n",
    "for item in range(1,101):\n",
    "    total = total + item\n",
    "    \n",
    "print('1부터 100까지 합은 ', total, ' 입니다.')\n"
   ]
  },
  {
   "cell_type": "code",
   "execution_count": 15,
   "metadata": {},
   "outputs": [
    {
     "name": "stdout",
     "output_type": "stream",
     "text": [
      "1부터 100까지 합은 5050 입니다.\n"
     ]
    }
   ],
   "source": [
    "total = 0\n",
    "for item in range(1,101):\n",
    "    total = total + item\n",
    "print('1부터 100까지 합은', total, '입니다.')"
   ]
  },
  {
   "cell_type": "code",
   "execution_count": null,
   "metadata": {},
   "outputs": [],
   "source": [
    "# sum_even_numbers_100.py\n",
    "\n",
    "total = 0\n",
    "\n",
    "for item in range(0,101,2):\n",
    "    total = total + item\n",
    "    \n",
    "print('1부터 100까지 짝수 합은 ', total, ' 입니다.')\n"
   ]
  },
  {
   "cell_type": "code",
   "execution_count": 18,
   "metadata": {},
   "outputs": [
    {
     "name": "stdout",
     "output_type": "stream",
     "text": [
      "1부터 100까지 짝수 합은 2550 입니다.\n"
     ]
    }
   ],
   "source": [
    "total = 0\n",
    "for item in range(0,101,2):\n",
    "    total = total + item\n",
    "    \n",
    "print('1부터 100까지 짝수 합은', total, '입니다.')"
   ]
  },
  {
   "cell_type": "code",
   "execution_count": null,
   "metadata": {},
   "outputs": [],
   "source": [
    "# sum_3_or_7_multiple_100.py\n",
    "\n",
    "total = 0\n",
    "\n",
    "for item in range(1,101):\n",
    "    if (item % 3) == 0 or (item % 7) == 0:\n",
    "        total = total + item\n",
    "    \n",
    "print('1부터 100까지에서 3 혹은 7의 배수의 합은 ', total, ' 입니다.')\n"
   ]
  },
  {
   "cell_type": "code",
   "execution_count": 26,
   "metadata": {},
   "outputs": [
    {
     "name": "stdout",
     "output_type": "stream",
     "text": [
      "1부터 100까지에서 3 혹은 7의 배수의 합은 2208 입니다.\n"
     ]
    }
   ],
   "source": [
    "total = 0\n",
    "for item in range(1,101):\n",
    "    if (item % 3)== 0 or (item % 7) == 0:\n",
    "        total = total + item\n",
    "\n",
    "print('1부터 100까지에서 3 혹은 7의 배수의 합은', total, '입니다.')"
   ]
  },
  {
   "cell_type": "code",
   "execution_count": null,
   "metadata": {},
   "outputs": [],
   "source": [
    "# for_else.py\n",
    "\n",
    "total = 0\n",
    "\n",
    "for item in range(1,101):\n",
    "    total = total + item\n",
    "else:\n",
    "    print('덧셈 작업이 끝났습니다.')\n",
    "    \n",
    "print('1부터 100까지 합은 ', total, ' 입니다.')\n",
    "##for문이 끝까지 돌면 else를 반환하라. 근데 중간에 for 문이 중간에 멈추거나 끊기면? else도 출력을 안함.\n",
    "## for 문에 else도 달리더라~\n",
    "\n",
    "\n",
    "\n"
   ]
  },
  {
   "cell_type": "code",
   "execution_count": 28,
   "metadata": {},
   "outputs": [
    {
     "name": "stdout",
     "output_type": "stream",
     "text": [
      "덧셈 작업이 끝났습니다.\n",
      "1부터 100까지 합은 5050 입니다.\n"
     ]
    }
   ],
   "source": [
    "total = 0\n",
    "\n",
    "for item in range(1,101):\n",
    "    total = total + item\n",
    "else:\n",
    "    print('덧셈 작업이 끝났습니다.')\n",
    "    \n",
    "print('1부터 100까지 합은', total, '입니다.')"
   ]
  },
  {
   "cell_type": "code",
   "execution_count": 38,
   "metadata": {},
   "outputs": [
    {
     "ename": "SyntaxError",
     "evalue": "invalid syntax (<ipython-input-38-9754a3fe8180>, line 6)",
     "output_type": "error",
     "traceback": [
      "\u001b[1;36m  File \u001b[1;32m\"<ipython-input-38-9754a3fe8180>\"\u001b[1;36m, line \u001b[1;32m6\u001b[0m\n\u001b[1;33m    for item in range(1:10)\u001b[0m\n\u001b[1;37m                       ^\u001b[0m\n\u001b[1;31mSyntaxError\u001b[0m\u001b[1;31m:\u001b[0m invalid syntax\n"
     ]
    }
   ],
   "source": [
    "##구구단을 짜보자\n",
    "\n",
    "total = 2\n",
    "\n",
    "\n",
    "for item in range(1:10)\n",
    "  item ==\n",
    "print(total)"
   ]
  },
  {
   "cell_type": "code",
   "execution_count": 40,
   "metadata": {},
   "outputs": [
    {
     "name": "stdout",
     "output_type": "stream",
     "text": [
      "3 * 1 = 3\n",
      "3 * 2 = 6\n",
      "3 * 3 = 9\n",
      "3 * 4 = 12\n",
      "3 * 5 = 15\n",
      "3 * 6 = 18\n",
      "3 * 7 = 21\n",
      "3 * 8 = 24\n",
      "3 * 9 = 27\n"
     ]
    }
   ],
   "source": [
    "# 구구단\n",
    "\n",
    "for i in range(3, 4):\n",
    "\n",
    "   \n",
    "    for j in range(1, 10):\n",
    "    \n",
    "        print(i, \"*\", j, \"=\", i * j)\n"
   ]
  },
  {
   "cell_type": "code",
   "execution_count": 52,
   "metadata": {},
   "outputs": [
    {
     "name": "stdout",
     "output_type": "stream",
     "text": [
      "begin2\n",
      "end5\n",
      "--2단 시작--\n",
      "2 * 1 = 2\n",
      "2 * 2 = 4\n",
      "2 * 3 = 6\n",
      "2 * 4 = 8\n",
      "2 * 5 = 10\n",
      "2 * 6 = 12\n",
      "2 * 7 = 14\n",
      "2 * 8 = 16\n"
     ]
    }
   ],
   "source": [
    "# 구구단\n",
    "s_val = int(input('begin'))\n",
    "e_val = int(input('end'))\n",
    "for i in range(s_val, s_val+1):\n",
    "\n",
    "    print('--{}단 시작--'.format(i))\n",
    "    \n",
    "    for j in range(1, 9):\n",
    "    \n",
    "        print(i, \"*\", j, \"=\", i * j)\n"
   ]
  },
  {
   "cell_type": "code",
   "execution_count": 53,
   "metadata": {},
   "outputs": [
    {
     "name": "stdout",
     "output_type": "stream",
     "text": [
      "[3, 6, 9, 12]\n"
     ]
    }
   ],
   "source": [
    "lst = [1,2,3,4]\n",
    "\n",
    "result = []\n",
    "for num in lst:\n",
    "    result.append(num*3)\n",
    "\n",
    "print(result)"
   ]
  },
  {
   "cell_type": "code",
   "execution_count": 59,
   "metadata": {},
   "outputs": [
    {
     "name": "stdout",
     "output_type": "stream",
     "text": [
      "[3, 6, 9, 12]\n"
     ]
    }
   ],
   "source": [
    "lst = [1,2,3,4]\n",
    "\n",
    "result = []\n",
    "\n",
    "\n",
    "for num in lst:\n",
    "    result.append(num*3)\n",
    "\n",
    "print(result)"
   ]
  },
  {
   "cell_type": "code",
   "execution_count": 60,
   "metadata": {},
   "outputs": [
    {
     "name": "stdout",
     "output_type": "stream",
     "text": [
      "[3, 6, 9, 12]\n"
     ]
    }
   ],
   "source": [
    "# list comprehension\n",
    "\n",
    "lst = [1,2,3,4]\n",
    "result = [num * 3 for num in lst]\n",
    "\n",
    "print(result)\n"
   ]
  },
  {
   "cell_type": "code",
   "execution_count": 62,
   "metadata": {},
   "outputs": [
    {
     "name": "stdout",
     "output_type": "stream",
     "text": [
      "[3, 6, 9, 12]\n"
     ]
    }
   ],
   "source": [
    "lst = [1,2,3,4]\n",
    "\n",
    "result = [num *3 for num in lst]\n",
    "\n",
    "print(result)"
   ]
  },
  {
   "cell_type": "code",
   "execution_count": 63,
   "metadata": {},
   "outputs": [
    {
     "name": "stdout",
     "output_type": "stream",
     "text": [
      "[6, 12]\n"
     ]
    }
   ],
   "source": [
    "# list comprehension with if\n",
    "\n",
    "lst = [1,2,3,4]\n",
    "result = [num * 3 for num in lst if num % 2 == 0]\n",
    "\n",
    "print(result)"
   ]
  },
  {
   "cell_type": "code",
   "execution_count": 65,
   "metadata": {},
   "outputs": [
    {
     "name": "stdout",
     "output_type": "stream",
     "text": [
      "[6, 12]\n"
     ]
    }
   ],
   "source": [
    "\n",
    "lst = [1,2,3,4]\n",
    "\n",
    "result = [num * 3 for num in lst if num % 2 == 0]\n",
    "\n",
    "print(result)"
   ]
  },
  {
   "cell_type": "code",
   "execution_count": 1,
   "metadata": {},
   "outputs": [
    {
     "name": "stdout",
     "output_type": "stream",
     "text": [
      "1\n",
      "2\n",
      "3\n",
      "4\n",
      "5\n",
      "6\n",
      "7\n",
      "8\n",
      "9\n",
      "10\n"
     ]
    }
   ],
   "source": [
    "# sum_100_while.py\n",
    "\n",
    "count = 1\n",
    "total = 0\n",
    "\n",
    "while count <= 100:\n",
    "    total = total + count\n",
    "    count = count + 1\n",
    "\n",
    "print('1부터 100까지의 합은:', total )\n"
   ]
  },
  {
   "cell_type": "code",
   "execution_count": 3,
   "metadata": {},
   "outputs": [
    {
     "name": "stdout",
     "output_type": "stream",
     "text": [
      "1부터 100까지의 합은: 5050\n"
     ]
    }
   ],
   "source": [
    "count = 1\n",
    "total = 0\n",
    "\n",
    "while count <=100:\n",
    "    total = total + count\n",
    "    count = count + 1\n",
    "\n",
    "print('1부터 100까지의 합은:', total)"
   ]
  },
  {
   "cell_type": "code",
   "execution_count": null,
   "metadata": {},
   "outputs": [],
   "source": [
    "# sum_100_else.py\n",
    "\n",
    "count  = 1\n",
    "result = 0\n",
    "\n",
    "while count <= 100:\n",
    "    result = result + count\n",
    "    count  = count + 1\n",
    "else:\n",
    "    print('덧셈이 작업 완료 되었습니다.')\n",
    "\n",
    "print('1부터 100까지의 합은:', result )\n"
   ]
  },
  {
   "cell_type": "code",
   "execution_count": null,
   "metadata": {},
   "outputs": [],
   "source": [
    "count = 1\n",
    "result = 0\n",
    "\n",
    "while count <=100:\n",
    "    result = result + count\n",
    "    count + count + 1\n",
    "else:\n",
    "    print('덧셈이 작업완료됨')"
   ]
  },
  {
   "cell_type": "code",
   "execution_count": null,
   "metadata": {},
   "outputs": [],
   "source": [
    "# break_letter.py\n",
    "\n",
    "break_letter = input('중단할 문자를 입력하시오: ')\n",
    "\n",
    "for letter in 'python':\n",
    "    if letter == break_letter:\n",
    "        break\n",
    "    print(letter)\n",
    "    \n",
    "else:\n",
    "    print('모든 문자 출력 완료!')\n"
   ]
  },
  {
   "cell_type": "code",
   "execution_count": 11,
   "metadata": {},
   "outputs": [
    {
     "name": "stdout",
     "output_type": "stream",
     "text": [
      "중단할 문자를 입력하시오: \n",
      "p\n",
      "y\n",
      "t\n",
      "h\n",
      "o\n",
      "n\n",
      "모든 문자 출력 완료!\n"
     ]
    }
   ],
   "source": [
    "# break_letter.py\n",
    "\n",
    "break_letter = input('중단할 문자를 입력하시오: ')\n",
    "\n",
    "for letter in 'python':\n",
    "    if letter == break_letter:\n",
    "        break\n",
    "    print(letter)\n",
    "    \n",
    "else:\n",
    "    print('모든 문자 출력 완료!')\n",
    "\n",
    "    "
   ]
  },
  {
   "cell_type": "code",
   "execution_count": 12,
   "metadata": {},
   "outputs": [
    {
     "data": {
      "text/plain": [
       "2"
      ]
     },
     "execution_count": 12,
     "metadata": {},
     "output_type": "execute_result"
    }
   ],
   "source": [
    "1+1"
   ]
  },
  {
   "cell_type": "code",
   "execution_count": 13,
   "metadata": {},
   "outputs": [
    {
     "data": {
      "text/plain": [
       "4"
      ]
     },
     "execution_count": 13,
     "metadata": {},
     "output_type": "execute_result"
    }
   ],
   "source": [
    "2+2"
   ]
  },
  {
   "cell_type": "code",
   "execution_count": 14,
   "metadata": {},
   "outputs": [
    {
     "name": "stdout",
     "output_type": "stream",
     "text": [
      "중단할 문자를 입력\n",
      "Wall time: 355 ms\n",
      "p\n",
      "y\n",
      "t\n",
      "h\n",
      "o\n",
      "n\n",
      "모든 문자 출력 완료!\n"
     ]
    }
   ],
   "source": [
    "%time break_letter = input('중단할 문자를 입력')\n",
    "\n",
    "for letter in 'python':\n",
    "    if letter == break_letter:\n",
    "        break\n",
    "    print(letter)\n",
    "\n",
    "else:\n",
    "    print('모든 문자 출력 완료!')"
   ]
  },
  {
   "cell_type": "code",
   "execution_count": 21,
   "metadata": {},
   "outputs": [
    {
     "name": "stdout",
     "output_type": "stream",
     "text": [
      "1. 원 그리기\n",
      "2. 사각형 그리기\n",
      "3. 선 그리기\n",
      "4. 종료\n",
      "메뉴를 선택하시오: 2\n",
      "사각형 그리기를 선택했습니다.\n",
      "1. 원 그리기\n",
      "2. 사각형 그리기\n",
      "3. 선 그리기\n",
      "4. 종료\n",
      "메뉴를 선택하시오: 2\n",
      "사각형 그리기를 선택했습니다.\n",
      "1. 원 그리기\n",
      "2. 사각형 그리기\n",
      "3. 선 그리기\n",
      "4. 종료\n",
      "메뉴를 선택하시오: 2\n",
      "사각형 그리기를 선택했습니다.\n",
      "1. 원 그리기\n",
      "2. 사각형 그리기\n",
      "3. 선 그리기\n",
      "4. 종료\n",
      "메뉴를 선택하시오: 3\n",
      "선 그리기를 선택했습니다.\n",
      "1. 원 그리기\n",
      "2. 사각형 그리기\n",
      "3. 선 그리기\n",
      "4. 종료\n",
      "메뉴를 선택하시오: 4\n",
      "종료합니다.\n"
     ]
    }
   ],
   "source": [
    "# draw_polygon.py\n",
    "\n",
    "choice = None\n",
    "\n",
    "while True:\n",
    "    print('1. 원 그리기')\n",
    "    print('2. 사각형 그리기')\n",
    "    print('3. 선 그리기')\n",
    "    print('4. 종료')\n",
    "    \n",
    "    choice = input('메뉴를 선택하시오: ')\n",
    "    \n",
    "    if choice == '1':\n",
    "        print('원 그리기를 선택했습니다.')\n",
    "    elif choice == '2':\n",
    "        print('사각형 그리기를 선택했습니다.')\n",
    "    elif choice == '3':\n",
    "        print('선 그리기를 선택했습니다.')\n",
    "    elif choice == '4':\n",
    "        print('종료합니다.')\n",
    "        break\n",
    "    else:\n",
    "        print('잘못된 선택을 했습니다.')\n"
   ]
  },
  {
   "cell_type": "markdown",
   "metadata": {},
   "source": [
    "## 예제1) 요일구하기 "
   ]
  },
  {
   "cell_type": "markdown",
   "metadata": {},
   "source": [
    "1. 서기 1년 1월 1일은 월요일이다.  \n",
    "<br>\n",
    "1. 윤년을 구하는 공식은 다음과 같다.\n",
    "  - 4로 나누어지는 해는 윤년이다.\n",
    "  - 100으로 나누어지는 해는 윤년이 아니다.\n",
    "  - 400으로 나누어지는 해는 윤년이다."
   ]
  },
  {
   "cell_type": "code",
   "execution_count": null,
   "metadata": {},
   "outputs": [],
   "source": [
    "# calculate_day.py\n",
    "\n",
    "# 년월일을 입력 받는다.\n",
    "year  = int(input('년도를 입력하시오: '))\n",
    "month = int(input('월을 입력하시오: '))\n",
    "day   = int(input('일을 입력하시오: '))\n",
    "\n",
    "total_days = 0\n",
    "\n",
    "# 달별 날수를 리스트로 저장\n",
    "year_month_days = [0,31,28,31,30,31,30,31,31,30,31,30,31]\n",
    "\n",
    "\n",
    "# 서기 1년부터 year-1 까지의 각 년도 별 날수를 합한다.\n",
    "for item in range(1, year):\n",
    "    if item % 400 == 0:                 # 400으로 나뉘는 해: 윤년\n",
    "        total_days = total_days + 366\n",
    "    elif item % 100 == 0:               # 100으로 나뉘는 해: 평년\n",
    "        total_days = total_days + 365\n",
    "    elif item % 4 == 0:                 # 4으로 나뉘는 해  : 윤년\n",
    "        total_days = total_days + 366\n",
    "    else:\n",
    "        total_days = total_days + 365\n",
    "\n",
    "\n",
    "# 1월 달부터 month-1 까지의 각 달의 날수를 합한다.\n",
    "for item in range(1, month):\n",
    "    total_days = total_days + year_month_days[item]\n",
    "    \n",
    "\n",
    "# 입력된 달이 3이상이고 해당년도가 윤년일 경우 1을 추가\n",
    "if month >= 3:\n",
    "    if year % 400 == 0:                 # 400으로 나뉘는 해: 윤년\n",
    "        total_days = total_days + 1\n",
    "    elif year % 100 == 0:               # 100으로 나뉘는 해: 평년\n",
    "        total_days = total_days + 0\n",
    "    elif year % 4 == 0:                 # 4으로 나뉘는 해  : 윤년\n",
    "        total_days = total_days + 1\n",
    "    else:\n",
    "        total_days = total_days + 0\n",
    "\n",
    "\n",
    "total_days += day\n",
    "\n",
    "# 총 날수를 7로 나눈 나머지를 구한다.\n",
    "remainder = total_days % 7\n",
    "\n",
    "if remainder == 0:\n",
    "    print('일요일 입니다.')\n",
    "elif remainder == 1:\n",
    "    print('월요일 입니다.')\n",
    "elif remainder == 2:\n",
    "    print('화요일 입니다.')\n",
    "elif remainder == 3:\n",
    "    print('수요일 입니다.')\n",
    "elif remainder == 4:\n",
    "    print('목요일 입니다.')\n",
    "elif remainder == 5:\n",
    "    print('금요일 입니다.')\n",
    "elif remainder == 6:\n",
    "    print('토요일 입니다.')\n"
   ]
  },
  {
   "cell_type": "code",
   "execution_count": 35,
   "metadata": {},
   "outputs": [
    {
     "name": "stdout",
     "output_type": "stream",
     "text": [
      "년도를 입력하세요:2200\n",
      "월을 입력하세요15\n",
      "잘못된 입력입니다.\n",
      "월을 입력하세요15\n",
      "잘못된 입력입니다.\n",
      "월을 입력하세요15\n",
      "잘못된 입력입니다.\n",
      "월을 입력하세요5\n",
      "월을 입력하세요1\n",
      "일을 입력하세요1\n",
      "수요일 입니다.\n"
     ]
    }
   ],
   "source": [
    "year = int(input('년도를 입력하세요:'))\n",
    "while True:\n",
    "    month = int(input('월을 입력하세요'))\n",
    "    if month > 12:\n",
    "        print('잘못된 입력입니다.')\n",
    "        continue\n",
    "    else:\n",
    "        break\n",
    "month = int(input('월을 입력하세요'))\n",
    "\n",
    "day = int(input('일을 입력하세요'))\n",
    "\n",
    "total_days = 0 \n",
    "\n",
    "# 달별 날수를 리스트로 저장 (1월부터 12월까지.. 막날)\n",
    "year_month_days = [0,31,28,31,30,31,30,31,31,30,31,30,31]\n",
    "\n",
    "# 서기 1년부터 year-1 까지의 각 년도 별 날수를 합한다.\n",
    "for item in range(1, year):\n",
    "    if item % 400 == 0:\n",
    "        total_days = total_days + 366\n",
    "    elif item % 100 == 0:\n",
    "        total_days = total_days + 365\n",
    "    elif item % 4 == 0:\n",
    "        total_days = total_days + 366\n",
    "    else:\n",
    "        total_days = total_days + 365\n",
    "\n",
    "    \n",
    "##############################################################\n",
    "# 1월 달부터 month-1 까지의 각 달의 날수를 합한다.\n",
    "for item in range(1, month):\n",
    "    total_days = total_days + year_month_days[item]\n",
    "\n",
    "\n",
    "# 입력된 달이 3이상이고 해당년도가 윤년일 경우 1을 추가\n",
    "if month >= 3:\n",
    "    if year % 400 == 0:                 # 400으로 나뉘는 해: 윤년\n",
    "        total_days = total_days + 1\n",
    "    elif year % 100 == 0:               # 100으로 나뉘는 해: 평년\n",
    "        total_days = total_days + 0\n",
    "    elif year % 4 == 0:                 # 4으로 나뉘는 해  : 윤년\n",
    "        total_days = total_days + 1\n",
    "    else:\n",
    "        total_days = total_days + 0\n",
    "\n",
    "total_days += day\n",
    "\n",
    "# 총 날수를 7로 나눈 나머지를 구한다.\n",
    "remainder = total_days % 7\n",
    "\n",
    "if remainder == 0:\n",
    "    print('일요일 입니다.')\n",
    "elif remainder == 1:\n",
    "    print('월요일 입니다.')\n",
    "elif remainder == 2:\n",
    "    print('화요일 입니다.')\n",
    "elif remainder == 3:\n",
    "    print('수요일 입니다.')\n",
    "elif remainder == 4:\n",
    "    print('목요일 입니다.')\n",
    "elif remainder == 5:\n",
    "    print('금요일 입니다.')\n",
    "elif remainder == 6:\n",
    "    print('토요일 입니다.')"
   ]
  },
  {
   "cell_type": "code",
   "execution_count": 36,
   "metadata": {},
   "outputs": [],
   "source": [
    "students = [\n",
    "               {'num':'1','name':'김철수','kor':90,'eng':80,'math':85,'total':0,'avg':0.0,'order':0 },\n",
    "               {'num':'2','name':'박제동','kor':90,'eng':85,'math':90,'total':0,'avg':0.0,'order':0 },\n",
    "               {'num':'3','name':'홍길동','kor':80,'eng':80,'math':80,'total':0,'avg':0.0,'order':0 }\n",
    "           ]"
   ]
  },
  {
   "cell_type": "code",
   "execution_count": null,
   "metadata": {},
   "outputs": [],
   "source": []
  },
  {
   "cell_type": "code",
   "execution_count": null,
   "metadata": {},
   "outputs": [],
   "source": []
  },
  {
   "cell_type": "code",
   "execution_count": null,
   "metadata": {},
   "outputs": [],
   "source": []
  },
  {
   "cell_type": "code",
   "execution_count": null,
   "metadata": {},
   "outputs": [],
   "source": []
  },
  {
   "cell_type": "code",
   "execution_count": null,
   "metadata": {},
   "outputs": [],
   "source": []
  }
 ],
 "metadata": {
  "kernelspec": {
   "display_name": "Python 3",
   "language": "python",
   "name": "python3"
  },
  "language_info": {
   "codemirror_mode": {
    "name": "ipython",
    "version": 3
   },
   "file_extension": ".py",
   "mimetype": "text/x-python",
   "name": "python",
   "nbconvert_exporter": "python",
   "pygments_lexer": "ipython3",
   "version": "3.7.0"
  }
 },
 "nbformat": 4,
 "nbformat_minor": 2
}
