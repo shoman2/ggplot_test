{
 "cells": [
  {
   "cell_type": "markdown",
   "metadata": {},
   "source": [
    "## 요일구하기"
   ]
  },
  {
   "cell_type": "code",
   "execution_count": null,
   "metadata": {},
   "outputs": [],
   "source": [
    "year = int(input('년도를입력하세요'))\n",
    "month = int(input('월을입력하세요'))\n",
    "day = int(input('일을입력하세요'))\n",
    "\n",
    "total_days = 0\n",
    "\n",
    "#1~12월까지 day 의 수를 기록.\n",
    "year_month_days = [0,31,29,31,30,31,30,31,31,30,31,30,31]\n",
    "\n",
    "\n",
    "# 서기 1년부터 year-1 까지의 각 년도 별 날수를 합한다.\n",
    "for i in range (1,year):\n",
    "    if i % 400 == 0: #400으로 나누어서 나머지가 0인.. 즉 400으로 나누어지는 해는 1년이 366일\n",
    "        total_days = total_days + 366\n",
    "    elif i % 100 == 0: #100으로 나누어서 떨어지면, 그해는 평년, 365일\n",
    "        total_days = total_days + 365\n",
    "    elif i % 4 == 0: #4로 나누어 떨어지는날 : 윤년, 366일\n",
    "        total_days = total_days + 366\n",
    "    else:\n",
    "        total_days = total_days + 365\n",
    "\n",
    "# 1월 달부터 month-1 까지의 각 달의 날수를 합한다.\n",
    "for i in range(1,month):\n",
    "    total_days = total_days + year_month_days[i]\n",
    "\n",
    "# 입력된 달이 3이상이고 해당년도가 윤년일 경우 1을 추가\n",
    "if month >= 3:\n",
    "    if year % 400 == 0:                 # 400으로 나뉘는 해: 윤년\n",
    "        total_days = total_days + 1\n",
    "    elif year % 100 == 0:               # 100으로 나뉘는 해: 평년\n",
    "        total_days = total_days + 0\n",
    "    elif year % 4 == 0:                 # 4으로 나뉘는 해  : 윤년\n",
    "        total_days = total_days + 1\n",
    "    else:\n",
    "        total_days = total_days + 0\n",
    "\n",
    "total_days += day\n",
    "\n",
    "\n",
    "# 총 날수를 7로 나눈 나머지를 구한다.\n",
    "remainder = total_days % 7\n",
    "\n",
    "if remainder == 0:\n",
    "    print('일요일 입니다.')\n",
    "elif remainder == 1:\n",
    "    print('월요일 입니다.')\n",
    "elif remainder == 2:\n",
    "    print('화요일 입니다.')\n",
    "elif remainder == 3:\n",
    "    print('수요일 입니다.')\n",
    "elif remainder == 4:\n",
    "    print('목요일 입니다.')\n",
    "elif remainder == 5:\n",
    "    print('금요일 입니다.')\n",
    "elif remainder == 6:\n",
    "    print('토요일 입니다.')\n",
    "\n"
   ]
  },
  {
   "cell_type": "code",
   "execution_count": 6,
   "metadata": {},
   "outputs": [
    {
     "name": "stdout",
     "output_type": "stream",
     "text": [
      "해당연도를 입력하세요2019\n",
      "해당월을 입력하세요1\n",
      "해당일을 입력하세요10\n",
      "목요일\n"
     ]
    }
   ],
   "source": [
    "year = int(input('해당연도를 입력하세요'))\n",
    "month = int(input('해당월을 입력하세요'))\n",
    "day = int(input('해당일을 입력하세요'))\n",
    "\n",
    "total_days = 0\n",
    "year_month_days = [0,31,28,31,30,31,30,31,31,30,31,30,31]\n",
    "\n",
    "for i in range (1,year):\n",
    "    if i % 400 == 0:\n",
    "        total_days= total_days + 366\n",
    "    elif i % 100 == 0:\n",
    "        total_days = total_days + 365\n",
    "    elif i % 4 == 0:\n",
    "        total_days = total_days + 366\n",
    "    else : total_days = total_days + 365\n",
    "\n",
    "for i in range(1,month):\n",
    "    total_days = total_days + year_month_days[i]\n",
    "\n",
    "if month >= 3:\n",
    "    if year % 400 == 0:\n",
    "        total_days = total_days + 1\n",
    "    elif year % 100 == 0:\n",
    "        total_days = total_days + 0\n",
    "    elif year % 4 == 0:\n",
    "        total_days = total_days +1\n",
    "    else : total_days = total_days + 0\n",
    "    \n",
    "total_days += day\n",
    "\n",
    "\n",
    "remainder = total_days % 7\n",
    "\n",
    "if remainder == 0:\n",
    "    print('일요일')\n",
    "elif remainder ==1:\n",
    "    print('월요일')\n",
    "elif remainder ==2:\n",
    "    print('화요일')\n",
    "elif remainder ==3:\n",
    "    print('수요일')\n",
    "elif remainder ==4:\n",
    "    print('목요일')\n",
    "elif remainder ==5:\n",
    "    print('금요일')\n",
    "elif remainder ==6:\n",
    "    print('토요일')\n"
   ]
  },
  {
   "cell_type": "code",
   "execution_count": null,
   "metadata": {},
   "outputs": [],
   "source": []
  },
  {
   "cell_type": "code",
   "execution_count": null,
   "metadata": {},
   "outputs": [],
   "source": []
  },
  {
   "cell_type": "code",
   "execution_count": null,
   "metadata": {},
   "outputs": [],
   "source": []
  }
 ],
 "metadata": {
  "kernelspec": {
   "display_name": "Python 3",
   "language": "python",
   "name": "python3"
  },
  "language_info": {
   "codemirror_mode": {
    "name": "ipython",
    "version": 3
   },
   "file_extension": ".py",
   "mimetype": "text/x-python",
   "name": "python",
   "nbconvert_exporter": "python",
   "pygments_lexer": "ipython3",
   "version": "3.7.0"
  }
 },
 "nbformat": 4,
 "nbformat_minor": 2
}
