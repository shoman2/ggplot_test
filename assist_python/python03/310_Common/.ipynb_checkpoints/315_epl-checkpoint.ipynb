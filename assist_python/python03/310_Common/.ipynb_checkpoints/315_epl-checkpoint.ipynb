{
 "cells": [
  {
   "cell_type": "markdown",
   "metadata": {},
   "source": [
    "# EPL 데이터 분석"
   ]
  },
  {
   "cell_type": "markdown",
   "metadata": {},
   "source": [
    "---"
   ]
  },
  {
   "cell_type": "code",
   "execution_count": 1,
   "metadata": {
    "collapsed": true
   },
   "outputs": [],
   "source": [
    "import numpy as np\n",
    "import pandas as pd\n",
    "import matplotlib.pyplot as plt\n",
    "%matplotlib inline \n",
    "\n",
    "from matplotlib.pylab import rcParams, style\n",
    "rcParams['figure.figsize'] = 12, 8\n",
    "rcParams['font.family'] = 'NanumGothic'\n",
    "rcParams['font.size'] = 10\n",
    "\n",
    "style.use('ggplot')"
   ]
  },
  {
   "cell_type": "markdown",
   "metadata": {},
   "source": [
    "## 데이터 로드"
   ]
  },
  {
   "cell_type": "code",
   "execution_count": 2,
   "metadata": {
    "collapsed": false
   },
   "outputs": [
    {
     "data": {
      "text/html": [
       "<div>\n",
       "<style scoped>\n",
       "    .dataframe tbody tr th:only-of-type {\n",
       "        vertical-align: middle;\n",
       "    }\n",
       "\n",
       "    .dataframe tbody tr th {\n",
       "        vertical-align: top;\n",
       "    }\n",
       "\n",
       "    .dataframe thead th {\n",
       "        text-align: right;\n",
       "    }\n",
       "</style>\n",
       "<table border=\"1\" class=\"dataframe\">\n",
       "  <thead>\n",
       "    <tr style=\"text-align: right;\">\n",
       "      <th></th>\n",
       "      <th>Div</th>\n",
       "      <th>Date</th>\n",
       "      <th>HomeTeam</th>\n",
       "      <th>AwayTeam</th>\n",
       "      <th>FTHG</th>\n",
       "      <th>FTAG</th>\n",
       "      <th>FTR</th>\n",
       "      <th>HTHG</th>\n",
       "      <th>HTAG</th>\n",
       "      <th>HTR</th>\n",
       "      <th>...</th>\n",
       "      <th>BbAv&lt;2.5</th>\n",
       "      <th>BbAH</th>\n",
       "      <th>BbAHh</th>\n",
       "      <th>BbMxAHH</th>\n",
       "      <th>BbAvAHH</th>\n",
       "      <th>BbMxAHA</th>\n",
       "      <th>BbAvAHA</th>\n",
       "      <th>PSCH</th>\n",
       "      <th>PSCD</th>\n",
       "      <th>PSCA</th>\n",
       "    </tr>\n",
       "  </thead>\n",
       "  <tbody>\n",
       "    <tr>\n",
       "      <th>0</th>\n",
       "      <td>E0</td>\n",
       "      <td>2015-08-08</td>\n",
       "      <td>Bournemouth</td>\n",
       "      <td>Aston Villa</td>\n",
       "      <td>0</td>\n",
       "      <td>1</td>\n",
       "      <td>A</td>\n",
       "      <td>0</td>\n",
       "      <td>0</td>\n",
       "      <td>D</td>\n",
       "      <td>...</td>\n",
       "      <td>1.79</td>\n",
       "      <td>26</td>\n",
       "      <td>-0.5</td>\n",
       "      <td>1.98</td>\n",
       "      <td>1.93</td>\n",
       "      <td>1.99</td>\n",
       "      <td>1.92</td>\n",
       "      <td>1.82</td>\n",
       "      <td>3.88</td>\n",
       "      <td>4.70</td>\n",
       "    </tr>\n",
       "    <tr>\n",
       "      <th>1</th>\n",
       "      <td>E0</td>\n",
       "      <td>2015-08-08</td>\n",
       "      <td>Chelsea</td>\n",
       "      <td>Swansea</td>\n",
       "      <td>2</td>\n",
       "      <td>2</td>\n",
       "      <td>D</td>\n",
       "      <td>2</td>\n",
       "      <td>1</td>\n",
       "      <td>H</td>\n",
       "      <td>...</td>\n",
       "      <td>1.99</td>\n",
       "      <td>27</td>\n",
       "      <td>-1.5</td>\n",
       "      <td>2.24</td>\n",
       "      <td>2.16</td>\n",
       "      <td>1.80</td>\n",
       "      <td>1.73</td>\n",
       "      <td>1.37</td>\n",
       "      <td>5.04</td>\n",
       "      <td>10.88</td>\n",
       "    </tr>\n",
       "    <tr>\n",
       "      <th>2</th>\n",
       "      <td>E0</td>\n",
       "      <td>2015-08-08</td>\n",
       "      <td>Everton</td>\n",
       "      <td>Watford</td>\n",
       "      <td>2</td>\n",
       "      <td>2</td>\n",
       "      <td>D</td>\n",
       "      <td>0</td>\n",
       "      <td>1</td>\n",
       "      <td>A</td>\n",
       "      <td>...</td>\n",
       "      <td>1.96</td>\n",
       "      <td>26</td>\n",
       "      <td>-1.0</td>\n",
       "      <td>2.28</td>\n",
       "      <td>2.18</td>\n",
       "      <td>1.76</td>\n",
       "      <td>1.71</td>\n",
       "      <td>1.75</td>\n",
       "      <td>3.76</td>\n",
       "      <td>5.44</td>\n",
       "    </tr>\n",
       "    <tr>\n",
       "      <th>3</th>\n",
       "      <td>E0</td>\n",
       "      <td>2015-08-08</td>\n",
       "      <td>Leicester</td>\n",
       "      <td>Sunderland</td>\n",
       "      <td>4</td>\n",
       "      <td>2</td>\n",
       "      <td>H</td>\n",
       "      <td>3</td>\n",
       "      <td>0</td>\n",
       "      <td>H</td>\n",
       "      <td>...</td>\n",
       "      <td>1.67</td>\n",
       "      <td>26</td>\n",
       "      <td>-0.5</td>\n",
       "      <td>2.00</td>\n",
       "      <td>1.95</td>\n",
       "      <td>1.96</td>\n",
       "      <td>1.90</td>\n",
       "      <td>1.79</td>\n",
       "      <td>3.74</td>\n",
       "      <td>5.10</td>\n",
       "    </tr>\n",
       "    <tr>\n",
       "      <th>4</th>\n",
       "      <td>E0</td>\n",
       "      <td>2015-08-08</td>\n",
       "      <td>Man United</td>\n",
       "      <td>Tottenham</td>\n",
       "      <td>1</td>\n",
       "      <td>0</td>\n",
       "      <td>H</td>\n",
       "      <td>1</td>\n",
       "      <td>0</td>\n",
       "      <td>H</td>\n",
       "      <td>...</td>\n",
       "      <td>2.01</td>\n",
       "      <td>26</td>\n",
       "      <td>-1.0</td>\n",
       "      <td>2.20</td>\n",
       "      <td>2.09</td>\n",
       "      <td>1.82</td>\n",
       "      <td>1.78</td>\n",
       "      <td>1.64</td>\n",
       "      <td>4.07</td>\n",
       "      <td>6.04</td>\n",
       "    </tr>\n",
       "  </tbody>\n",
       "</table>\n",
       "<p>5 rows × 65 columns</p>\n",
       "</div>"
      ],
      "text/plain": [
       "  Div       Date     HomeTeam     AwayTeam  FTHG  FTAG FTR  HTHG  HTAG HTR  \\\n",
       "0  E0 2015-08-08  Bournemouth  Aston Villa     0     1   A     0     0   D   \n",
       "1  E0 2015-08-08      Chelsea      Swansea     2     2   D     2     1   H   \n",
       "2  E0 2015-08-08      Everton      Watford     2     2   D     0     1   A   \n",
       "3  E0 2015-08-08    Leicester   Sunderland     4     2   H     3     0   H   \n",
       "4  E0 2015-08-08   Man United    Tottenham     1     0   H     1     0   H   \n",
       "\n",
       "   ... BbAv<2.5  BbAH  BbAHh  BbMxAHH  BbAvAHH  BbMxAHA  BbAvAHA  PSCH  PSCD  \\\n",
       "0  ...     1.79    26   -0.5     1.98     1.93     1.99     1.92  1.82  3.88   \n",
       "1  ...     1.99    27   -1.5     2.24     2.16     1.80     1.73  1.37  5.04   \n",
       "2  ...     1.96    26   -1.0     2.28     2.18     1.76     1.71  1.75  3.76   \n",
       "3  ...     1.67    26   -0.5     2.00     1.95     1.96     1.90  1.79  3.74   \n",
       "4  ...     2.01    26   -1.0     2.20     2.09     1.82     1.78  1.64  4.07   \n",
       "\n",
       "    PSCA  \n",
       "0   4.70  \n",
       "1  10.88  \n",
       "2   5.44  \n",
       "3   5.10  \n",
       "4   6.04  \n",
       "\n",
       "[5 rows x 65 columns]"
      ]
     },
     "execution_count": 2,
     "metadata": {},
     "output_type": "execute_result"
    }
   ],
   "source": [
    "# 2015-2016 잉글리시 프리미어 리그 경기기록\n",
    "df = pd.read_excel('data/epl.xls')\n",
    "df.head()"
   ]
  },
  {
   "cell_type": "code",
   "execution_count": 3,
   "metadata": {
    "collapsed": false
   },
   "outputs": [
    {
     "data": {
      "text/plain": [
       "array(['Bournemouth', 'Chelsea', 'Everton', 'Leicester', 'Man United',\n",
       "       'Norwich', 'Arsenal', 'Newcastle', 'Stoke', 'West Brom',\n",
       "       'Aston Villa', 'Southampton', 'Sunderland', 'Swansea', 'Tottenham',\n",
       "       'Watford', 'West Ham', 'Crystal Palace', 'Man City', 'Liverpool'],\n",
       "      dtype=object)"
      ]
     },
     "execution_count": 3,
     "metadata": {},
     "output_type": "execute_result"
    }
   ],
   "source": [
    "df['HomeTeam'].unique() # array"
   ]
  },
  {
   "cell_type": "code",
   "execution_count": 4,
   "metadata": {
    "collapsed": false,
    "scrolled": true
   },
   "outputs": [
    {
     "data": {
      "text/plain": [
       "Bournemouth       19\n",
       "West Ham          19\n",
       "Southampton       19\n",
       "Swansea           19\n",
       "Watford           19\n",
       "Aston Villa       19\n",
       "Liverpool         19\n",
       "Chelsea           19\n",
       "Stoke             19\n",
       "Leicester         19\n",
       "Tottenham         19\n",
       "Arsenal           19\n",
       "Norwich           19\n",
       "Man United        19\n",
       "Crystal Palace    19\n",
       "Sunderland        19\n",
       "Newcastle         19\n",
       "West Brom         19\n",
       "Everton           19\n",
       "Man City          19\n",
       "Name: HomeTeam, dtype: int64"
      ]
     },
     "execution_count": 4,
     "metadata": {},
     "output_type": "execute_result"
    }
   ],
   "source": [
    "df['HomeTeam'].value_counts()"
   ]
  },
  {
   "cell_type": "code",
   "execution_count": 5,
   "metadata": {
    "collapsed": false,
    "scrolled": true
   },
   "outputs": [
    {
     "data": {
      "text/plain": [
       "0     2015-08-08\n",
       "1     2015-08-08\n",
       "2     2015-08-08\n",
       "3     2015-08-08\n",
       "4     2015-08-08\n",
       "5     2015-08-08\n",
       "6     2015-08-09\n",
       "7     2015-08-09\n",
       "8     2015-08-09\n",
       "9     2015-08-10\n",
       "10    2015-08-14\n",
       "11    2015-08-15\n",
       "12    2015-08-15\n",
       "13    2015-08-15\n",
       "14    2015-08-15\n",
       "15    2015-08-15\n",
       "16    2015-08-15\n",
       "17    2015-08-16\n",
       "18    2015-08-16\n",
       "19    2015-08-17\n",
       "20    2015-08-22\n",
       "21    2015-08-22\n",
       "22    2015-08-22\n",
       "23    2015-08-22\n",
       "24    2015-08-22\n",
       "25    2015-08-22\n",
       "26    2015-08-23\n",
       "27    2015-08-23\n",
       "28    2015-08-23\n",
       "29    2015-08-24\n",
       "         ...    \n",
       "350   2016-04-30\n",
       "351   2016-04-30\n",
       "352   2016-05-01\n",
       "353   2016-05-01\n",
       "354   2016-05-01\n",
       "355   2016-05-02\n",
       "356   2016-05-07\n",
       "357   2016-05-07\n",
       "358   2016-05-07\n",
       "359   2016-05-07\n",
       "360   2016-05-07\n",
       "361   2016-05-07\n",
       "362   2016-05-07\n",
       "363   2016-05-08\n",
       "364   2016-05-08\n",
       "365   2016-05-08\n",
       "366   2016-05-10\n",
       "367   2016-05-11\n",
       "368   2016-05-11\n",
       "369   2016-05-11\n",
       "370   2016-05-15\n",
       "371   2016-05-15\n",
       "372   2016-05-15\n",
       "373   2016-05-15\n",
       "374   2016-05-15\n",
       "375   2016-05-15\n",
       "376   2016-05-15\n",
       "377   2016-05-15\n",
       "378   2016-05-15\n",
       "379   2016-05-17\n",
       "Name: Date, Length: 380, dtype: datetime64[ns]"
      ]
     },
     "execution_count": 5,
     "metadata": {},
     "output_type": "execute_result"
    }
   ],
   "source": [
    "df['Date']"
   ]
  },
  {
   "cell_type": "code",
   "execution_count": 6,
   "metadata": {
    "collapsed": false
   },
   "outputs": [
    {
     "data": {
      "text/html": [
       "<div>\n",
       "<style scoped>\n",
       "    .dataframe tbody tr th:only-of-type {\n",
       "        vertical-align: middle;\n",
       "    }\n",
       "\n",
       "    .dataframe tbody tr th {\n",
       "        vertical-align: top;\n",
       "    }\n",
       "\n",
       "    .dataframe thead th {\n",
       "        text-align: right;\n",
       "    }\n",
       "</style>\n",
       "<table border=\"1\" class=\"dataframe\">\n",
       "  <thead>\n",
       "    <tr style=\"text-align: right;\">\n",
       "      <th></th>\n",
       "      <th>Div</th>\n",
       "      <th>Date</th>\n",
       "      <th>HomeTeam</th>\n",
       "      <th>AwayTeam</th>\n",
       "      <th>FTHG</th>\n",
       "      <th>FTAG</th>\n",
       "      <th>FTR</th>\n",
       "      <th>HTHG</th>\n",
       "      <th>HTAG</th>\n",
       "      <th>HTR</th>\n",
       "      <th>...</th>\n",
       "      <th>BbAv&lt;2.5</th>\n",
       "      <th>BbAH</th>\n",
       "      <th>BbAHh</th>\n",
       "      <th>BbMxAHH</th>\n",
       "      <th>BbAvAHH</th>\n",
       "      <th>BbMxAHA</th>\n",
       "      <th>BbAvAHA</th>\n",
       "      <th>PSCH</th>\n",
       "      <th>PSCD</th>\n",
       "      <th>PSCA</th>\n",
       "    </tr>\n",
       "  </thead>\n",
       "  <tbody>\n",
       "    <tr>\n",
       "      <th>0</th>\n",
       "      <td>E0</td>\n",
       "      <td>2015-08-08</td>\n",
       "      <td>Bournemouth</td>\n",
       "      <td>Aston Villa</td>\n",
       "      <td>0</td>\n",
       "      <td>1</td>\n",
       "      <td>A</td>\n",
       "      <td>0</td>\n",
       "      <td>0</td>\n",
       "      <td>D</td>\n",
       "      <td>...</td>\n",
       "      <td>1.79</td>\n",
       "      <td>26</td>\n",
       "      <td>-0.5</td>\n",
       "      <td>1.98</td>\n",
       "      <td>1.93</td>\n",
       "      <td>1.99</td>\n",
       "      <td>1.92</td>\n",
       "      <td>1.82</td>\n",
       "      <td>3.88</td>\n",
       "      <td>4.70</td>\n",
       "    </tr>\n",
       "    <tr>\n",
       "      <th>1</th>\n",
       "      <td>E0</td>\n",
       "      <td>2015-08-08</td>\n",
       "      <td>Chelsea</td>\n",
       "      <td>Swansea</td>\n",
       "      <td>2</td>\n",
       "      <td>2</td>\n",
       "      <td>D</td>\n",
       "      <td>2</td>\n",
       "      <td>1</td>\n",
       "      <td>H</td>\n",
       "      <td>...</td>\n",
       "      <td>1.99</td>\n",
       "      <td>27</td>\n",
       "      <td>-1.5</td>\n",
       "      <td>2.24</td>\n",
       "      <td>2.16</td>\n",
       "      <td>1.80</td>\n",
       "      <td>1.73</td>\n",
       "      <td>1.37</td>\n",
       "      <td>5.04</td>\n",
       "      <td>10.88</td>\n",
       "    </tr>\n",
       "    <tr>\n",
       "      <th>2</th>\n",
       "      <td>E0</td>\n",
       "      <td>2015-08-08</td>\n",
       "      <td>Everton</td>\n",
       "      <td>Watford</td>\n",
       "      <td>2</td>\n",
       "      <td>2</td>\n",
       "      <td>D</td>\n",
       "      <td>0</td>\n",
       "      <td>1</td>\n",
       "      <td>A</td>\n",
       "      <td>...</td>\n",
       "      <td>1.96</td>\n",
       "      <td>26</td>\n",
       "      <td>-1.0</td>\n",
       "      <td>2.28</td>\n",
       "      <td>2.18</td>\n",
       "      <td>1.76</td>\n",
       "      <td>1.71</td>\n",
       "      <td>1.75</td>\n",
       "      <td>3.76</td>\n",
       "      <td>5.44</td>\n",
       "    </tr>\n",
       "    <tr>\n",
       "      <th>3</th>\n",
       "      <td>E0</td>\n",
       "      <td>2015-08-08</td>\n",
       "      <td>Leicester</td>\n",
       "      <td>Sunderland</td>\n",
       "      <td>4</td>\n",
       "      <td>2</td>\n",
       "      <td>H</td>\n",
       "      <td>3</td>\n",
       "      <td>0</td>\n",
       "      <td>H</td>\n",
       "      <td>...</td>\n",
       "      <td>1.67</td>\n",
       "      <td>26</td>\n",
       "      <td>-0.5</td>\n",
       "      <td>2.00</td>\n",
       "      <td>1.95</td>\n",
       "      <td>1.96</td>\n",
       "      <td>1.90</td>\n",
       "      <td>1.79</td>\n",
       "      <td>3.74</td>\n",
       "      <td>5.10</td>\n",
       "    </tr>\n",
       "    <tr>\n",
       "      <th>4</th>\n",
       "      <td>E0</td>\n",
       "      <td>2015-08-08</td>\n",
       "      <td>Man United</td>\n",
       "      <td>Tottenham</td>\n",
       "      <td>1</td>\n",
       "      <td>0</td>\n",
       "      <td>H</td>\n",
       "      <td>1</td>\n",
       "      <td>0</td>\n",
       "      <td>H</td>\n",
       "      <td>...</td>\n",
       "      <td>2.01</td>\n",
       "      <td>26</td>\n",
       "      <td>-1.0</td>\n",
       "      <td>2.20</td>\n",
       "      <td>2.09</td>\n",
       "      <td>1.82</td>\n",
       "      <td>1.78</td>\n",
       "      <td>1.64</td>\n",
       "      <td>4.07</td>\n",
       "      <td>6.04</td>\n",
       "    </tr>\n",
       "    <tr>\n",
       "      <th>5</th>\n",
       "      <td>E0</td>\n",
       "      <td>2015-08-08</td>\n",
       "      <td>Norwich</td>\n",
       "      <td>Crystal Palace</td>\n",
       "      <td>1</td>\n",
       "      <td>3</td>\n",
       "      <td>A</td>\n",
       "      <td>0</td>\n",
       "      <td>1</td>\n",
       "      <td>A</td>\n",
       "      <td>...</td>\n",
       "      <td>1.67</td>\n",
       "      <td>27</td>\n",
       "      <td>0.0</td>\n",
       "      <td>1.83</td>\n",
       "      <td>1.78</td>\n",
       "      <td>2.17</td>\n",
       "      <td>2.08</td>\n",
       "      <td>2.46</td>\n",
       "      <td>3.39</td>\n",
       "      <td>3.14</td>\n",
       "    </tr>\n",
       "  </tbody>\n",
       "</table>\n",
       "<p>6 rows × 65 columns</p>\n",
       "</div>"
      ],
      "text/plain": [
       "  Div       Date     HomeTeam        AwayTeam  FTHG  FTAG FTR  HTHG  HTAG HTR  \\\n",
       "0  E0 2015-08-08  Bournemouth     Aston Villa     0     1   A     0     0   D   \n",
       "1  E0 2015-08-08      Chelsea         Swansea     2     2   D     2     1   H   \n",
       "2  E0 2015-08-08      Everton         Watford     2     2   D     0     1   A   \n",
       "3  E0 2015-08-08    Leicester      Sunderland     4     2   H     3     0   H   \n",
       "4  E0 2015-08-08   Man United       Tottenham     1     0   H     1     0   H   \n",
       "5  E0 2015-08-08      Norwich  Crystal Palace     1     3   A     0     1   A   \n",
       "\n",
       "   ... BbAv<2.5  BbAH  BbAHh  BbMxAHH  BbAvAHH  BbMxAHA  BbAvAHA  PSCH  PSCD  \\\n",
       "0  ...     1.79    26   -0.5     1.98     1.93     1.99     1.92  1.82  3.88   \n",
       "1  ...     1.99    27   -1.5     2.24     2.16     1.80     1.73  1.37  5.04   \n",
       "2  ...     1.96    26   -1.0     2.28     2.18     1.76     1.71  1.75  3.76   \n",
       "3  ...     1.67    26   -0.5     2.00     1.95     1.96     1.90  1.79  3.74   \n",
       "4  ...     2.01    26   -1.0     2.20     2.09     1.82     1.78  1.64  4.07   \n",
       "5  ...     1.67    27    0.0     1.83     1.78     2.17     2.08  2.46  3.39   \n",
       "\n",
       "    PSCA  \n",
       "0   4.70  \n",
       "1  10.88  \n",
       "2   5.44  \n",
       "3   5.10  \n",
       "4   6.04  \n",
       "5   3.14  \n",
       "\n",
       "[6 rows x 65 columns]"
      ]
     },
     "execution_count": 6,
     "metadata": {},
     "output_type": "execute_result"
    }
   ],
   "source": [
    "# H / A 중복되어 들어 있나? 2015년 8월 8일 경기 기록 확인.\n",
    "df[df['Date'] == '2015-08-08']"
   ]
  },
  {
   "cell_type": "code",
   "execution_count": 7,
   "metadata": {
    "collapsed": false
   },
   "outputs": [
    {
     "data": {
      "text/html": [
       "<div>\n",
       "<style scoped>\n",
       "    .dataframe tbody tr th:only-of-type {\n",
       "        vertical-align: middle;\n",
       "    }\n",
       "\n",
       "    .dataframe tbody tr th {\n",
       "        vertical-align: top;\n",
       "    }\n",
       "\n",
       "    .dataframe thead th {\n",
       "        text-align: right;\n",
       "    }\n",
       "</style>\n",
       "<table border=\"1\" class=\"dataframe\">\n",
       "  <thead>\n",
       "    <tr style=\"text-align: right;\">\n",
       "      <th></th>\n",
       "      <th>Date</th>\n",
       "      <th>HomeTeam</th>\n",
       "      <th>AwayTeam</th>\n",
       "      <th>FTHG</th>\n",
       "      <th>FTAG</th>\n",
       "      <th>FTR</th>\n",
       "    </tr>\n",
       "  </thead>\n",
       "  <tbody>\n",
       "    <tr>\n",
       "      <th>0</th>\n",
       "      <td>2015-08-08</td>\n",
       "      <td>Bournemouth</td>\n",
       "      <td>Aston Villa</td>\n",
       "      <td>0</td>\n",
       "      <td>1</td>\n",
       "      <td>A</td>\n",
       "    </tr>\n",
       "    <tr>\n",
       "      <th>1</th>\n",
       "      <td>2015-08-08</td>\n",
       "      <td>Chelsea</td>\n",
       "      <td>Swansea</td>\n",
       "      <td>2</td>\n",
       "      <td>2</td>\n",
       "      <td>D</td>\n",
       "    </tr>\n",
       "    <tr>\n",
       "      <th>2</th>\n",
       "      <td>2015-08-08</td>\n",
       "      <td>Everton</td>\n",
       "      <td>Watford</td>\n",
       "      <td>2</td>\n",
       "      <td>2</td>\n",
       "      <td>D</td>\n",
       "    </tr>\n",
       "    <tr>\n",
       "      <th>3</th>\n",
       "      <td>2015-08-08</td>\n",
       "      <td>Leicester</td>\n",
       "      <td>Sunderland</td>\n",
       "      <td>4</td>\n",
       "      <td>2</td>\n",
       "      <td>H</td>\n",
       "    </tr>\n",
       "    <tr>\n",
       "      <th>4</th>\n",
       "      <td>2015-08-08</td>\n",
       "      <td>Man United</td>\n",
       "      <td>Tottenham</td>\n",
       "      <td>1</td>\n",
       "      <td>0</td>\n",
       "      <td>H</td>\n",
       "    </tr>\n",
       "  </tbody>\n",
       "</table>\n",
       "</div>"
      ],
      "text/plain": [
       "        Date     HomeTeam     AwayTeam  FTHG  FTAG FTR\n",
       "0 2015-08-08  Bournemouth  Aston Villa     0     1   A\n",
       "1 2015-08-08      Chelsea      Swansea     2     2   D\n",
       "2 2015-08-08      Everton      Watford     2     2   D\n",
       "3 2015-08-08    Leicester   Sunderland     4     2   H\n",
       "4 2015-08-08   Man United    Tottenham     1     0   H"
      ]
     },
     "execution_count": 7,
     "metadata": {},
     "output_type": "execute_result"
    }
   ],
   "source": [
    "# FTHG = Full Time Home Team Goal\n",
    "# FTAG = Full Time Away Team Goal\n",
    "# FTR  = Full Time Result (H / A / D) : ( Home / Awaw / Draw )\n",
    "\n",
    "df_w = df[['Date', 'HomeTeam', 'AwayTeam', 'FTHG', 'FTAG', 'FTR']]\n",
    "df_w.head()"
   ]
  },
  {
   "cell_type": "markdown",
   "metadata": {},
   "source": [
    "##  1. 시즌 성적표 작성"
   ]
  },
  {
   "cell_type": "code",
   "execution_count": 8,
   "metadata": {
    "collapsed": false
   },
   "outputs": [
    {
     "data": {
      "text/plain": [
       "array(['Bournemouth', 'Chelsea', 'Everton', 'Leicester', 'Man United',\n",
       "       'Norwich', 'Arsenal', 'Newcastle', 'Stoke', 'West Brom',\n",
       "       'Aston Villa', 'Southampton', 'Sunderland', 'Swansea', 'Tottenham',\n",
       "       'Watford', 'West Ham', 'Crystal Palace', 'Man City', 'Liverpool'],\n",
       "      dtype=object)"
      ]
     },
     "execution_count": 8,
     "metadata": {},
     "output_type": "execute_result"
    }
   ],
   "source": [
    "teams = df['HomeTeam'].unique()\n",
    "teams"
   ]
  },
  {
   "cell_type": "code",
   "execution_count": 9,
   "metadata": {
    "collapsed": false,
    "scrolled": true
   },
   "outputs": [
    {
     "data": {
      "text/html": [
       "<div>\n",
       "<style scoped>\n",
       "    .dataframe tbody tr th:only-of-type {\n",
       "        vertical-align: middle;\n",
       "    }\n",
       "\n",
       "    .dataframe tbody tr th {\n",
       "        vertical-align: top;\n",
       "    }\n",
       "\n",
       "    .dataframe thead th {\n",
       "        text-align: right;\n",
       "    }\n",
       "</style>\n",
       "<table border=\"1\" class=\"dataframe\">\n",
       "  <thead>\n",
       "    <tr style=\"text-align: right;\">\n",
       "      <th></th>\n",
       "      <th>Lost</th>\n",
       "      <th>Team</th>\n",
       "      <th>Draw</th>\n",
       "      <th>Point</th>\n",
       "      <th>실점</th>\n",
       "      <th>골득실</th>\n",
       "      <th>득점</th>\n",
       "      <th>Win</th>\n",
       "    </tr>\n",
       "  </thead>\n",
       "  <tbody>\n",
       "    <tr>\n",
       "      <th>0</th>\n",
       "      <td>0</td>\n",
       "      <td>Bournemouth</td>\n",
       "      <td>0</td>\n",
       "      <td>0</td>\n",
       "      <td>0</td>\n",
       "      <td>0</td>\n",
       "      <td>0</td>\n",
       "      <td>0</td>\n",
       "    </tr>\n",
       "    <tr>\n",
       "      <th>1</th>\n",
       "      <td>0</td>\n",
       "      <td>Chelsea</td>\n",
       "      <td>0</td>\n",
       "      <td>0</td>\n",
       "      <td>0</td>\n",
       "      <td>0</td>\n",
       "      <td>0</td>\n",
       "      <td>0</td>\n",
       "    </tr>\n",
       "    <tr>\n",
       "      <th>2</th>\n",
       "      <td>0</td>\n",
       "      <td>Everton</td>\n",
       "      <td>0</td>\n",
       "      <td>0</td>\n",
       "      <td>0</td>\n",
       "      <td>0</td>\n",
       "      <td>0</td>\n",
       "      <td>0</td>\n",
       "    </tr>\n",
       "    <tr>\n",
       "      <th>3</th>\n",
       "      <td>0</td>\n",
       "      <td>Leicester</td>\n",
       "      <td>0</td>\n",
       "      <td>0</td>\n",
       "      <td>0</td>\n",
       "      <td>0</td>\n",
       "      <td>0</td>\n",
       "      <td>0</td>\n",
       "    </tr>\n",
       "    <tr>\n",
       "      <th>4</th>\n",
       "      <td>0</td>\n",
       "      <td>Man United</td>\n",
       "      <td>0</td>\n",
       "      <td>0</td>\n",
       "      <td>0</td>\n",
       "      <td>0</td>\n",
       "      <td>0</td>\n",
       "      <td>0</td>\n",
       "    </tr>\n",
       "  </tbody>\n",
       "</table>\n",
       "</div>"
      ],
      "text/plain": [
       "   Lost         Team  Draw  Point  실점  골득실  득점  Win\n",
       "0     0  Bournemouth     0      0   0    0   0    0\n",
       "1     0      Chelsea     0      0   0    0   0    0\n",
       "2     0      Everton     0      0   0    0   0    0\n",
       "3     0    Leicester     0      0   0    0   0    0\n",
       "4     0   Man United     0      0   0    0   0    0"
      ]
     },
     "execution_count": 9,
     "metadata": {},
     "output_type": "execute_result"
    }
   ],
   "source": [
    "# 시즌 성적표(빈 양식)\n",
    "\n",
    "# Point(승점) = W * 3 + D\n",
    "\n",
    "f_tab = pd.DataFrame({'Team': teams, 'Point': 0},\n",
    "                     columns={'Team', 'Win', 'Draw', 'Lost', '득점', '실점', '골득실', 'Point'})\n",
    "f_tab = f_tab.fillna(0)\n",
    "f_tab.head()"
   ]
  },
  {
   "cell_type": "code",
   "execution_count": 10,
   "metadata": {
    "collapsed": false
   },
   "outputs": [
    {
     "data": {
      "text/html": [
       "<div>\n",
       "<style scoped>\n",
       "    .dataframe tbody tr th:only-of-type {\n",
       "        vertical-align: middle;\n",
       "    }\n",
       "\n",
       "    .dataframe tbody tr th {\n",
       "        vertical-align: top;\n",
       "    }\n",
       "\n",
       "    .dataframe thead th {\n",
       "        text-align: right;\n",
       "    }\n",
       "</style>\n",
       "<table border=\"1\" class=\"dataframe\">\n",
       "  <thead>\n",
       "    <tr style=\"text-align: right;\">\n",
       "      <th></th>\n",
       "      <th>Team</th>\n",
       "      <th>Win</th>\n",
       "      <th>Draw</th>\n",
       "      <th>Lost</th>\n",
       "      <th>득점</th>\n",
       "      <th>실점</th>\n",
       "      <th>골득실</th>\n",
       "      <th>Point</th>\n",
       "    </tr>\n",
       "  </thead>\n",
       "  <tbody>\n",
       "    <tr>\n",
       "      <th>0</th>\n",
       "      <td>Bournemouth</td>\n",
       "      <td>0</td>\n",
       "      <td>0</td>\n",
       "      <td>0</td>\n",
       "      <td>0</td>\n",
       "      <td>0</td>\n",
       "      <td>0</td>\n",
       "      <td>0</td>\n",
       "    </tr>\n",
       "    <tr>\n",
       "      <th>1</th>\n",
       "      <td>Chelsea</td>\n",
       "      <td>0</td>\n",
       "      <td>0</td>\n",
       "      <td>0</td>\n",
       "      <td>0</td>\n",
       "      <td>0</td>\n",
       "      <td>0</td>\n",
       "      <td>0</td>\n",
       "    </tr>\n",
       "    <tr>\n",
       "      <th>2</th>\n",
       "      <td>Everton</td>\n",
       "      <td>0</td>\n",
       "      <td>0</td>\n",
       "      <td>0</td>\n",
       "      <td>0</td>\n",
       "      <td>0</td>\n",
       "      <td>0</td>\n",
       "      <td>0</td>\n",
       "    </tr>\n",
       "    <tr>\n",
       "      <th>3</th>\n",
       "      <td>Leicester</td>\n",
       "      <td>0</td>\n",
       "      <td>0</td>\n",
       "      <td>0</td>\n",
       "      <td>0</td>\n",
       "      <td>0</td>\n",
       "      <td>0</td>\n",
       "      <td>0</td>\n",
       "    </tr>\n",
       "    <tr>\n",
       "      <th>4</th>\n",
       "      <td>Man United</td>\n",
       "      <td>0</td>\n",
       "      <td>0</td>\n",
       "      <td>0</td>\n",
       "      <td>0</td>\n",
       "      <td>0</td>\n",
       "      <td>0</td>\n",
       "      <td>0</td>\n",
       "    </tr>\n",
       "  </tbody>\n",
       "</table>\n",
       "</div>"
      ],
      "text/plain": [
       "          Team  Win  Draw  Lost  득점  실점  골득실  Point\n",
       "0  Bournemouth    0     0     0   0   0    0      0\n",
       "1      Chelsea    0     0     0   0   0    0      0\n",
       "2      Everton    0     0     0   0   0    0      0\n",
       "3    Leicester    0     0     0   0   0    0      0\n",
       "4   Man United    0     0     0   0   0    0      0"
      ]
     },
     "execution_count": 10,
     "metadata": {},
     "output_type": "execute_result"
    }
   ],
   "source": [
    "f_tab = f_tab.reindex(columns= ['Team', 'Win', 'Draw', 'Lost', '득점', '실점', '골득실', 'Point'])\n",
    "f_tab.head()"
   ]
  },
  {
   "cell_type": "markdown",
   "metadata": {},
   "source": [
    "#### 데이터 탐색"
   ]
  },
  {
   "cell_type": "code",
   "execution_count": 11,
   "metadata": {
    "collapsed": false
   },
   "outputs": [
    {
     "data": {
      "text/html": [
       "<div>\n",
       "<style scoped>\n",
       "    .dataframe tbody tr th:only-of-type {\n",
       "        vertical-align: middle;\n",
       "    }\n",
       "\n",
       "    .dataframe tbody tr th {\n",
       "        vertical-align: top;\n",
       "    }\n",
       "\n",
       "    .dataframe thead th {\n",
       "        text-align: right;\n",
       "    }\n",
       "</style>\n",
       "<table border=\"1\" class=\"dataframe\">\n",
       "  <thead>\n",
       "    <tr style=\"text-align: right;\">\n",
       "      <th></th>\n",
       "      <th>Date</th>\n",
       "      <th>HomeTeam</th>\n",
       "      <th>AwayTeam</th>\n",
       "      <th>FTHG</th>\n",
       "      <th>FTAG</th>\n",
       "      <th>FTR</th>\n",
       "    </tr>\n",
       "  </thead>\n",
       "  <tbody>\n",
       "    <tr>\n",
       "      <th>0</th>\n",
       "      <td>2015-08-08</td>\n",
       "      <td>Bournemouth</td>\n",
       "      <td>Aston Villa</td>\n",
       "      <td>0</td>\n",
       "      <td>1</td>\n",
       "      <td>A</td>\n",
       "    </tr>\n",
       "    <tr>\n",
       "      <th>1</th>\n",
       "      <td>2015-08-08</td>\n",
       "      <td>Chelsea</td>\n",
       "      <td>Swansea</td>\n",
       "      <td>2</td>\n",
       "      <td>2</td>\n",
       "      <td>D</td>\n",
       "    </tr>\n",
       "    <tr>\n",
       "      <th>2</th>\n",
       "      <td>2015-08-08</td>\n",
       "      <td>Everton</td>\n",
       "      <td>Watford</td>\n",
       "      <td>2</td>\n",
       "      <td>2</td>\n",
       "      <td>D</td>\n",
       "    </tr>\n",
       "    <tr>\n",
       "      <th>3</th>\n",
       "      <td>2015-08-08</td>\n",
       "      <td>Leicester</td>\n",
       "      <td>Sunderland</td>\n",
       "      <td>4</td>\n",
       "      <td>2</td>\n",
       "      <td>H</td>\n",
       "    </tr>\n",
       "    <tr>\n",
       "      <th>4</th>\n",
       "      <td>2015-08-08</td>\n",
       "      <td>Man United</td>\n",
       "      <td>Tottenham</td>\n",
       "      <td>1</td>\n",
       "      <td>0</td>\n",
       "      <td>H</td>\n",
       "    </tr>\n",
       "  </tbody>\n",
       "</table>\n",
       "</div>"
      ],
      "text/plain": [
       "        Date     HomeTeam     AwayTeam  FTHG  FTAG FTR\n",
       "0 2015-08-08  Bournemouth  Aston Villa     0     1   A\n",
       "1 2015-08-08      Chelsea      Swansea     2     2   D\n",
       "2 2015-08-08      Everton      Watford     2     2   D\n",
       "3 2015-08-08    Leicester   Sunderland     4     2   H\n",
       "4 2015-08-08   Man United    Tottenham     1     0   H"
      ]
     },
     "execution_count": 11,
     "metadata": {},
     "output_type": "execute_result"
    }
   ],
   "source": [
    "df_w.head()"
   ]
  },
  {
   "cell_type": "code",
   "execution_count": 12,
   "metadata": {
    "collapsed": true
   },
   "outputs": [],
   "source": [
    "# HomeTeam으로 그룹핑\n",
    "gp_home = df_w.groupby('HomeTeam')"
   ]
  },
  {
   "cell_type": "code",
   "execution_count": 13,
   "metadata": {
    "collapsed": true
   },
   "outputs": [],
   "source": [
    "#for name, group in gp_home:\n",
    "#    print(name)\n",
    "#    print(group)\n",
    "\n",
    "dic_t = dict(list(gp_home))"
   ]
  },
  {
   "cell_type": "code",
   "execution_count": null,
   "metadata": {
    "collapsed": true,
    "scrolled": true
   },
   "outputs": [],
   "source": [
    "dic_t['Liverpool']"
   ]
  },
  {
   "cell_type": "code",
   "execution_count": null,
   "metadata": {
    "collapsed": true,
    "scrolled": true
   },
   "outputs": [],
   "source": [
    "dic_t['Chelsea']"
   ]
  },
  {
   "cell_type": "code",
   "execution_count": null,
   "metadata": {
    "collapsed": true,
    "scrolled": true
   },
   "outputs": [],
   "source": [
    "# 각 팀별로 득점, 실점, 골득실을 계산\n",
    "\n",
    "f_tab.loc[\n",
    "    f_tab['Team'] == 'Arsenal', '득점'\n",
    "] = dic_t['Arsenal']['FTHG'].sum()\n",
    "\n",
    "\n",
    "f_tab.loc[\n",
    "    f_tab['Team'] == 'Arsenal', '실점'\n",
    "] = dic_t['Arsenal']['FTAG'].sum()\n",
    "\n",
    "f_tab['골득실'] = f_tab['득점'] - f_tab['실점']\n",
    "\n",
    "f_tab"
   ]
  },
  {
   "cell_type": "code",
   "execution_count": null,
   "metadata": {
    "collapsed": true,
    "scrolled": true
   },
   "outputs": [],
   "source": [
    "# 각 그룹의 첫 번째 데이터\n",
    "gp_home.first()"
   ]
  },
  {
   "cell_type": "code",
   "execution_count": null,
   "metadata": {
    "collapsed": true,
    "scrolled": true
   },
   "outputs": [],
   "source": [
    "# 각 그룹의 마지막 데이터\n",
    "gp_home.last()"
   ]
  },
  {
   "cell_type": "markdown",
   "metadata": {},
   "source": [
    "#### Home team"
   ]
  },
  {
   "cell_type": "code",
   "execution_count": null,
   "metadata": {
    "collapsed": true,
    "scrolled": true
   },
   "outputs": [],
   "source": [
    "# 각 팀별로 득점, 실점 계산\n",
    "df_home = gp_home.agg({'FTHG': sum, 'FTAG': sum })\n",
    "df_home.rename(columns={'FTHG': '득점', 'FTAG': '실점'}, inplace=True)\n",
    "df_home"
   ]
  },
  {
   "cell_type": "code",
   "execution_count": null,
   "metadata": {
    "collapsed": true
   },
   "outputs": [],
   "source": [
    "# 함수정의: 승, 패, 무승부 횟수 계산\n",
    "def func(x):\n",
    "    return x.value_counts()\n"
   ]
  },
  {
   "cell_type": "code",
   "execution_count": null,
   "metadata": {
    "collapsed": true,
    "scrolled": true
   },
   "outputs": [],
   "source": [
    "# 각 팀별로 승, 패, 무승부 횟수 계산\n",
    "df_home_ftr = gp_home['FTR'].apply(func).unstack()\n",
    "df_home_ftr"
   ]
  },
  {
   "cell_type": "code",
   "execution_count": null,
   "metadata": {
    "collapsed": true,
    "scrolled": true
   },
   "outputs": [],
   "source": [
    "# 컬럼 이름 수정 ( A: Away team 승, D: 무승부, H: Home team 승 )\n",
    "df_home_ftr.rename(columns={'A': 'Lost', 'D': 'Draw', 'H': 'Win'}, inplace=True)\n",
    "df_home_ftr"
   ]
  },
  {
   "cell_type": "markdown",
   "metadata": {},
   "source": [
    "#### Away team"
   ]
  },
  {
   "cell_type": "code",
   "execution_count": null,
   "metadata": {
    "collapsed": true
   },
   "outputs": [],
   "source": [
    "# HomeTeam으로 그룹핑\n",
    "gp_away = df_w.groupby('AwayTeam')"
   ]
  },
  {
   "cell_type": "code",
   "execution_count": null,
   "metadata": {
    "collapsed": true,
    "scrolled": true
   },
   "outputs": [],
   "source": [
    "# 각 팀별로 득점, 실점 계산\n",
    "df_away = gp_away.agg({'FTHG': sum, 'FTAG': sum })\n",
    "df_away.rename(columns={'FTHG': '실점', 'FTAG': '득점'}, inplace=True)\n",
    "df_away"
   ]
  },
  {
   "cell_type": "code",
   "execution_count": null,
   "metadata": {
    "collapsed": true,
    "scrolled": true
   },
   "outputs": [],
   "source": [
    "# 각 팀별로 승, 패, 무승부 횟수 계산\n",
    "df_away_ftr = gp_away['FTR'].apply(func).unstack()\n",
    "df_away_ftr"
   ]
  },
  {
   "cell_type": "code",
   "execution_count": null,
   "metadata": {
    "collapsed": true,
    "scrolled": true
   },
   "outputs": [],
   "source": [
    "# 컬럼 이름 수정 ( A: Away team 승, D: 무승부, H: Home team 승 )\n",
    "df_away_ftr.rename(columns={'A': 'Win', 'D': 'Draw', 'H': 'Lost'}, inplace=True)\n",
    "df_away_ftr"
   ]
  },
  {
   "cell_type": "markdown",
   "metadata": {},
   "source": [
    "#### Home + Away: 득점, 실점, 골득실 계산"
   ]
  },
  {
   "cell_type": "code",
   "execution_count": null,
   "metadata": {
    "collapsed": true,
    "scrolled": true
   },
   "outputs": [],
   "source": [
    "# 홈/원정 경기에 대한 득점/실점 값 합산\n",
    "df_goal = df_home + df_away\n",
    "df_goal.index.name = None\n",
    "df_goal"
   ]
  },
  {
   "cell_type": "code",
   "execution_count": null,
   "metadata": {
    "collapsed": true,
    "scrolled": true
   },
   "outputs": [],
   "source": [
    "# 골득실 계산\n",
    "df_goal['골득실'] = df_goal['득점'] - df_goal['실점']\n",
    "df_goal"
   ]
  },
  {
   "cell_type": "markdown",
   "metadata": {},
   "source": [
    "#### Home + Away: 승, 패, 승점 계산"
   ]
  },
  {
   "cell_type": "code",
   "execution_count": null,
   "metadata": {
    "collapsed": true,
    "scrolled": true
   },
   "outputs": [],
   "source": [
    "df_ftr = df_home_ftr + df_away_ftr\n",
    "df_ftr.index.name = None\n",
    "df_ftr"
   ]
  },
  {
   "cell_type": "code",
   "execution_count": null,
   "metadata": {
    "collapsed": true,
    "scrolled": true
   },
   "outputs": [],
   "source": [
    "# 승점 계산 ( 승점 = 승 * 3 + 무승부 )\n",
    "df_ftr['Point'] = df_ftr['Win'] * 3 + df_ftr['Draw']\n",
    "df_ftr.sort_values('Point', ascending=False)\n",
    "df_ftr"
   ]
  },
  {
   "cell_type": "markdown",
   "metadata": {},
   "source": [
    "#### 최종 시즌 성적표"
   ]
  },
  {
   "cell_type": "code",
   "execution_count": null,
   "metadata": {
    "collapsed": true,
    "scrolled": true
   },
   "outputs": [],
   "source": [
    "# 승/패, 골득실 Dataframe 통합\n",
    "f_tab = pd.concat([df_ftr, df_goal], axis=1)\n",
    "\n",
    "# 컬럼 순서 정리\n",
    "f_tab = f_tab[['Win', 'Draw', 'Lost', '득점', '실점', '골득실', 'Point']]\n",
    "\n",
    "# 승점 우선 정렬, 동률인 경우 골득실로 정렬\n",
    "f_tab.sort_values(['Point', '골득실'], ascending=False)"
   ]
  },
  {
   "cell_type": "markdown",
   "metadata": {},
   "source": [
    "---"
   ]
  },
  {
   "cell_type": "markdown",
   "metadata": {},
   "source": [
    "## 2. 각 팀별 성적 집계"
   ]
  },
  {
   "cell_type": "code",
   "execution_count": null,
   "metadata": {
    "collapsed": true
   },
   "outputs": [],
   "source": [
    "df_w.head()"
   ]
  },
  {
   "cell_type": "code",
   "execution_count": null,
   "metadata": {
    "collapsed": true
   },
   "outputs": [],
   "source": [
    "# 팀 이름 설정\n",
    "team_name = 'Liverpool'"
   ]
  },
  {
   "cell_type": "code",
   "execution_count": null,
   "metadata": {
    "collapsed": true,
    "scrolled": true
   },
   "outputs": [],
   "source": [
    "# Home team 일 경우의 데이터\n",
    "df_w[df_w['HomeTeam'] == team_name]"
   ]
  },
  {
   "cell_type": "code",
   "execution_count": null,
   "metadata": {
    "collapsed": true,
    "scrolled": true
   },
   "outputs": [],
   "source": [
    "# Away team 일 경우의 데이터\n",
    "df_w[df_w['AwayTeam'] == team_name]"
   ]
  },
  {
   "cell_type": "markdown",
   "metadata": {},
   "source": [
    "#### 승, 패 처리 함수 정의"
   ]
  },
  {
   "cell_type": "code",
   "execution_count": null,
   "metadata": {
    "collapsed": true
   },
   "outputs": [],
   "source": [
    "def result(x, home):\n",
    "    if x == 'H':\n",
    "        if home:  return 'W'\n",
    "        else:     return 'L'\n",
    "    elif x == 'A':\n",
    "        if home:  return 'L'\n",
    "        else:     return 'W'\n",
    "    else:\n",
    "        return x\n",
    "    "
   ]
  },
  {
   "cell_type": "markdown",
   "metadata": {},
   "source": [
    "#### Home team"
   ]
  },
  {
   "cell_type": "code",
   "execution_count": null,
   "metadata": {
    "collapsed": true,
    "scrolled": true
   },
   "outputs": [],
   "source": [
    "df_home = df_w[df_w['HomeTeam'] == team_name]\n",
    "df_home.head()"
   ]
  },
  {
   "cell_type": "code",
   "execution_count": null,
   "metadata": {
    "collapsed": true
   },
   "outputs": [],
   "source": [
    "# 컬럼 이름 수정\n",
    "df_home = df_home.rename(columns={'AwayTeam':'Opponent', 'FTHG':'득점', 'FTAG':'실점' })\n",
    "df_home.head()"
   ]
  },
  {
   "cell_type": "code",
   "execution_count": null,
   "metadata": {
    "collapsed": true
   },
   "outputs": [],
   "source": [
    "# 승, 패 처리\n",
    "df_home['FTR'] = df_home['FTR'].apply(result, home=True)\n",
    "df_home.head()"
   ]
  },
  {
   "cell_type": "markdown",
   "metadata": {},
   "source": [
    "#### Away team"
   ]
  },
  {
   "cell_type": "code",
   "execution_count": null,
   "metadata": {
    "collapsed": true,
    "scrolled": true
   },
   "outputs": [],
   "source": [
    "df_away = df_w[df_w['AwayTeam'] == team_name]\n",
    "df_away.head()"
   ]
  },
  {
   "cell_type": "code",
   "execution_count": null,
   "metadata": {
    "collapsed": true
   },
   "outputs": [],
   "source": [
    "# 컬럼 이름 수정\n",
    "df_away = df_away.rename(columns={'HomeTeam':'Opponent', 'FTHG':'실점', 'FTAG':'득점' })\n",
    "df_away.head()"
   ]
  },
  {
   "cell_type": "code",
   "execution_count": null,
   "metadata": {
    "collapsed": true
   },
   "outputs": [],
   "source": [
    "# 승, 패 처리\n",
    "df_away['FTR'] = df_away['FTR'].apply(result, home=False)\n",
    "df_away.head()"
   ]
  },
  {
   "cell_type": "markdown",
   "metadata": {},
   "source": [
    "#### Home + Away"
   ]
  },
  {
   "cell_type": "code",
   "execution_count": null,
   "metadata": {
    "collapsed": true,
    "scrolled": true
   },
   "outputs": [],
   "source": [
    "# Merge ( Home + Away )\n",
    "df_team = pd.merge(df_home, df_away, how='outer')\n",
    "df_team"
   ]
  },
  {
   "cell_type": "code",
   "execution_count": null,
   "metadata": {
    "collapsed": true
   },
   "outputs": [],
   "source": [
    "# 컬럼 삭제\n",
    "df_team.drop(['HomeTeam', 'AwayTeam'], axis=1, inplace=True)\n",
    "df_team.head()"
   ]
  },
  {
   "cell_type": "code",
   "execution_count": null,
   "metadata": {
    "collapsed": true
   },
   "outputs": [],
   "source": [
    "# Date 타입 변경 ( str --> datetime )\n",
    "df_team['Date'] = pd.to_datetime(df_team['Date'], format=\"%Y-%m-%d\")\n",
    "\n",
    "# Date 컬럼으로 정렬\n",
    "df_team.sort_values('Date', inplace=True)\n",
    "\n",
    "df_team.head()"
   ]
  },
  {
   "cell_type": "code",
   "execution_count": null,
   "metadata": {
    "collapsed": true
   },
   "outputs": [],
   "source": [
    "# Date 컬럼을 인덱스로 지정\n",
    "df_team.set_index('Date', inplace=True)\n",
    "df_team.head()"
   ]
  },
  {
   "cell_type": "markdown",
   "metadata": {},
   "source": [
    "#### Win, CumWin 컬럼 생성"
   ]
  },
  {
   "cell_type": "code",
   "execution_count": null,
   "metadata": {
    "collapsed": true,
    "scrolled": true
   },
   "outputs": [],
   "source": [
    "# Win 컬럼 생성 ( 승: 1, 패: 0, 무승부: 0 )\n",
    "df_team['Win'] = df_team['FTR'].map({'W':1, 'L':0, 'D': 0})\n",
    "df_team.head()"
   ]
  },
  {
   "cell_type": "code",
   "execution_count": null,
   "metadata": {
    "collapsed": true
   },
   "outputs": [],
   "source": [
    "# CumWin 컬럼 생성 ( 승리 누적 합계 )\n",
    "df_team['CumWin'] = df_team['Win'].cumsum()\n",
    "df_team.head(5)"
   ]
  },
  {
   "cell_type": "code",
   "execution_count": null,
   "metadata": {
    "collapsed": true
   },
   "outputs": [],
   "source": [
    "# 누적 승리 그래프\n",
    "df_team['CumWin'].plot()"
   ]
  },
  {
   "cell_type": "markdown",
   "metadata": {},
   "source": [
    "#### Lost, CumLost 컬럼 생성"
   ]
  },
  {
   "cell_type": "code",
   "execution_count": null,
   "metadata": {
    "collapsed": true
   },
   "outputs": [],
   "source": [
    "# Lost 컬럼 생성 ( 승: 0, 패: 1, 무승부: 0 )\n",
    "df_team['Lost'] = df_team['FTR'].map({'W':0, 'L':1, 'D': 0})"
   ]
  },
  {
   "cell_type": "code",
   "execution_count": null,
   "metadata": {
    "collapsed": true
   },
   "outputs": [],
   "source": [
    "# CumLost 컬럼 생성 ( 패배 누적 합계 )\n",
    "df_team['CumLost'] = df_team['Lost'].cumsum()"
   ]
  },
  {
   "cell_type": "code",
   "execution_count": null,
   "metadata": {
    "collapsed": true
   },
   "outputs": [],
   "source": [
    "# 누적 패배 그래프\n",
    "df_team['CumLost'].plot()"
   ]
  },
  {
   "cell_type": "code",
   "execution_count": null,
   "metadata": {
    "collapsed": true
   },
   "outputs": [],
   "source": [
    "# 누적 승/패 그래프\n",
    "df_team[['CumWin', 'CumLost']].plot()"
   ]
  },
  {
   "cell_type": "markdown",
   "metadata": {},
   "source": [
    "#### Point, CumPoint 컬럼 생성"
   ]
  },
  {
   "cell_type": "code",
   "execution_count": null,
   "metadata": {
    "collapsed": true
   },
   "outputs": [],
   "source": [
    "# Point 컬럼 생성 ( 승점 계산: W * 3 + D )\n",
    "df_team['Point'] = df_team['FTR'].map({'W':3, 'L':0, 'D': 1})"
   ]
  },
  {
   "cell_type": "code",
   "execution_count": null,
   "metadata": {
    "collapsed": true
   },
   "outputs": [],
   "source": [
    "# CumPoint 컬럼 생성 ( 승점 누적 합계 )\n",
    "df_team['CumPoint'] = df_team['Point'].cumsum()"
   ]
  },
  {
   "cell_type": "code",
   "execution_count": null,
   "metadata": {
    "collapsed": true
   },
   "outputs": [],
   "source": [
    "# 누적 승점 그래프\n",
    "df_team['CumPoint'].plot()"
   ]
  },
  {
   "cell_type": "markdown",
   "metadata": {},
   "source": [
    "---"
   ]
  },
  {
   "cell_type": "markdown",
   "metadata": {},
   "source": [
    "##  3. 각 팀별 성적 집계 - 함수 이용"
   ]
  },
  {
   "cell_type": "markdown",
   "metadata": {},
   "source": [
    "#### 성적 집계 함수 정의"
   ]
  },
  {
   "cell_type": "code",
   "execution_count": null,
   "metadata": {
    "collapsed": true
   },
   "outputs": [],
   "source": [
    "def team_analysis(df, team_name):\n",
    "\n",
    "    df_w = df\n",
    "    \n",
    "    #----------------------------------------------------------------------------\n",
    "    # 입력된 team 데이터 로드\n",
    "    #----------------------------------------------------------------------------\n",
    "    # Home, Away team 로드\n",
    "    df_home = df_w[df_w['HomeTeam'] == team_name]\n",
    "    df_away = df_w[df_w['AwayTeam'] == team_name]\n",
    "\n",
    "    # 승, 패 처리 함수 정의\n",
    "    def result(x, home):\n",
    "        if x == 'H':\n",
    "            if home: return 'W'\n",
    "            else:    return 'L'\n",
    "        elif x == 'A':\n",
    "            if home: return 'L'\n",
    "            else:    return 'W'\n",
    "        else:\n",
    "            return x\n",
    "    \n",
    "    #----------------------------------------------------------------------------\n",
    "    # team 별 데이터 처리\n",
    "    #----------------------------------------------------------------------------\n",
    "    # 컬럼 이름 수정\n",
    "    df_home = df_home.rename(columns={'AwayTeam':'Opponent', 'FTHG':'득점', 'FTAG':'실점' })\n",
    "    df_away = df_away.rename(columns={'HomeTeam':'Opponent', 'FTHG':'실점', 'FTAG':'득점' })\n",
    "    \n",
    "    # 승, 패 처리\n",
    "    df_home['FTR'] = df_home['FTR'].apply(result, home=True)\n",
    "    df_away['FTR'] = df_away['FTR'].apply(result, home=False)\n",
    "\n",
    "\n",
    "    #----------------------------------------------------------------------------\n",
    "    # 데이터 통합처리 ( Home + Away )\n",
    "    #----------------------------------------------------------------------------\n",
    "    # Merge ( Home + Away )\n",
    "    df_team = pd.merge(df_home, df_away, how='outer')\n",
    "    \n",
    "    # 컬럼 삭제\n",
    "    df_team.drop(['HomeTeam', 'AwayTeam'], axis=1, inplace=True)\n",
    "\n",
    "    # Date 타입 변경 ( str --> datetime )\n",
    "    df_team['Date'] = pd.to_datetime(df_team['Date'], format=\"%Y-%m-%d\")\n",
    "\n",
    "    # 날짜별 정렬\n",
    "    df_team.sort_values('Date', inplace=True)\n",
    "    \n",
    "    # 날짜로 인덱스 설정\n",
    "    df_team.set_index('Date', inplace=True)\n",
    "    \n",
    "\n",
    "    #----------------------------------------------------------------------------\n",
    "    # 집계 컬럼 생성\n",
    "    #----------------------------------------------------------------------------\n",
    "    # Win, CumWin 컬럼 생성\n",
    "    df_team['Win'] = df_team['FTR'].map({'W':1, 'L':0, 'D': 0})\n",
    "    df_team['CumWin'] = df_team['Win'].cumsum()\n",
    "\n",
    "    # Lost, CumLost 컬럼 생성\n",
    "    df_team['Lost'] = df_team['FTR'].map({'W':0, 'L':1, 'D': 0})\n",
    "    df_team['CumLost'] = df_team['Lost'].cumsum()\n",
    "\n",
    "    # Point, CumPoint 컬럼 생성\n",
    "    df_team['Point'] = df_team['FTR'].map({'W':3, 'L':0, 'D': 1})\n",
    "    df_team['CumPoint'] = df_team['Point'].cumsum()\n",
    "    \n",
    "    df_team.name = team_name\n",
    "    \n",
    "    return df_team"
   ]
  },
  {
   "cell_type": "markdown",
   "metadata": {},
   "source": [
    "#### 각 팀별 성적 집계"
   ]
  },
  {
   "cell_type": "code",
   "execution_count": null,
   "metadata": {
    "collapsed": true,
    "scrolled": true
   },
   "outputs": [],
   "source": [
    "# 레스터 시티\n",
    "leicester = team_analysis(df_w, 'Leicester')\n",
    "leicester"
   ]
  },
  {
   "cell_type": "code",
   "execution_count": null,
   "metadata": {
    "collapsed": true
   },
   "outputs": [],
   "source": [
    "leicester['CumPoint'].plot()"
   ]
  },
  {
   "cell_type": "code",
   "execution_count": null,
   "metadata": {
    "collapsed": true
   },
   "outputs": [],
   "source": [
    "# 첼시\n",
    "chelsea = team_analysis(df_w, 'Chelsea')\n",
    "chelsea.index.name = 'Date'\n",
    "chelsea.head()"
   ]
  },
  {
   "cell_type": "code",
   "execution_count": null,
   "metadata": {
    "collapsed": true
   },
   "outputs": [],
   "source": [
    "#import openpyxl"
   ]
  },
  {
   "cell_type": "code",
   "execution_count": null,
   "metadata": {
    "collapsed": true
   },
   "outputs": [],
   "source": [
    "# 파일 저장\n",
    "chelsea.to_excel('data/chelsea.xlsx')"
   ]
  },
  {
   "cell_type": "markdown",
   "metadata": {},
   "source": [
    "#### 여러 팀 성적 집계"
   ]
  },
  {
   "cell_type": "code",
   "execution_count": null,
   "metadata": {
    "collapsed": true
   },
   "outputs": [],
   "source": [
    "# 처리할 팀 리스트\n",
    "teams = ['Chelsea', 'Liverpool', 'Arsenal', 'Leicester']"
   ]
  },
  {
   "cell_type": "code",
   "execution_count": null,
   "metadata": {
    "collapsed": true
   },
   "outputs": [],
   "source": [
    "plt.figure(figsize=(8,4))\n",
    "\n",
    "for t in teams:\n",
    "    # 누적 승점 그래프\n",
    "    df = team_analysis(df_w, t)['CumPoint']\n",
    "    df.plot(label=t)\n",
    "\n",
    "\n",
    "plt.legend(loc='best')\n",
    "plt.ylabel('Cumulative Points')"
   ]
  },
  {
   "cell_type": "markdown",
   "metadata": {
    "collapsed": true
   },
   "source": [
    "---"
   ]
  },
  {
   "cell_type": "code",
   "execution_count": null,
   "metadata": {
    "collapsed": true
   },
   "outputs": [],
   "source": [
    "# end of file"
   ]
  },
  {
   "cell_type": "code",
   "execution_count": null,
   "metadata": {
    "collapsed": true
   },
   "outputs": [],
   "source": []
  }
 ],
 "metadata": {
  "anaconda-cloud": {},
  "kernelspec": {
   "display_name": "Python [default]",
   "language": "python",
   "name": "python3"
  },
  "language_info": {
   "codemirror_mode": {
    "name": "ipython",
    "version": 3
   },
   "file_extension": ".py",
   "mimetype": "text/x-python",
   "name": "python",
   "nbconvert_exporter": "python",
   "pygments_lexer": "ipython3",
   "version": "3.5.2"
  }
 },
 "nbformat": 4,
 "nbformat_minor": 1
}
