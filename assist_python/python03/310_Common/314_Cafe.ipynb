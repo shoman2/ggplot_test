{
 "cells": [
  {
   "cell_type": "markdown",
   "metadata": {},
   "source": [
    "# Cafe: 음료 판매"
   ]
  },
  {
   "cell_type": "markdown",
   "metadata": {},
   "source": [
    "---"
   ]
  },
  {
   "cell_type": "code",
   "execution_count": null,
   "metadata": {},
   "outputs": [],
   "source": [
    "import datetime\n",
    "\n",
    "import numpy as np\n",
    "import pandas as pd\n",
    "import matplotlib.pyplot as plt\n",
    "%matplotlib inline \n",
    "\n",
    "from matplotlib.pylab import rcParams, style\n",
    "rcParams['figure.figsize'] = 12, 8\n",
    "rcParams['font.family'] = 'NanumGothic'\n",
    "rcParams['font.size'] = 10\n",
    "\n",
    "style.use('ggplot')\n"
   ]
  },
  {
   "cell_type": "markdown",
   "metadata": {},
   "source": [
    "### DBMS 에서 데이터 읽기"
   ]
  },
  {
   "cell_type": "code",
   "execution_count": null,
   "metadata": {},
   "outputs": [],
   "source": [
    "#import pandas.io.sql as sql\n",
    "#import MySQLdb"
   ]
  },
  {
   "cell_type": "code",
   "execution_count": null,
   "metadata": {},
   "outputs": [],
   "source": [
    "# MySQL DB에 연결\n",
    "'''\n",
    "con = MySQLdb.connect(host='127.0.0.1', port=3306, \n",
    "                      user=CAFE_DB_USER, \n",
    "                      passwd=CAFE_DB_PASSWD, \n",
    "                      db=CAFE_DB_NAME)\n",
    "'''"
   ]
  },
  {
   "cell_type": "code",
   "execution_count": null,
   "metadata": {},
   "outputs": [],
   "source": [
    "# SQL로 MySQL에서 가져오기\n",
    "'''\n",
    "orders = sql.read_sql('select * from tbl_order', conn)\n",
    "order_menus = sql.read_sql('select * from tbl_ordermenu', conn)\n",
    "menus = sql.read_sql('select * from tbl_menu', conn)\n",
    "'''"
   ]
  },
  {
   "cell_type": "markdown",
   "metadata": {},
   "source": [
    "### 데이터 로드 ( from pickle )"
   ]
  },
  {
   "cell_type": "code",
   "execution_count": null,
   "metadata": {},
   "outputs": [],
   "source": [
    "orders      = pd.read_pickle('data/orders.pickle')\n",
    "order_menus = pd.read_pickle('data/order_menus.pickle')\n",
    "menus       = pd.read_pickle('data/menus.pickle')"
   ]
  },
  {
   "cell_type": "code",
   "execution_count": null,
   "metadata": {},
   "outputs": [],
   "source": [
    "# 주문자 이름, 회사명 익명화\n",
    "'''\n",
    "import random_name\n",
    "\n",
    "name_map    = dict(zip(list(orders['user'].unique()), random_name.generate(790)))  # 790\n",
    "company_map = dict(zip(list(orders['company'].unique()), random_name.generate(7))) # 7\n",
    "\n",
    "orders['user']    = orders['user'].apply(lambda x: name_map[x])\n",
    "orders['company'] = orders['company'].apply(lambda x: company_map[x])\n",
    "'''"
   ]
  },
  {
   "cell_type": "code",
   "execution_count": null,
   "metadata": {},
   "outputs": [],
   "source": [
    "orders.head()"
   ]
  },
  {
   "cell_type": "code",
   "execution_count": null,
   "metadata": {},
   "outputs": [],
   "source": [
    "menus.head()"
   ]
  },
  {
   "cell_type": "code",
   "execution_count": null,
   "metadata": {},
   "outputs": [],
   "source": [
    "order_menus.tail()"
   ]
  },
  {
   "cell_type": "markdown",
   "metadata": {},
   "source": [
    "### 데이터 분석"
   ]
  },
  {
   "cell_type": "code",
   "execution_count": null,
   "metadata": {},
   "outputs": [],
   "source": [
    "# Merge(order_id 기준, outer join): orders + order_menus\n",
    "df = orders.merge(order_menus, how='outer', left_index=True, right_on='order_id')"
   ]
  },
  {
   "cell_type": "code",
   "execution_count": null,
   "metadata": {},
   "outputs": [],
   "source": [
    "# Merge(menu_id 기준, outer join): df + menus\n",
    "df = df.merge(menus, how='outer', left_on='menu_id', right_index=True)"
   ]
  },
  {
   "cell_type": "code",
   "execution_count": null,
   "metadata": {},
   "outputs": [],
   "source": [
    "df.head()"
   ]
  },
  {
   "cell_type": "code",
   "execution_count": null,
   "metadata": {
    "scrolled": true
   },
   "outputs": [],
   "source": [
    "# 결측치 확인\n",
    "df[df.isnull().any(axis=1)]"
   ]
  },
  {
   "cell_type": "markdown",
   "metadata": {},
   "source": [
    "#### 사용자별 주문 횟수"
   ]
  },
  {
   "cell_type": "code",
   "execution_count": null,
   "metadata": {},
   "outputs": [],
   "source": [
    "# Grouping: 사용자 별\n",
    "gp_user = df.groupby('user')"
   ]
  },
  {
   "cell_type": "code",
   "execution_count": null,
   "metadata": {},
   "outputs": [],
   "source": [
    "# 사용자(손님)별 주문횟수\n",
    "oder_cnt = gp_user.size()\n",
    "oder_cnt.head()"
   ]
  },
  {
   "cell_type": "code",
   "execution_count": null,
   "metadata": {},
   "outputs": [],
   "source": [
    "# 주문횟수로 정렬: 구매왕\n",
    "oder_cnt.sort_values(inplace=True, ascending=False)"
   ]
  },
  {
   "cell_type": "code",
   "execution_count": null,
   "metadata": {},
   "outputs": [],
   "source": [
    "oder_cnt.head()"
   ]
  },
  {
   "cell_type": "code",
   "execution_count": null,
   "metadata": {},
   "outputs": [],
   "source": [
    "oder_cnt.describe()"
   ]
  },
  {
   "cell_type": "markdown",
   "metadata": {},
   "source": [
    "#### 인덱스 재설정( 주문시간 기준)"
   ]
  },
  {
   "cell_type": "code",
   "execution_count": null,
   "metadata": {},
   "outputs": [],
   "source": [
    "# id: index --> column\n",
    "df.reset_index(inplace=True)\n",
    "df.head()"
   ]
  },
  {
   "cell_type": "code",
   "execution_count": null,
   "metadata": {},
   "outputs": [],
   "source": [
    "# created: column --> index\n",
    "df.set_index('created', inplace=True)\n",
    "df.head()"
   ]
  },
  {
   "cell_type": "code",
   "execution_count": null,
   "metadata": {},
   "outputs": [],
   "source": [
    "# 인덱스 결측치 제거\n",
    "df = df[df.index.notnull()]\n",
    "\n",
    "# 2016-01-08: 샘플(테스트) 데이터 --> 제거\n",
    "df = df['2016-01-09': ]\n",
    "\n",
    "# Local time 으로 수정\n",
    "df = df.shift(9, freq='H')"
   ]
  },
  {
   "cell_type": "code",
   "execution_count": null,
   "metadata": {},
   "outputs": [],
   "source": [
    "df.head()"
   ]
  },
  {
   "cell_type": "markdown",
   "metadata": {},
   "source": [
    "#### 일별 판매량"
   ]
  },
  {
   "cell_type": "code",
   "execution_count": null,
   "metadata": {},
   "outputs": [],
   "source": [
    "# 영업일 설정(휴일 추가 등록)\n",
    "from pandas.tseries.offsets import CustomBusinessDay\n",
    "\n",
    "holidays = ['2016-02-08', '2016-02-09', '2016-02-10',\n",
    "            '2016-03-01',\n",
    "            '2016-03-16', '2016-03-17',\n",
    "            '2016-04-13',\n",
    "            '2016-04-18',\n",
    "            '2016-05-05', \n",
    "            '2016-05-06'\n",
    "]\n",
    "\n",
    "bdays = CustomBusinessDay(holidays=holidays)"
   ]
  },
  {
   "cell_type": "code",
   "execution_count": null,
   "metadata": {},
   "outputs": [],
   "source": [
    "# 일별 판매량: 영업일 기준으로 리샘플링하여 일별 카운트 계산\n",
    "df['id'].resample(bdays).count().plot(figsize=(16,5))"
   ]
  },
  {
   "cell_type": "code",
   "execution_count": null,
   "metadata": {},
   "outputs": [],
   "source": [
    "df['id'].resample(bdays).count().plot(kind='bar', figsize=(16,5))"
   ]
  },
  {
   "cell_type": "code",
   "execution_count": null,
   "metadata": {},
   "outputs": [],
   "source": [
    "# 판매량이 140 보다 적은 날\n",
    "df_t = df.resample(bdays).count()\n",
    "df_t[df_t.user < 140]"
   ]
  },
  {
   "cell_type": "markdown",
   "metadata": {},
   "source": [
    "### 회사별 판매량"
   ]
  },
  {
   "cell_type": "code",
   "execution_count": null,
   "metadata": {},
   "outputs": [],
   "source": [
    "df['company'].unique()"
   ]
  },
  {
   "cell_type": "code",
   "execution_count": null,
   "metadata": {},
   "outputs": [],
   "source": [
    "gp_com = df.groupby('company')\n",
    "com_cnt = gp_com.count()\n",
    "com_cnt"
   ]
  },
  {
   "cell_type": "code",
   "execution_count": null,
   "metadata": {},
   "outputs": [],
   "source": [
    "# 회사별 사용자별 판매량\n",
    "fuzzy = gp_com.get_group('fuzzy-aqua-squirrel').groupby('user').size()\n",
    "messy = gp_com.get_group('messy-bistre-barnacle').groupby('user').size()\n",
    "zippy = gp_com.get_group('zippy-periwinkle-bloodhound').groupby('user').size()"
   ]
  },
  {
   "cell_type": "code",
   "execution_count": null,
   "metadata": {},
   "outputs": [],
   "source": [
    "zippy.head()"
   ]
  },
  {
   "cell_type": "markdown",
   "metadata": {},
   "source": [
    "### 개인컵, 아이스 음료 주문 건수"
   ]
  },
  {
   "cell_type": "code",
   "execution_count": null,
   "metadata": {},
   "outputs": [],
   "source": [
    "gp_com.get_group('fuzzy-aqua-squirrel').resample(bdays).get_group('2016-01-14')"
   ]
  },
  {
   "cell_type": "code",
   "execution_count": null,
   "metadata": {},
   "outputs": [],
   "source": [
    "def com_cup_ice(com):\n",
    "    return gp_com.get_group(com)[['user', 'use_cup', 'is_ice']].resample(bdays).agg({'user':np.size, 'use_cup':np.sum, 'is_ice':np.sum}).reindex(['user', 'use_cup', 'is_ice'], axis=1)"
   ]
  },
  {
   "cell_type": "code",
   "execution_count": null,
   "metadata": {
    "scrolled": true
   },
   "outputs": [],
   "source": [
    "com_cup_ice('fuzzy-aqua-squirrel')\n",
    "\n",
    "#com_cup_ice('messy-bistre-barnacle')\n",
    "#com_cup_ice('zippy-periwinkle-bloodhound')\n"
   ]
  },
  {
   "cell_type": "markdown",
   "metadata": {},
   "source": [
    "### 회사별, 영업일 별 판매량"
   ]
  },
  {
   "cell_type": "code",
   "execution_count": null,
   "metadata": {
    "scrolled": true
   },
   "outputs": [],
   "source": [
    "df_t = gp_com.resample(bdays).count()[['id','is_ice', 'use_cup']]\n",
    "df_t"
   ]
  },
  {
   "cell_type": "code",
   "execution_count": null,
   "metadata": {
    "scrolled": true
   },
   "outputs": [],
   "source": [
    "bday_cnt = df_t['id'].unstack(level=0).fillna(0)\n",
    "bday_cnt"
   ]
  },
  {
   "cell_type": "code",
   "execution_count": null,
   "metadata": {
    "scrolled": true
   },
   "outputs": [],
   "source": [
    "# 3개 회사 선택\n",
    "bday_cnt_com = bday_cnt[['zippy-periwinkle-bloodhound', 'messy-bistre-barnacle', 'fuzzy-aqua-squirrel']]\n",
    "bday_cnt_com"
   ]
  },
  {
   "cell_type": "code",
   "execution_count": null,
   "metadata": {},
   "outputs": [],
   "source": [
    "bday_cnt_com.plot(figsize=(16,5), kind='area')"
   ]
  },
  {
   "cell_type": "markdown",
   "metadata": {},
   "source": [
    "### 회사별, 영업일 별 개인컵, 아이스 음료 판매량"
   ]
  },
  {
   "cell_type": "code",
   "execution_count": null,
   "metadata": {
    "scrolled": true
   },
   "outputs": [],
   "source": [
    "ice_per_com = gp_com.resample(bdays).sum()[['is_ice', 'use_cup']]\n",
    "ice_per_com"
   ]
  },
  {
   "cell_type": "code",
   "execution_count": null,
   "metadata": {
    "scrolled": true
   },
   "outputs": [],
   "source": [
    "ice_per_com.loc['zippy-periwinkle-bloodhound']"
   ]
  },
  {
   "cell_type": "code",
   "execution_count": null,
   "metadata": {},
   "outputs": [],
   "source": [
    "# 개인컵, 아이스 음료 판매 비율\n",
    "\n",
    "fig, axes = plt.subplots(3,1)\n",
    "\n",
    "def cup_n_ice(com, ax):\n",
    "    ax.set_title(com)\n",
    "    \n",
    "    df_t = ice_per_com.loc[com]\n",
    "    \n",
    "    df_t['total'] = bday_cnt[com]    # 영업일별 전체 판매량\n",
    "    df_t['cup_ratio']   = df_t['use_cup'] * 100 / df_t['total']\n",
    "    df_t['ice_ratio']   = df_t['is_ice']  * 100 / df_t['total']\n",
    "    \n",
    "    df_t[['cup_ratio', 'ice_ratio']].plot(figsize=(16,8), ax=ax, sharex=True)\n",
    "\n",
    "plt.ylim(0, 100)\n",
    "\n",
    "cup_n_ice('zippy-periwinkle-bloodhound', axes[0])\n",
    "cup_n_ice('messy-bistre-barnacle',       axes[1])\n",
    "cup_n_ice('fuzzy-aqua-squirrel',         axes[2])\n",
    "\n",
    "plt.tight_layout()"
   ]
  },
  {
   "cell_type": "markdown",
   "metadata": {},
   "source": [
    "### 요일별 판매량"
   ]
  },
  {
   "cell_type": "code",
   "execution_count": null,
   "metadata": {},
   "outputs": [],
   "source": [
    "# 요일별 판매량\n",
    "df_wday = df.groupby(df.index.weekday).agg({'id': np.size})\n",
    "\n",
    "df_wday.plot(kind='bar', figsize=(8,3))\n",
    "\n",
    "plt.ylim(3070,3300)"
   ]
  },
  {
   "cell_type": "markdown",
   "metadata": {},
   "source": [
    "### 시간대별 판매량"
   ]
  },
  {
   "cell_type": "code",
   "execution_count": null,
   "metadata": {
    "scrolled": false
   },
   "outputs": [],
   "source": [
    "# 시간대별 판매량\n",
    "df_hour = df.groupby(df.index.hour).agg({'id': np.size}).loc[8:20]\n",
    "\n",
    "df_hour.plot(kind='bar', figsize=(12,5))"
   ]
  },
  {
   "cell_type": "code",
   "execution_count": null,
   "metadata": {},
   "outputs": [],
   "source": []
  },
  {
   "cell_type": "code",
   "execution_count": null,
   "metadata": {},
   "outputs": [],
   "source": [
    "# end of file"
   ]
  },
  {
   "cell_type": "code",
   "execution_count": null,
   "metadata": {},
   "outputs": [],
   "source": []
  }
 ],
 "metadata": {
  "kernelspec": {
   "display_name": "Python 3",
   "language": "python",
   "name": "python3"
  },
  "language_info": {
   "codemirror_mode": {
    "name": "ipython",
    "version": 3
   },
   "file_extension": ".py",
   "mimetype": "text/x-python",
   "name": "python",
   "nbconvert_exporter": "python",
   "pygments_lexer": "ipython3",
   "version": "3.6.6"
  }
 },
 "nbformat": 4,
 "nbformat_minor": 1
}
