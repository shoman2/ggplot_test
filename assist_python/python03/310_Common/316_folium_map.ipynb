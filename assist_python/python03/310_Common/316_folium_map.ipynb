{
 "cells": [
  {
   "cell_type": "markdown",
   "metadata": {},
   "source": [
    "# 시각화: 지도"
   ]
  },
  {
   "cell_type": "markdown",
   "metadata": {},
   "source": [
    "## Library - folium"
   ]
  },
  {
   "cell_type": "markdown",
   "metadata": {},
   "source": [
    "---"
   ]
  },
  {
   "cell_type": "code",
   "execution_count": null,
   "metadata": {},
   "outputs": [],
   "source": [
    "import pandas as pd"
   ]
  },
  {
   "cell_type": "code",
   "execution_count": null,
   "metadata": {},
   "outputs": [],
   "source": [
    "# !pip install folium\n",
    "import folium"
   ]
  },
  {
   "cell_type": "markdown",
   "metadata": {},
   "source": [
    "### 데이터 로드"
   ]
  },
  {
   "cell_type": "code",
   "execution_count": null,
   "metadata": {},
   "outputs": [],
   "source": [
    "df = pd.read_csv('data/starbucks.csv')\n",
    "df.head()"
   ]
  },
  {
   "cell_type": "markdown",
   "metadata": {},
   "source": [
    "### 지도에 위치 표시"
   ]
  },
  {
   "cell_type": "code",
   "execution_count": null,
   "metadata": {},
   "outputs": [],
   "source": [
    "\n",
    "#tileset = 'http://{s}.basemaps.cartocdn.com/light_nolabels/{z}/{x}/{y}.png'\n",
    "#tileset = 'http://{s}.basemaps.cartocdn.com/dark_nolabels/{z}/{x}/{y}.png'\n",
    "tileset=\"http://{s}.tile.stamen.com/watercolor/{z}/{x}/{y}.jpg\"\n",
    "\n",
    "'''\n",
    "map_osm = folium.Map(location=[37.5491,126.98955],\n",
    "                     tiles=tileset,\n",
    "                     zoom_start=14,\n",
    "                     attr='cartocdn')\n",
    "\n",
    "'''\n",
    "\n",
    "map_osm = folium.Map(location=[37.5491,126.98955], zoom_start=14)\n",
    "\n",
    "\n",
    "for idx, df_iter in df.iterrows():\n",
    "    df_iter['coord'] = df_iter['coord'].replace('[', '')\n",
    "    df_iter['coord'] = df_iter['coord'].replace(']', '')\n",
    "    lat, lng = df_iter['coord'].split(',')\n",
    "    \n",
    "    popup = folium.Popup(df_iter['name'])\n",
    "    \n",
    "    circle = folium.CircleMarker(location=[float(lat), float(lng)],\n",
    "                                 radius=4,\n",
    "                                 popup=popup,\n",
    "                                 color='black',\n",
    "                                 fill_color='#00FF00',\n",
    "                                 fill_opacity=0.5)\n",
    "                                 \n",
    "    map_osm.add_child(circle)\n",
    "    \n",
    "map_osm"
   ]
  },
  {
   "cell_type": "code",
   "execution_count": null,
   "metadata": {},
   "outputs": [],
   "source": []
  },
  {
   "cell_type": "code",
   "execution_count": null,
   "metadata": {},
   "outputs": [],
   "source": [
    "# end of file"
   ]
  },
  {
   "cell_type": "code",
   "execution_count": null,
   "metadata": {},
   "outputs": [],
   "source": []
  }
 ],
 "metadata": {
  "kernelspec": {
   "display_name": "Python 3",
   "language": "python",
   "name": "python3"
  },
  "language_info": {
   "codemirror_mode": {
    "name": "ipython",
    "version": 3
   },
   "file_extension": ".py",
   "mimetype": "text/x-python",
   "name": "python",
   "nbconvert_exporter": "python",
   "pygments_lexer": "ipython3",
   "version": "3.6.6"
  }
 },
 "nbformat": 4,
 "nbformat_minor": 1
}
