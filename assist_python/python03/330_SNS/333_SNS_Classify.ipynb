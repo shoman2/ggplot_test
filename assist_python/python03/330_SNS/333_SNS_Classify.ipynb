{
 "cells": [
  {
   "cell_type": "markdown",
   "metadata": {},
   "source": [
    "# SNS 데이터 분석 - 그룹 나누기"
   ]
  },
  {
   "cell_type": "markdown",
   "metadata": {},
   "source": [
    "## 문장 분류"
   ]
  },
  {
   "cell_type": "markdown",
   "metadata": {},
   "source": [
    "---"
   ]
  },
  {
   "cell_type": "code",
   "execution_count": null,
   "metadata": {},
   "outputs": [],
   "source": [
    "import os\n",
    "import numpy as np\n",
    "import pandas as pd\n",
    "\n",
    "from gensim.models import Word2Vec\n"
   ]
  },
  {
   "cell_type": "markdown",
   "metadata": {},
   "source": [
    "### 사용자 설정"
   ]
  },
  {
   "cell_type": "code",
   "execution_count": null,
   "metadata": {},
   "outputs": [],
   "source": [
    "# word2vec 모델 파일\n",
    "fname_model   = 'data/w2v_model.bin'\n",
    "\n",
    "# 그룹별 키워드 정의 파일\n",
    "fname_group   = 'data/group_101.xlsx'\n",
    "\n",
    "# 형태소 분류된 컨텐츠 파일\n",
    "#fname_content = 'data/morph_101.txt'\n",
    "fname_content = 'data/morph_101.txt'\n",
    "\n",
    "# 그룹별 분류 결과 파일\n",
    "fname_result  = 'data/result_101.csv'\n",
    "\n",
    "# 문장전체에 대해 매칭된 단어의 수가 WSCORE_MAX 이상이어야 그 그룹으로 채택 \n",
    "WSCORE_MAX = 5\n",
    "\n",
    "# 유사도 비교시 사용할 기준값\n",
    "SIM_THRESHOLD = 0.6"
   ]
  },
  {
   "cell_type": "markdown",
   "metadata": {},
   "source": [
    "### 단어 비교 함수 정의"
   ]
  },
  {
   "cell_type": "code",
   "execution_count": null,
   "metadata": {},
   "outputs": [],
   "source": [
    "def cmp_word( word1, word2, sim_std = 0.7):\n",
    "    try:\n",
    "        sim = w2v_model.similarity(word1, word2)\n",
    "        if sim >= sim_std:\n",
    "            return True\n",
    "        else:\n",
    "            return False\n",
    "    except:\n",
    "        return False"
   ]
  },
  {
   "cell_type": "markdown",
   "metadata": {},
   "source": [
    "### Word2Vec  모델 로드"
   ]
  },
  {
   "cell_type": "code",
   "execution_count": null,
   "metadata": {},
   "outputs": [],
   "source": [
    "# Load Word2Vec model\n",
    "w2v_model = Word2Vec.load(fname_model)\n"
   ]
  },
  {
   "cell_type": "markdown",
   "metadata": {},
   "source": [
    "### 그룹별 키워드 정의 파일 로드"
   ]
  },
  {
   "cell_type": "code",
   "execution_count": null,
   "metadata": {},
   "outputs": [],
   "source": [
    "df_g = pd.read_excel(fname_group, encoding='cp949')\n",
    "\n",
    "# Initialize\n",
    "df_g['wscore'] = 0\n",
    "df_g"
   ]
  },
  {
   "cell_type": "markdown",
   "metadata": {},
   "source": [
    "### 컨텐츠 파일 로드"
   ]
  },
  {
   "cell_type": "code",
   "execution_count": null,
   "metadata": {},
   "outputs": [],
   "source": [
    "df_c = pd.read_csv(fname_content, sep='\\t', header=None, encoding='utf-8')\n",
    "\n",
    "df_c.rename(columns= {0:'doc_id', 1:'content'}, inplace=True)\n",
    "df_c.set_index('doc_id', inplace=True)\n",
    "\n",
    "# Initialize\n",
    "df_c['gid'] = 0\n",
    "df_c['gname'] = '알수없는그룹'\n",
    "df_c"
   ]
  },
  {
   "cell_type": "markdown",
   "metadata": {},
   "source": [
    "### 스코어 설정 함수 정의"
   ]
  },
  {
   "cell_type": "code",
   "execution_count": null,
   "metadata": {},
   "outputs": [],
   "source": [
    "def set_score( word ):\n",
    "    for idx, key_lst in enumerate(df_g['keyword']):\n",
    "        for keyword in key_lst.split(','):\n",
    "            if cmp_word(word, keyword, sim_std = SIM_THRESHOLD):\n",
    "                df_g['wscore'].iloc[idx] += 1\n",
    "                break\n",
    "                "
   ]
  },
  {
   "cell_type": "markdown",
   "metadata": {},
   "source": [
    "### 컨텐츠 파일 내용 그룹별 분류"
   ]
  },
  {
   "cell_type": "code",
   "execution_count": null,
   "metadata": {},
   "outputs": [],
   "source": [
    "%%time\n",
    "for i, line in enumerate(df_c['content']):\n",
    "    df_g['wscore'] = 0\n",
    "    if not isinstance(line,str): continue\n",
    "    for word in line.split():\n",
    "        set_score(word)\n",
    "        \n",
    "    wscore_max = df_g['wscore'].max()\n",
    "    if wscore_max >= WSCORE_MAX:\n",
    "        df_t = df_g[df_g['wscore'] == wscore_max]\n",
    "        df_c['gid'].iloc[i] = df_t['gid'].iloc[0]\n",
    "        df_c['gname'].iloc[i] = df_t['gname'].iloc[0]\n",
    "    #\n",
    "    # FDNX FIXME: For testing...\n",
    "    #\n",
    "    if i == 10 : break\n",
    "    "
   ]
  },
  {
   "cell_type": "code",
   "execution_count": null,
   "metadata": {
    "scrolled": true
   },
   "outputs": [],
   "source": [
    "df_c"
   ]
  },
  {
   "cell_type": "markdown",
   "metadata": {},
   "source": [
    "### 그룹별 분류 결과 파일 저장"
   ]
  },
  {
   "cell_type": "code",
   "execution_count": null,
   "metadata": {},
   "outputs": [],
   "source": [
    "df_c.to_csv(fname_result, encoding='cp949')"
   ]
  },
  {
   "cell_type": "markdown",
   "metadata": {},
   "source": [
    "### <참고> Word2Vec 유사도"
   ]
  },
  {
   "cell_type": "code",
   "execution_count": null,
   "metadata": {
    "scrolled": false
   },
   "outputs": [],
   "source": [
    "w2v_model.wv.similarity('어미', '동물')"
   ]
  },
  {
   "cell_type": "code",
   "execution_count": null,
   "metadata": {
    "scrolled": true
   },
   "outputs": [],
   "source": [
    "w2v_model.wv.most_similar('강아지', topn=10)"
   ]
  },
  {
   "cell_type": "code",
   "execution_count": null,
   "metadata": {},
   "outputs": [],
   "source": []
  },
  {
   "cell_type": "code",
   "execution_count": null,
   "metadata": {},
   "outputs": [],
   "source": [
    "# end of file"
   ]
  },
  {
   "cell_type": "code",
   "execution_count": null,
   "metadata": {},
   "outputs": [],
   "source": []
  }
 ],
 "metadata": {
  "kernelspec": {
   "display_name": "Python 3",
   "language": "python",
   "name": "python3"
  },
  "language_info": {
   "codemirror_mode": {
    "name": "ipython",
    "version": 3
   },
   "file_extension": ".py",
   "mimetype": "text/x-python",
   "name": "python",
   "nbconvert_exporter": "python",
   "pygments_lexer": "ipython3",
   "version": "3.6.6"
  }
 },
 "nbformat": 4,
 "nbformat_minor": 2
}
