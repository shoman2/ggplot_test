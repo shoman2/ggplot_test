{
 "cells": [
  {
   "cell_type": "markdown",
   "metadata": {},
   "source": [
    "## 김광수님 보충자료"
   ]
  },
  {
   "cell_type": "code",
   "execution_count": 2,
   "metadata": {},
   "outputs": [],
   "source": [
    "## 지난시간 Recap\n",
    "\n",
    "import requests\n",
    "from bs4 import BeautifulSoup"
   ]
  },
  {
   "cell_type": "code",
   "execution_count": 3,
   "metadata": {},
   "outputs": [],
   "source": [
    "url = 'https://search.naver.com/search.naver'\n",
    "params = {\n",
    "    'query' : '스카이캐슬',\n",
    "    'where' : 'post',\n",
    "    'start' : 21\n",
    "}"
   ]
  },
  {
   "cell_type": "code",
   "execution_count": 4,
   "metadata": {},
   "outputs": [],
   "source": [
    "res = requests.get(url, params=params)"
   ]
  },
  {
   "cell_type": "code",
   "execution_count": 5,
   "metadata": {},
   "outputs": [],
   "source": [
    "soup = BeautifulSoup(res.text, 'html.parser')"
   ]
  },
  {
   "cell_type": "code",
   "execution_count": 6,
   "metadata": {},
   "outputs": [
    {
     "data": {
      "text/plain": [
       "[<a class=\"sh_blog_title _sp_each_url _sp_each_title\" href=\"https://blog.naver.com/ampm8344?Redirect=Log&amp;logNo=221445783727\" onclick=\"return goOtherCR(this, 'a=blg*i.tit&amp;r=21&amp;i=90000003_00000000000000338F3280AF&amp;u='+urlencode(this.href))\" target=\"_blank\" title=\"We all lie 신드롬 ,가사&amp; 해석 이미지 .  [ 스카이 캐슬 OST -하진]\">lie 신드롬 ,가사&amp; 해석 이미지 . [ <strong class=\"hl\">스카이 캐슬</strong> OST -하진]</a>,\n",
       " <a class=\"sh_blog_title _sp_each_url _sp_each_title\" href=\"https://blog.naver.com/rianbibi?Redirect=Log&amp;logNo=221445430350\" onclick=\"return goOtherCR(this, 'a=blg*i.tit&amp;r=22&amp;i=90000003_00000000000000338F2D1C4E&amp;u='+urlencode(this.href))\" target=\"_blank\" title=\"심즈4 - [건축] 드라마 스카이캐슬 집 만들기\">심즈4 - [건축] 드라마 <strong class=\"hl\">스카이캐슬</strong> 집 만들기</a>,\n",
       " <a class=\"sh_blog_title _sp_each_url _sp_each_title\" href=\"https://jsy55012.blog.me/221435026790\" onclick=\"return goOtherCR(this, 'a=blg*i.tit&amp;r=23&amp;i=90000003_00000000000000338E8E5D66&amp;u='+urlencode(this.href))\" target=\"_blank\" title=\"SKY 캐슬 13회 줄거리 스카이 캐슬\">SKY 캐슬 13회 줄거리 <strong class=\"hl\">스카이 캐슬</strong></a>,\n",
       " <a class=\"sh_blog_title _sp_each_url _sp_each_title\" href=\"https://kws3128pdm.blog.me/221445830810\" onclick=\"return goOtherCR(this, 'a=blg*i.tit&amp;r=24&amp;i=90000003_00000000000000338F33389A&amp;u='+urlencode(this.href))\" target=\"_blank\" title=\"[스카이캐슬 17회 줄거리] 강예서에 발목잡힌 한서진\">[<strong class=\"hl\">스카이캐슬</strong> 17회 줄거리] 강예서에 발목잡힌 한서진</a>,\n",
       " <a class=\"sh_blog_title _sp_each_url _sp_each_title\" href=\"https://blog.naver.com/soulmate5959?Redirect=Log&amp;logNo=221435198918\" onclick=\"return goOtherCR(this, 'a=blg*i.tit&amp;r=25&amp;i=90000003_00000000000000338E90FDC6&amp;u='+urlencode(this.href))\" target=\"_blank\" title=\"스카이 캐슬 14회 - 욕망을 품은 부모\"><strong class=\"hl\">스카이 캐슬</strong> 14회 - 욕망을 품은 부모</a>,\n",
       " <a class=\"sh_blog_title _sp_each_url _sp_each_title\" href=\"https://mindonna.blog.me/221430162550\" onclick=\"return goOtherCR(this, 'a=blg*i.tit&amp;r=26&amp;i=90000003_00000000000000338E442476&amp;u='+urlencode(this.href))\" target=\"_blank\" title=\"SKY 캐슬(스카이캐슬) 12회::김주영=남편 살해 용의자, 차세리=하바드생 사기=벌금 6만 2천 달러\">SKY 캐슬(<strong class=\"hl\">스카이캐슬</strong>) 12회::김주영=남편 살해 용의자, 차세리...</a>,\n",
       " <a class=\"sh_blog_title _sp_each_url _sp_each_title\" href=\"https://blog.naver.com/wise9140?Redirect=Log&amp;logNo=221444957756\" onclick=\"return goOtherCR(this, 'a=blg*i.tit&amp;r=27&amp;i=90000003_00000000000000338F25E63C&amp;u='+urlencode(this.href))\" target=\"_blank\" title=\"[요약리뷰] 스카이캐슬 3화 줄거리 / 김주영 코디 해고, '아갈머리'때문에 곽미향 들통?\">[요약리뷰] <strong class=\"hl\">스카이캐슬</strong> 3화 줄거리 / 김주영 코디 해고...</a>,\n",
       " <a class=\"sh_blog_title _sp_each_url _sp_each_title\" href=\"https://publicfr.tistory.com/4098\" onclick=\"return goOtherCR(this, 'a=blg*t.tit&amp;r=28&amp;i=a00000fa_8b9a19c1bfeec959605ec853&amp;u='+urlencode(this.href))\" target=\"_blank\" title=\"SKY캐슬 (스카이캐슬) 11회 줄거리 리뷰, 세리 박유나 하버드생 맞을까? 김보라 유전자 확인 염정아 혜나 심리전 폭죽될까? 김서형 꿍꿍이? 수임 영재아빠 산장 설득? 곽미향 진진희 메이플시럽\">SKY캐슬 (<strong class=\"hl\">스카이캐슬</strong>) 11회 줄거리 리뷰, 세리 박유나 하버드생...</a>,\n",
       " <a class=\"sh_blog_title _sp_each_url _sp_each_title\" href=\"https://blog.naver.com/limjark2?Redirect=Log&amp;logNo=221443733456\" onclick=\"return goOtherCR(this, 'a=blg*i.tit&amp;r=29&amp;i=90000003_00000000000000338F1337D0&amp;u='+urlencode(this.href))\" target=\"_blank\" title=\"스카이캐슬 홍삼 수험생 위한 아이패스 H\"><strong class=\"hl\">스카이캐슬</strong> 홍삼 수험생 위한 아이패스 H</a>,\n",
       " <a class=\"sh_blog_title _sp_each_url _sp_each_title\" href=\"https://blog.naver.com/kiddyag?Redirect=Log&amp;logNo=221445638249\" onclick=\"return goOtherCR(this, 'a=blg*i.tit&amp;r=30&amp;i=90000003_00000000000000338F304869&amp;u='+urlencode(this.href))\" target=\"_blank\" title=\"jtbc 드라마 스카이캐슬:) 스카이캐슬 17회 줄거리\">jtbc 드라마 <strong class=\"hl\">스카이캐슬</strong>:) <strong class=\"hl\">스카이캐슬</strong> 17회 줄거리</a>]"
      ]
     },
     "execution_count": 6,
     "metadata": {},
     "output_type": "execute_result"
    }
   ],
   "source": [
    "soup.select('.sh_blog_title')"
   ]
  },
  {
   "cell_type": "code",
   "execution_count": 7,
   "metadata": {},
   "outputs": [
    {
     "name": "stdout",
     "output_type": "stream",
     "text": [
      "lie 신드롬 ,가사& 해석 이미지 . [ 스카이 캐슬 OST -하진] https://blog.naver.com/ampm8344?Redirect=Log&logNo=221445783727\n",
      "심즈4 - [건축] 드라마 스카이캐슬 집 만들기 https://blog.naver.com/rianbibi?Redirect=Log&logNo=221445430350\n",
      "SKY 캐슬 13회 줄거리 스카이 캐슬 https://jsy55012.blog.me/221435026790\n",
      "[스카이캐슬 17회 줄거리] 강예서에 발목잡힌 한서진 https://kws3128pdm.blog.me/221445830810\n",
      "스카이 캐슬 14회 - 욕망을 품은 부모 https://blog.naver.com/soulmate5959?Redirect=Log&logNo=221435198918\n",
      "SKY 캐슬(스카이캐슬) 12회::김주영=남편 살해 용의자, 차세리... https://mindonna.blog.me/221430162550\n",
      "[요약리뷰] 스카이캐슬 3화 줄거리 / 김주영 코디 해고... https://blog.naver.com/wise9140?Redirect=Log&logNo=221444957756\n",
      "SKY캐슬 (스카이캐슬) 11회 줄거리 리뷰, 세리 박유나 하버드생... https://publicfr.tistory.com/4098\n",
      "스카이캐슬 홍삼 수험생 위한 아이패스 H https://blog.naver.com/limjark2?Redirect=Log&logNo=221443733456\n",
      "jtbc 드라마 스카이캐슬:) 스카이캐슬 17회 줄거리 https://blog.naver.com/kiddyag?Redirect=Log&logNo=221445638249\n"
     ]
    }
   ],
   "source": [
    "for tag in soup.select('.sh_blog_title'):\n",
    "    print(tag.text, tag['href'])"
   ]
  },
  {
   "cell_type": "code",
   "execution_count": 8,
   "metadata": {},
   "outputs": [],
   "source": [
    "def naver_blog_search(q, pages):\n",
    "    url = 'https://search.naver.com/search.naver'\n",
    "    post_dict = dict()\n",
    "    for i in range(1, pages+1):\n",
    "        params = {\n",
    "        'query' : '스카이캐슬',\n",
    "        'where' : 'post',\n",
    "        'start' : i*10-9\n",
    "        }\n",
    "    res = requests.get(url, params=params)\n",
    "    soup = BeautifulSoup(res.text, 'html.parser')\n",
    "    for tag in soup.select('.sh_blog_title'):\n",
    "        post_dict[tag.text] = tag['href']\n",
    "\n",
    "    return post_dict"
   ]
  },
  {
   "cell_type": "code",
   "execution_count": 9,
   "metadata": {},
   "outputs": [
    {
     "data": {
      "text/plain": [
       "{'lie 신드롬 ,가사& 해석 이미지 . [ 스카이 캐슬 OST -하진]': 'https://blog.naver.com/ampm8344?Redirect=Log&logNo=221445783727',\n",
       " '심즈4 - [건축] 드라마 스카이캐슬 집 만들기': 'https://blog.naver.com/rianbibi?Redirect=Log&logNo=221445430350',\n",
       " 'SKY 캐슬 13회 줄거리 스카이 캐슬': 'https://jsy55012.blog.me/221435026790',\n",
       " '[스카이캐슬 17회 줄거리] 강예서에 발목잡힌 한서진': 'https://kws3128pdm.blog.me/221445830810',\n",
       " '스카이 캐슬 14회 - 욕망을 품은 부모': 'https://blog.naver.com/soulmate5959?Redirect=Log&logNo=221435198918',\n",
       " 'SKY 캐슬(스카이캐슬) 12회::김주영=남편 살해 용의자, 차세리...': 'https://mindonna.blog.me/221430162550',\n",
       " '[요약리뷰] 스카이캐슬 3화 줄거리 / 김주영 코디 해고...': 'https://blog.naver.com/wise9140?Redirect=Log&logNo=221444957756',\n",
       " 'SKY캐슬 (스카이캐슬) 11회 줄거리 리뷰, 세리 박유나 하버드생...': 'https://publicfr.tistory.com/4098',\n",
       " '스카이캐슬 홍삼 수험생 위한 아이패스 H': 'https://blog.naver.com/limjark2?Redirect=Log&logNo=221443733456',\n",
       " 'jtbc 드라마 스카이캐슬:) 스카이캐슬 17회 줄거리': 'https://blog.naver.com/kiddyag?Redirect=Log&logNo=221445638249'}"
      ]
     },
     "execution_count": 9,
     "metadata": {},
     "output_type": "execute_result"
    }
   ],
   "source": [
    "naver_blog_search('스카이캐슬', 3)"
   ]
  },
  {
   "cell_type": "code",
   "execution_count": null,
   "metadata": {},
   "outputs": [],
   "source": []
  },
  {
   "cell_type": "code",
   "execution_count": null,
   "metadata": {},
   "outputs": [],
   "source": []
  },
  {
   "cell_type": "code",
   "execution_count": null,
   "metadata": {},
   "outputs": [],
   "source": []
  },
  {
   "cell_type": "code",
   "execution_count": 10,
   "metadata": {},
   "outputs": [],
   "source": [
    "naver_3 = naver_blog_search('스카이캐슬', 1)"
   ]
  },
  {
   "cell_type": "code",
   "execution_count": 11,
   "metadata": {},
   "outputs": [],
   "source": [
    "naver_2 = naver_blog_search('스카이캐슬', 2)"
   ]
  },
  {
   "cell_type": "code",
   "execution_count": 12,
   "metadata": {},
   "outputs": [
    {
     "data": {
      "text/plain": [
       "{'<스카이 캐슬> 아역 배우들, 어디서 봤더라?',\n",
       " 'SKY 캐슬(스카이캐슬) 15회::한서진=곽미향=손절, 김주영이...',\n",
       " 'SKY 캐슬(스카이캐슬) 7회 줄거리 리뷰, 영재아빠 총 김주영...',\n",
       " 'SKY캐슬 ( 스카이캐슬 ) 등장인물관계도 소개',\n",
       " '[스카이 캐슬] 9회: 어머님!!!!!!!',\n",
       " '[스카이캐슬 15회 줄거리] 김혜나 자살_ 범인은 SKY캐슬',\n",
       " '스카이캐슬 16회 줄거리 SKY 캐슬',\n",
       " '스카이캐슬 17회 스포 예상결말 왕궁금 개인적인 의견',\n",
       " '스카이캐슬 스포 가득한 화제의 드라마',\n",
       " '화제의 드라마 \"스카이캐슬(SKY 캐슬) 1화, 2화\", 여배우들의...'}"
      ]
     },
     "execution_count": 12,
     "metadata": {},
     "output_type": "execute_result"
    }
   ],
   "source": [
    "set(naver_3)-set(naver_2)"
   ]
  },
  {
   "cell_type": "code",
   "execution_count": 13,
   "metadata": {},
   "outputs": [],
   "source": [
    "from collections import OrderedDict"
   ]
  },
  {
   "cell_type": "code",
   "execution_count": 14,
   "metadata": {},
   "outputs": [],
   "source": [
    "def naver_blog_search(q, pages):\n",
    "    url = 'https://search.naver.com/search.naver'\n",
    "    post_dict = OrderedDict()\n",
    "    for i in range(1, pages+1):\n",
    "        params = {\n",
    "        'query' : q,\n",
    "        'where' : 'post',\n",
    "        'start' : i*10-9\n",
    "        }\n",
    "    res = requests.get(url, params=params)\n",
    "    soup = BeautifulSoup(res.text, 'html.parser')\n",
    "    for tag in soup.select('.sh_blog_title'):\n",
    "        post_dict[tag.text] = tag['href']\n",
    "\n",
    "    return post_dict"
   ]
  },
  {
   "cell_type": "code",
   "execution_count": 15,
   "metadata": {},
   "outputs": [
    {
     "data": {
      "text/plain": [
       "OrderedDict([('18회 데이터 분석 준전문가(ADsP) 자격시험 후기',\n",
       "              'https://blog.naver.com/1987hand?Redirect=Log&logNo=221363747911'),\n",
       "             ('통계학 비전공자의 ADsP 데이터 분석 준전문가 합격 후기',\n",
       "              'https://blog.naver.com/wwwlolwww?Redirect=Log&logNo=220977406441'),\n",
       "             ('[자격증] 데이터분석 준전문가(ADsP) 한권으로 끝내기!',\n",
       "              'https://kdj9502.blog.me/221115865249'),\n",
       "             ('제18회 ADsP 시험을 보고 왔습니다.',\n",
       "              'https://blog.naver.com/swparkz?Redirect=Log&logNo=221345837458'),\n",
       "             ('비전공자 ADsP 취득 성공╭( ･ㅂ･)و',\n",
       "              'https://blog.naver.com/stdhh31?Redirect=Log&logNo=221438438061'),\n",
       "             ('25. 2018년 11월 24일 ADsP',\n",
       "              'https://belita76.blog.me/221405247076'),\n",
       "             ('데이터 분석 준전문가 (ADSP) 자격증 합격 후기 + 준비하는 팁!!',\n",
       "              'https://blog.naver.com/suyo1207?Redirect=Log&logNo=221364128546'),\n",
       "             ('19회 adsp(데이터분석 준전문가) 합격후기 !',\n",
       "              'https://blog.naver.com/then100?Redirect=Log&logNo=221439746170'),\n",
       "             ('제 19회 ADsP 합격 후기',\n",
       "              'https://blog.naver.com/duqrlwjddns1?Redirect=Log&logNo=221431106172'),\n",
       "             ('ADsP(데이터 분석 준전문가)',\n",
       "              'https://blog.naver.com/skawogur987?Redirect=Log&logNo=221399395899')])"
      ]
     },
     "execution_count": 15,
     "metadata": {},
     "output_type": "execute_result"
    }
   ],
   "source": [
    "naver_blog_search('ADsP', 3)"
   ]
  },
  {
   "cell_type": "markdown",
   "metadata": {},
   "source": [
    "## Selenium"
   ]
  },
  {
   "cell_type": "code",
   "execution_count": 16,
   "metadata": {},
   "outputs": [],
   "source": [
    "from selenium import webdriver"
   ]
  },
  {
   "cell_type": "code",
   "execution_count": 17,
   "metadata": {},
   "outputs": [
    {
     "ename": "NameError",
     "evalue": "name 'html' is not defined",
     "output_type": "error",
     "traceback": [
      "\u001b[1;31m---------------------------------------------------------------------------\u001b[0m",
      "\u001b[1;31mNameError\u001b[0m                                 Traceback (most recent call last)",
      "\u001b[1;32m<ipython-input-17-943cade2baef>\u001b[0m in \u001b[0;36m<module>\u001b[1;34m()\u001b[0m\n\u001b[0;32m      6\u001b[0m \u001b[1;33m\u001b[0m\u001b[0m\n\u001b[0;32m      7\u001b[0m \u001b[0mdriver\u001b[0m\u001b[1;33m.\u001b[0m\u001b[0mfind_element_by_name\u001b[0m\u001b[1;33m(\u001b[0m\u001b[1;34m'query'\u001b[0m\u001b[1;33m)\u001b[0m\u001b[1;33m\u001b[0m\u001b[0m\n\u001b[1;32m----> 8\u001b[1;33m \u001b[0mhtml\u001b[0m\u001b[1;33m.\u001b[0m\u001b[0mclear\u001b[0m\u001b[1;33m(\u001b[0m\u001b[1;33m)\u001b[0m\u001b[1;33m\u001b[0m\u001b[0m\n\u001b[0m\u001b[0;32m      9\u001b[0m \u001b[0mhtml\u001b[0m\u001b[1;33m.\u001b[0m\u001b[0msend_keys\u001b[0m\u001b[1;33m(\u001b[0m\u001b[1;34m'테스트'\u001b[0m\u001b[1;33m)\u001b[0m\u001b[1;33m\u001b[0m\u001b[0m\n",
      "\u001b[1;31mNameError\u001b[0m: name 'html' is not defined"
     ]
    }
   ],
   "source": [
    "url = 'https://search.naver.com/search.naver?where=post&sm=tab_jum&query=%EB%B9%85%EB%8D%B0%EC%9D%B4%ED%84%B0mba'\n",
    "\n",
    "driver = webdriver.Chrome('chromedriver.exe')\n",
    "\n",
    "driver.get(url)\n",
    "\n",
    "driver.find_element_by_name('query')\n",
    "html.clear()\n",
    "html.send_keys('테스트')"
   ]
  },
  {
   "cell_type": "code",
   "execution_count": 18,
   "metadata": {},
   "outputs": [
    {
     "name": "stdout",
     "output_type": "stream",
     "text": [
      "1\n",
      "2\n",
      "3\n"
     ]
    }
   ],
   "source": [
    "import time\n",
    "for i in range(1,4):\n",
    "    time.sleep(0.5)\n",
    "    print(i)"
   ]
  },
  {
   "cell_type": "code",
   "execution_count": 19,
   "metadata": {},
   "outputs": [],
   "source": [
    "url = 'https://search.naver.com/search.naver?where=post&sm=tab_jum&query=%EB%B9%85%EB%8D%B0%EC%9D%B4%ED%84%B0mba'\n",
    "\n",
    "driver = webdriver.Chrome('chromedriver.exe')\n",
    "\n",
    "driver.get(url)\n",
    "time.sleep(1)\n",
    "html = driver.find_element_by_name('query')\n",
    "html.clear()\n",
    "time.sleep(1)\n",
    "button_click = driver.find_element_by_class_name('bt_search')\n",
    "button_click.click()"
   ]
  },
  {
   "cell_type": "code",
   "execution_count": 21,
   "metadata": {},
   "outputs": [],
   "source": [
    "html_data = driver.page_source"
   ]
  },
  {
   "cell_type": "code",
   "execution_count": 22,
   "metadata": {},
   "outputs": [],
   "source": [
    "soup = BeautifulSoup(html_data, 'html.parser')"
   ]
  },
  {
   "cell_type": "code",
   "execution_count": 32,
   "metadata": {},
   "outputs": [],
   "source": [
    "for tag in soup.select('.sp_website '):\n",
    "    print(tag.text, tag['href'])"
   ]
  },
  {
   "cell_type": "code",
   "execution_count": null,
   "metadata": {},
   "outputs": [],
   "source": []
  },
  {
   "cell_type": "code",
   "execution_count": null,
   "metadata": {},
   "outputs": [],
   "source": []
  },
  {
   "cell_type": "code",
   "execution_count": null,
   "metadata": {},
   "outputs": [],
   "source": []
  },
  {
   "cell_type": "code",
   "execution_count": null,
   "metadata": {},
   "outputs": [],
   "source": []
  },
  {
   "cell_type": "code",
   "execution_count": null,
   "metadata": {},
   "outputs": [],
   "source": []
  },
  {
   "cell_type": "markdown",
   "metadata": {},
   "source": [
    "## Facebook"
   ]
  },
  {
   "cell_type": "code",
   "execution_count": 33,
   "metadata": {},
   "outputs": [],
   "source": [
    "from getpass import getpass"
   ]
  },
  {
   "cell_type": "code",
   "execution_count": 38,
   "metadata": {},
   "outputs": [],
   "source": [
    "url = 'https://www.facebook.com/'"
   ]
  },
  {
   "cell_type": "code",
   "execution_count": null,
   "metadata": {
    "scrolled": false
   },
   "outputs": [],
   "source": [
    "username = input('Username:')\n",
    "password = getpass('Password:')"
   ]
  },
  {
   "cell_type": "code",
   "execution_count": null,
   "metadata": {},
   "outputs": [],
   "source": [
    "driver = webdriver.Chrome('chromedriver.exe')\n",
    "driver.get(url)\n",
    "id_tag = driver.find_element_by_name('email')\n",
    "id_tag.send_keys(username)\n",
    "pass_tag = driver.find_element_by_name('email')\n",
    "pass_tag.send_keys(password)\n",
    "button_tag = driver.find_element_by_id('u_0_2')\n",
    "button_tag.click()\n"
   ]
  },
  {
   "cell_type": "code",
   "execution_count": null,
   "metadata": {},
   "outputs": [],
   "source": []
  },
  {
   "cell_type": "code",
   "execution_count": null,
   "metadata": {},
   "outputs": [],
   "source": [
    "##id\n",
    "<input type=\"email\" class=\"inputtext\" name=\"email\" id=\"email\" data-testid=\"royal_email\">"
   ]
  },
  {
   "cell_type": "code",
   "execution_count": null,
   "metadata": {},
   "outputs": [],
   "source": [
    "##pw\n",
    "<input type=\"password\" class=\"inputtext\" name=\"pass\" id=\"pass\" data-testid=\"royal_pass\">"
   ]
  },
  {
   "cell_type": "code",
   "execution_count": 41,
   "metadata": {},
   "outputs": [
    {
     "data": {
      "text/plain": [
       "<selenium.webdriver.remote.webelement.WebElement (session=\"64e6fcfad1f2f36cd1dca9505a624c58\", element=\"0.4758089410082229-1\")>"
      ]
     },
     "execution_count": 41,
     "metadata": {},
     "output_type": "execute_result"
    }
   ],
   "source": [
    "id_tag = driver.find_element_by_name('email')\n",
    "id_tag.send_keys('shoman2@hotmail.com')"
   ]
  },
  {
   "cell_type": "code",
   "execution_count": null,
   "metadata": {},
   "outputs": [],
   "source": []
  }
 ],
 "metadata": {
  "kernelspec": {
   "display_name": "Python 3",
   "language": "python",
   "name": "python3"
  },
  "language_info": {
   "codemirror_mode": {
    "name": "ipython",
    "version": 3
   },
   "file_extension": ".py",
   "mimetype": "text/x-python",
   "name": "python",
   "nbconvert_exporter": "python",
   "pygments_lexer": "ipython3",
   "version": "3.7.0"
  }
 },
 "nbformat": 4,
 "nbformat_minor": 2
}
