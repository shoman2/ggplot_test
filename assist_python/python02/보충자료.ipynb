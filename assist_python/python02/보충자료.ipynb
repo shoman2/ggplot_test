{
 "cells": [
  {
   "cell_type": "markdown",
   "metadata": {},
   "source": [
    "## 김광수님 보충자료"
   ]
  },
  {
   "cell_type": "code",
   "execution_count": 6,
   "metadata": {},
   "outputs": [],
   "source": [
    "## 지난시간 Recap\n",
    "\n",
    "import requests\n",
    "from bs4 import BeautifulSoup"
   ]
  },
  {
   "cell_type": "code",
   "execution_count": null,
   "metadata": {},
   "outputs": [],
   "source": [
    "url = 'https://search.naver.com/search.naver'\n",
    "params = {\n",
    "    'query' : '스카이캐슬',\n",
    "    'where' : 'post',\n",
    "    'start' : 21\n",
    "}"
   ]
  },
  {
   "cell_type": "code",
   "execution_count": null,
   "metadata": {},
   "outputs": [],
   "source": [
    "res = requests.get(url, params=params)"
   ]
  },
  {
   "cell_type": "code",
   "execution_count": null,
   "metadata": {},
   "outputs": [],
   "source": [
    "soup = BeautifulSoup(res.text, 'html.parser')"
   ]
  },
  {
   "cell_type": "code",
   "execution_count": null,
   "metadata": {},
   "outputs": [],
   "source": [
    "soup.select('.sh_blog_title')"
   ]
  },
  {
   "cell_type": "code",
   "execution_count": null,
   "metadata": {},
   "outputs": [],
   "source": [
    "for tag in soup.select('.sh_blog_title'):\n",
    "    print(tag.text, tag['href'])"
   ]
  },
  {
   "cell_type": "code",
   "execution_count": null,
   "metadata": {},
   "outputs": [],
   "source": [
    "def naver_blog_search(q, pages):\n",
    "    url = 'https://search.naver.com/search.naver'\n",
    "    post_dict = dict()\n",
    "    for i in range(1, pages+1):\n",
    "        params = {\n",
    "        'query' : '스카이캐슬',\n",
    "        'where' : 'post',\n",
    "        'start' : i*10-9\n",
    "        }\n",
    "    res = requests.get(url, params=params)\n",
    "    soup = BeautifulSoup(res.text, 'html.parser')\n",
    "    for tag in soup.select('.sh_blog_title'):\n",
    "        post_dict[tag.text] = tag['href']\n",
    "\n",
    "    return post_dict"
   ]
  },
  {
   "cell_type": "code",
   "execution_count": null,
   "metadata": {},
   "outputs": [],
   "source": [
    "naver_blog_search('스카이캐슬', 3)"
   ]
  },
  {
   "cell_type": "code",
   "execution_count": null,
   "metadata": {},
   "outputs": [],
   "source": []
  },
  {
   "cell_type": "code",
   "execution_count": null,
   "metadata": {},
   "outputs": [],
   "source": []
  },
  {
   "cell_type": "code",
   "execution_count": null,
   "metadata": {},
   "outputs": [],
   "source": []
  },
  {
   "cell_type": "code",
   "execution_count": null,
   "metadata": {},
   "outputs": [],
   "source": [
    "naver_3 = naver_blog_search('스카이캐슬', 1)"
   ]
  },
  {
   "cell_type": "code",
   "execution_count": null,
   "metadata": {},
   "outputs": [],
   "source": [
    "naver_2 = naver_blog_search('스카이캐슬', 2)"
   ]
  },
  {
   "cell_type": "code",
   "execution_count": null,
   "metadata": {},
   "outputs": [],
   "source": [
    "set(naver_3)-set(naver_2)"
   ]
  },
  {
   "cell_type": "code",
   "execution_count": null,
   "metadata": {},
   "outputs": [],
   "source": [
    "from collections import OrderedDict"
   ]
  },
  {
   "cell_type": "code",
   "execution_count": null,
   "metadata": {},
   "outputs": [],
   "source": [
    "def naver_blog_search(q, pages):\n",
    "    url = 'https://search.naver.com/search.naver'\n",
    "    post_dict = OrderedDict()\n",
    "    for i in range(1, pages+1):\n",
    "        params = {\n",
    "        'query' : q,\n",
    "        'where' : 'post',\n",
    "        'start' : i*10-9\n",
    "        }\n",
    "    res = requests.get(url, params=params)\n",
    "    soup = BeautifulSoup(res.text, 'html.parser')\n",
    "    for tag in soup.select('.sh_blog_title'):\n",
    "        post_dict[tag.text] = tag['href']\n",
    "\n",
    "    return post_dict"
   ]
  },
  {
   "cell_type": "code",
   "execution_count": null,
   "metadata": {},
   "outputs": [],
   "source": [
    "naver_blog_search('ADsP', 3)"
   ]
  },
  {
   "cell_type": "markdown",
   "metadata": {},
   "source": [
    "## Selenium"
   ]
  },
  {
   "cell_type": "code",
   "execution_count": 7,
   "metadata": {},
   "outputs": [],
   "source": [
    "from selenium import webdriver"
   ]
  },
  {
   "cell_type": "code",
   "execution_count": null,
   "metadata": {},
   "outputs": [],
   "source": [
    "url = 'https://search.naver.com/search.naver?where=post&sm=tab_jum&query=%EB%B9%85%EB%8D%B0%EC%9D%B4%ED%84%B0mba'\n",
    "\n",
    "driver = webdriver.Chrome('chromedriver.exe')\n",
    "\n",
    "driver.get(url)\n",
    "\n",
    "driver.find_element_by_name('query')\n",
    "html.clear()\n",
    "html.send_keys('테스트')"
   ]
  },
  {
   "cell_type": "code",
   "execution_count": null,
   "metadata": {},
   "outputs": [],
   "source": [
    "import time\n",
    "for i in range(1,4):\n",
    "    time.sleep(0.5)\n",
    "    print(i)"
   ]
  },
  {
   "cell_type": "code",
   "execution_count": null,
   "metadata": {},
   "outputs": [],
   "source": [
    "url = 'https://search.naver.com/search.naver?where=post&sm=tab_jum&query=%EB%B9%85%EB%8D%B0%EC%9D%B4%ED%84%B0mba'\n",
    "\n",
    "driver = webdriver.Chrome('chromedriver.exe')\n",
    "\n",
    "driver.get(url)\n",
    "time.sleep(1)\n",
    "html = driver.find_element_by_name('query')\n",
    "html.clear()\n",
    "time.sleep(1)\n",
    "button_click = driver.find_element_by_class_name('bt_search')\n",
    "button_click.click()"
   ]
  },
  {
   "cell_type": "code",
   "execution_count": null,
   "metadata": {},
   "outputs": [],
   "source": [
    "html_data = driver.page_source"
   ]
  },
  {
   "cell_type": "code",
   "execution_count": null,
   "metadata": {},
   "outputs": [],
   "source": [
    "soup = BeautifulSoup(html_data, 'html.parser')"
   ]
  },
  {
   "cell_type": "code",
   "execution_count": null,
   "metadata": {},
   "outputs": [],
   "source": [
    "for tag in soup.select('.sp_website '):\n",
    "    print(tag.text, tag['href'])"
   ]
  },
  {
   "cell_type": "code",
   "execution_count": null,
   "metadata": {},
   "outputs": [],
   "source": []
  },
  {
   "cell_type": "code",
   "execution_count": null,
   "metadata": {},
   "outputs": [],
   "source": []
  },
  {
   "cell_type": "code",
   "execution_count": null,
   "metadata": {},
   "outputs": [],
   "source": []
  },
  {
   "cell_type": "code",
   "execution_count": null,
   "metadata": {},
   "outputs": [],
   "source": []
  },
  {
   "cell_type": "code",
   "execution_count": null,
   "metadata": {},
   "outputs": [],
   "source": []
  },
  {
   "cell_type": "markdown",
   "metadata": {},
   "source": [
    "## Facebook"
   ]
  },
  {
   "cell_type": "code",
   "execution_count": 8,
   "metadata": {},
   "outputs": [],
   "source": [
    "from getpass import getpass"
   ]
  },
  {
   "cell_type": "code",
   "execution_count": 2,
   "metadata": {},
   "outputs": [],
   "source": [
    "url = 'https://www.facebook.com/'"
   ]
  },
  {
   "cell_type": "code",
   "execution_count": 3,
   "metadata": {
    "scrolled": false
   },
   "outputs": [
    {
     "name": "stdout",
     "output_type": "stream",
     "text": [
      "Username:shoman2@hotmail.com\n",
      "Password:········\n"
     ]
    }
   ],
   "source": [
    "username = input('Username:')\n",
    "password = getpass('Password:')"
   ]
  },
  {
   "cell_type": "code",
   "execution_count": 4,
   "metadata": {},
   "outputs": [],
   "source": [
    "def set_chrome_options():\n",
    "    chrome_options = webdriver.ChromeOptions()\n",
    "    prefs = {\"profile.default_content_setting_values.notifications\" : 2}\n",
    "    chrome_options.add_experimental_option(\"prefs\", prefs)\n",
    "    return chrome_options"
   ]
  },
  {
   "cell_type": "code",
   "execution_count": null,
   "metadata": {},
   "outputs": [],
   "source": []
  },
  {
   "cell_type": "code",
   "execution_count": 14,
   "metadata": {},
   "outputs": [],
   "source": [
    "driver = webdriver.Chrome('chromedriver.exe')\n",
    "driver.get(url)\n",
    "id_tag = driver.find_element_by_name('email')\n",
    "id_tag.send_keys(username)\n",
    "pass_tag = driver.find_element_by_name('pass')\n",
    "pass_tag.send_keys(password)\n",
    "button_tag = driver.find_element_by_id('u_0_2')\n",
    "button_tag.click()\n",
    "##페북페이지가서 아뒤비번 넣고 클릭하고 로그인 (경고창을 없애는 제어문도 위에서 이미실행)"
   ]
  },
  {
   "cell_type": "code",
   "execution_count": 16,
   "metadata": {},
   "outputs": [],
   "source": [
    "driver.get('https://www.facebook.com/tae.y.kim.56/friends') ##친구리스트까지 가기 (friends 뒤에주소는 지울것)"
   ]
  },
  {
   "cell_type": "code",
   "execution_count": null,
   "metadata": {},
   "outputs": [],
   "source": [
    "present_height = driver.execute_script('return document.body.scollHeight')\n",
    "new_height = \n",
    "\n",
    "while True:\n",
    "    driver.execute_script()"
   ]
  },
  {
   "cell_type": "code",
   "execution_count": null,
   "metadata": {},
   "outputs": [],
   "source": []
  },
  {
   "cell_type": "code",
   "execution_count": 21,
   "metadata": {},
   "outputs": [],
   "source": [
    "html = driver.page_source"
   ]
  },
  {
   "cell_type": "code",
   "execution_count": 18,
   "metadata": {},
   "outputs": [],
   "source": [
    "soup = BeautifulSoup(html, 'lxml')"
   ]
  },
  {
   "cell_type": "code",
   "execution_count": 20,
   "metadata": {},
   "outputs": [
    {
     "data": {
      "text/plain": [
       "[<a data-gt='{\"engagement\":{\"eng_type\":\"1\",\"eng_src\":\"2\",\"eng_tid\":\"809850480\",\"eng_data\":[]},\"coeff2_registry_key\":\"0406\",\"coeff2_info\":\"AauLuvFfQjq5H7l90xFkTme9t6fyT1ApcrUttZYD8JoAaK1hQqZhDV9fv8enStPp38M\",\"coeff2_action\":\"1\",\"coeff2_pv_signature\":\"1459355254\"}' data-hovercard=\"/ajax/hovercard/user.php?id=809850480&amp;extragetparams=%7B%22hc_location%22%3A%22friends_tab%22%7D\" data-hovercard-prefer-more-content-show=\"1\" href=\"https://www.facebook.com/jay.shim.391?fref=pb&amp;hc_location=friends_tab\">Jay Shim</a>,\n",
       " <a data-gt='{\"engagement\":{\"eng_type\":\"1\",\"eng_src\":\"2\",\"eng_tid\":\"100005566306757\",\"eng_data\":[]},\"coeff2_registry_key\":\"0406\",\"coeff2_info\":\"Aask3TSX-_orRb3W562NJ-jPE4DPXpQOG-de5-vVRiAIwIlWDgBw1PJGsryQwRSNTQRShsb94jLRCmBaDdvy5_OW\",\"coeff2_action\":\"1\",\"coeff2_pv_signature\":\"1459355254\"}' data-hovercard=\"/ajax/hovercard/user.php?id=100005566306757&amp;extragetparams=%7B%22hc_location%22%3A%22friends_tab%22%7D\" data-hovercard-prefer-more-content-show=\"1\" href=\"https://www.facebook.com/profile.php?id=100005566306757&amp;fref=pb&amp;hc_location=friends_tab\">Sunju Jung</a>,\n",
       " <a data-gt='{\"engagement\":{\"eng_type\":\"1\",\"eng_src\":\"2\",\"eng_tid\":\"1593090241\",\"eng_data\":[]},\"coeff2_registry_key\":\"0406\",\"coeff2_info\":\"AauoeM5pvvJtLJ_A4PUyITRFHQz9uTdyJs4n6PUR8R9pE25OfDARU8zCckoHsjjOyUp3G6s0GuFJy3Ut12hF_3Cr\",\"coeff2_action\":\"1\",\"coeff2_pv_signature\":\"1459355254\"}' data-hovercard=\"/ajax/hovercard/user.php?id=1593090241&amp;extragetparams=%7B%22hc_location%22%3A%22friends_tab%22%7D\" data-hovercard-prefer-more-content-show=\"1\" href=\"https://www.facebook.com/hotnelly1205?fref=pb&amp;hc_location=friends_tab\">Nelson Cho</a>,\n",
       " <a data-gt='{\"engagement\":{\"eng_type\":\"1\",\"eng_src\":\"2\",\"eng_tid\":\"100001746379680\",\"eng_data\":[]},\"coeff2_registry_key\":\"0406\",\"coeff2_info\":\"Aav0OGxBFuCV-3i9UK1pn1jSRHKjn_J2SBlHNSOWHgXj0kw8ctXKgu3z_fJCZnPZoWsAHq2yWlW1du1r89NV309l\",\"coeff2_action\":\"1\",\"coeff2_pv_signature\":\"1459355254\"}' data-hovercard=\"/ajax/hovercard/user.php?id=100001746379680&amp;extragetparams=%7B%22hc_location%22%3A%22friends_tab%22%7D\" data-hovercard-prefer-more-content-show=\"1\" href=\"https://www.facebook.com/ilyong.jeong.14?fref=pb&amp;hc_location=friends_tab\">IlYong Jeong</a>,\n",
       " <a data-gt='{\"engagement\":{\"eng_type\":\"1\",\"eng_src\":\"2\",\"eng_tid\":\"557195317\",\"eng_data\":[]},\"coeff2_registry_key\":\"0406\",\"coeff2_info\":\"AatTkce6i3OCpVCGrqOcBX_hmrltGgcIHWI6aQUMjQoGqXQTdB1F6lADfzBV6yqLT-M\",\"coeff2_action\":\"1\",\"coeff2_pv_signature\":\"1459355254\"}' data-hovercard=\"/ajax/hovercard/user.php?id=557195317&amp;extragetparams=%7B%22hc_location%22%3A%22friends_tab%22%7D\" data-hovercard-prefer-more-content-show=\"1\" href=\"https://www.facebook.com/sohyun.hwang.52?fref=pb&amp;hc_location=friends_tab\">SoHyun Hwang</a>,\n",
       " <a data-gt='{\"engagement\":{\"eng_type\":\"1\",\"eng_src\":\"2\",\"eng_tid\":\"100001993669909\",\"eng_data\":[]},\"coeff2_registry_key\":\"0406\",\"coeff2_info\":\"Aat_gmJ47TbXDadnMYl1JT4sYItdqrKWEPd_WwLx2rzkqxDgphtCR3nTmlk4mYxJClHVBc1K2SXXBKd_LnCVfU6I\",\"coeff2_action\":\"1\",\"coeff2_pv_signature\":\"1459355254\"}' data-hovercard=\"/ajax/hovercard/user.php?id=100001993669909&amp;extragetparams=%7B%22hc_location%22%3A%22friends_tab%22%7D\" data-hovercard-prefer-more-content-show=\"1\" href=\"https://www.facebook.com/jaesekchang?fref=pb&amp;hc_location=friends_tab\">장재석</a>,\n",
       " <a data-gt='{\"engagement\":{\"eng_type\":\"1\",\"eng_src\":\"2\",\"eng_tid\":\"528405530\",\"eng_data\":[]},\"coeff2_registry_key\":\"0406\",\"coeff2_info\":\"AatycE1E2NWsBUEyESoqnPY1Lgfg1HhMV9luuZHQ67-jJkAdlDYlBOFDe6_-WE9r4AE\",\"coeff2_action\":\"1\",\"coeff2_pv_signature\":\"1459355254\"}' data-hovercard=\"/ajax/hovercard/user.php?id=528405530&amp;extragetparams=%7B%22hc_location%22%3A%22friends_tab%22%7D\" data-hovercard-prefer-more-content-show=\"1\" href=\"https://www.facebook.com/hosubjames.jang?fref=pb&amp;hc_location=friends_tab\">Hosub James Jang</a>,\n",
       " <a data-gt='{\"engagement\":{\"eng_type\":\"1\",\"eng_src\":\"2\",\"eng_tid\":\"100001226798573\",\"eng_data\":[]},\"coeff2_registry_key\":\"0406\",\"coeff2_info\":\"Aatw4cwYg9hGO8sipg_co55e8GBlR41aw7qYIHnBz_upoebdFy-xQagqcuVlghCmxRIi7fy6Cg1Fk2whP3KOZzXC\",\"coeff2_action\":\"1\",\"coeff2_pv_signature\":\"1459355254\"}' data-hovercard=\"/ajax/hovercard/user.php?id=100001226798573&amp;extragetparams=%7B%22hc_location%22%3A%22friends_tab%22%7D\" data-hovercard-prefer-more-content-show=\"1\" href=\"https://www.facebook.com/gabrielsangjin.lee?fref=pb&amp;hc_location=friends_tab\">Gabriel Sang Jin Lee</a>,\n",
       " <a data-gt='{\"engagement\":{\"eng_type\":\"1\",\"eng_src\":\"2\",\"eng_tid\":\"100001097689585\",\"eng_data\":[]},\"coeff2_registry_key\":\"0406\",\"coeff2_info\":\"Aav6b4XrV--1nw-iTL7E3m4JStdAEEl7d8xHQIyAGjaHhTai2F6r2GuVctf7_Noi8tcWQYWVBahXYLfhCfUkDCLB\",\"coeff2_action\":\"1\",\"coeff2_pv_signature\":\"1459355254\"}' data-hovercard=\"/ajax/hovercard/user.php?id=100001097689585&amp;extragetparams=%7B%22hc_location%22%3A%22friends_tab%22%7D\" data-hovercard-prefer-more-content-show=\"1\" href=\"https://www.facebook.com/hyunseung.lee.7737?fref=pb&amp;hc_location=friends_tab\">이현승</a>,\n",
       " <a data-gt='{\"engagement\":{\"eng_type\":\"1\",\"eng_src\":\"2\",\"eng_tid\":\"100000994260971\",\"eng_data\":[]},\"coeff2_registry_key\":\"0406\",\"coeff2_info\":\"Aav2KVARgSMyOXcGwGSKx4Fbny85zBzJ4FHgnbGb94NVjZ1XtAGD5460-eCbPVWrZhvt5np-DPZ_ex0p2ZsbG4zM\",\"coeff2_action\":\"1\",\"coeff2_pv_signature\":\"1459355254\"}' data-hovercard=\"/ajax/hovercard/user.php?id=100000994260971&amp;extragetparams=%7B%22hc_location%22%3A%22friends_tab%22%7D\" data-hovercard-prefer-more-content-show=\"1\" href=\"https://www.facebook.com/younji.lee.1232?fref=pb&amp;hc_location=friends_tab\">Younji Lee</a>,\n",
       " <a ajaxify=\"/ajax/friends/inactive/dialog?id=100000754827226\" href=\"#\" rel=\"dialog\" role=\"button\">Namhyun Cho</a>,\n",
       " <a data-gt='{\"engagement\":{\"eng_type\":\"1\",\"eng_src\":\"2\",\"eng_tid\":\"100000616591585\",\"eng_data\":[]},\"coeff2_registry_key\":\"0406\",\"coeff2_info\":\"AaszbTzntJ0knYXqyshXn8iJuJLYGhENTIXBZBSZmo_7DUrFLi5JEYnL-XPZ6WpG0xTooyl_HAR0Mh9RGEg_inLr\",\"coeff2_action\":\"1\",\"coeff2_pv_signature\":\"1459355254\"}' data-hovercard=\"/ajax/hovercard/user.php?id=100000616591585&amp;extragetparams=%7B%22hc_location%22%3A%22friends_tab%22%7D\" data-hovercard-prefer-more-content-show=\"1\" href=\"https://www.facebook.com/hjlee1003?fref=pb&amp;hc_location=friends_tab\">이현지</a>,\n",
       " <a data-gt='{\"engagement\":{\"eng_type\":\"1\",\"eng_src\":\"2\",\"eng_tid\":\"100000399126432\",\"eng_data\":[]},\"coeff2_registry_key\":\"0406\",\"coeff2_info\":\"AauomA7aXdw1OiVB7Qki2VL0N_if18GpPt6w25-UAwnIOicqeHOO9HBH4SrWg0b0ZlshfthtDglmEmkGtvEjI1Wk\",\"coeff2_action\":\"1\",\"coeff2_pv_signature\":\"1459355254\"}' data-hovercard=\"/ajax/hovercard/user.php?id=100000399126432&amp;extragetparams=%7B%22hc_location%22%3A%22friends_tab%22%7D\" data-hovercard-prefer-more-content-show=\"1\" href=\"https://www.facebook.com/mihyun.jung.102?fref=pb&amp;hc_location=friends_tab\">정미현</a>,\n",
       " <a ajaxify=\"/ajax/friends/inactive/dialog?id=100000297906219\" href=\"#\" rel=\"dialog\" role=\"button\">Miguel Angel Perez</a>,\n",
       " <a data-gt='{\"engagement\":{\"eng_type\":\"1\",\"eng_src\":\"2\",\"eng_tid\":\"100000282644488\",\"eng_data\":[]},\"coeff2_registry_key\":\"0406\",\"coeff2_info\":\"Aasa72S1IWwFX5quHsNrW4u938jGYUje0jsRo_KbB_j9g9bAuOjoRzlBF0uRxmDjYu4V61e5c6hUHmi0dg1EZQcX\",\"coeff2_action\":\"1\",\"coeff2_pv_signature\":\"1459355254\"}' data-hovercard=\"/ajax/hovercard/user.php?id=100000282644488&amp;extragetparams=%7B%22hc_location%22%3A%22friends_tab%22%7D\" data-hovercard-prefer-more-content-show=\"1\" href=\"https://www.facebook.com/soomin1219?fref=pb&amp;hc_location=friends_tab\">Soo Min Park</a>,\n",
       " <a data-gt='{\"engagement\":{\"eng_type\":\"1\",\"eng_src\":\"2\",\"eng_tid\":\"100000163475058\",\"eng_data\":[]},\"coeff2_registry_key\":\"0406\",\"coeff2_info\":\"Aau3TUzu7qaw9BWWMbTspqD4YsP0-53HUqrC-J-dItIlP7LLRIGy-ijJFgIwnVFRVxhtG7ECw5GBqNKD6-jvoKAu\",\"coeff2_action\":\"1\",\"coeff2_pv_signature\":\"1459355254\"}' data-hovercard=\"/ajax/hovercard/user.php?id=100000163475058&amp;extragetparams=%7B%22hc_location%22%3A%22friends_tab%22%7D\" data-hovercard-prefer-more-content-show=\"1\" href=\"https://www.facebook.com/shawn.d.kang?fref=pb&amp;hc_location=friends_tab\">Shawn Dong Hyun Kang</a>,\n",
       " <a ajaxify=\"/ajax/friends/inactive/dialog?id=100000148629703\" href=\"#\" rel=\"dialog\" role=\"button\">온석민</a>,\n",
       " <a data-gt='{\"engagement\":{\"eng_type\":\"1\",\"eng_src\":\"2\",\"eng_tid\":\"1628245911\",\"eng_data\":[]},\"coeff2_registry_key\":\"0406\",\"coeff2_info\":\"AauGM35SAqHmaCh61xnGvQiqiEJHrbZ-jWr0oky2o8VH3TdnJquJCsaLz4cVBne0L8RdBTKWryAVVuPHnszplVqX\",\"coeff2_action\":\"1\",\"coeff2_pv_signature\":\"1459355254\"}' data-hovercard=\"/ajax/hovercard/user.php?id=1628245911&amp;extragetparams=%7B%22hc_location%22%3A%22friends_tab%22%7D\" data-hovercard-prefer-more-content-show=\"1\" href=\"https://www.facebook.com/jordan.fisher.3954?fref=pb&amp;hc_location=friends_tab\">Jordan Fisher</a>,\n",
       " <a data-gt='{\"engagement\":{\"eng_type\":\"1\",\"eng_src\":\"2\",\"eng_tid\":\"1540010926\",\"eng_data\":[]},\"coeff2_registry_key\":\"0406\",\"coeff2_info\":\"AasPvllNc489GP7AC5XDqHh8oBseAYVs-CeuIYKlEcFyX2YkmU7ynC43CTsCUkCY9CYplN6KgipKX8XwFOHJ71YF\",\"coeff2_action\":\"1\",\"coeff2_pv_signature\":\"1459355254\"}' data-hovercard=\"/ajax/hovercard/user.php?id=1540010926&amp;extragetparams=%7B%22hc_location%22%3A%22friends_tab%22%7D\" data-hovercard-prefer-more-content-show=\"1\" href=\"https://www.facebook.com/sengwhan.cha?fref=pb&amp;hc_location=friends_tab\">Seng Whan Cha</a>,\n",
       " <a data-gt='{\"engagement\":{\"eng_type\":\"1\",\"eng_src\":\"2\",\"eng_tid\":\"1528295800\",\"eng_data\":[]},\"coeff2_registry_key\":\"0406\",\"coeff2_info\":\"Aaucb1SB21_QB80p2XYjt5Uz9RkUpgnOobUOGrBclebQtABuj3oIJrHZthrUOZE8omIhpNlglOAmHhA3luD6ExFn\",\"coeff2_action\":\"1\",\"coeff2_pv_signature\":\"1459355254\"}' data-hovercard=\"/ajax/hovercard/user.php?id=1528295800&amp;extragetparams=%7B%22hc_location%22%3A%22friends_tab%22%7D\" data-hovercard-prefer-more-content-show=\"1\" href=\"https://www.facebook.com/tim.steele.79?fref=pb&amp;hc_location=friends_tab\">Tim Steele II</a>]"
      ]
     },
     "execution_count": 20,
     "metadata": {},
     "output_type": "execute_result"
    }
   ],
   "source": [
    "soup.select('._698 .fsl a') ##css selector 공통문법"
   ]
  },
  {
   "cell_type": "code",
   "execution_count": null,
   "metadata": {},
   "outputs": [],
   "source": [
    "for tag in range()\n",
    "soup.select('._698 .fsl a') ##css selector 공통문법"
   ]
  },
  {
   "cell_type": "code",
   "execution_count": null,
   "metadata": {},
   "outputs": [],
   "source": [
    "## scroll 하는법\n",
    "##F12누르고 콘솔가서 자바명령어를 입력\n",
    "## 현재화면의 현재높이를 끌어내는 자바 명령어\n",
    "\n"
   ]
  },
  {
   "cell_type": "code",
   "execution_count": null,
   "metadata": {},
   "outputs": [],
   "source": []
  },
  {
   "cell_type": "code",
   "execution_count": null,
   "metadata": {},
   "outputs": [],
   "source": []
  },
  {
   "cell_type": "code",
   "execution_count": null,
   "metadata": {},
   "outputs": [],
   "source": []
  },
  {
   "cell_type": "code",
   "execution_count": null,
   "metadata": {},
   "outputs": [],
   "source": [
    "##id\n",
    "<input type=\"email\" class=\"inputtext\" name=\"email\" id=\"email\" data-testid=\"royal_email\">"
   ]
  },
  {
   "cell_type": "code",
   "execution_count": null,
   "metadata": {},
   "outputs": [],
   "source": [
    "##pw\n",
    "<input type=\"password\" class=\"inputtext\" name=\"pass\" id=\"pass\" data-testid=\"royal_pass\">"
   ]
  },
  {
   "cell_type": "code",
   "execution_count": null,
   "metadata": {},
   "outputs": [],
   "source": []
  },
  {
   "cell_type": "code",
   "execution_count": null,
   "metadata": {},
   "outputs": [],
   "source": []
  }
 ],
 "metadata": {
  "kernelspec": {
   "display_name": "Python 3",
   "language": "python",
   "name": "python3"
  },
  "language_info": {
   "codemirror_mode": {
    "name": "ipython",
    "version": 3
   },
   "file_extension": ".py",
   "mimetype": "text/x-python",
   "name": "python",
   "nbconvert_exporter": "python",
   "pygments_lexer": "ipython3",
   "version": "3.7.0"
  }
 },
 "nbformat": 4,
 "nbformat_minor": 2
}
